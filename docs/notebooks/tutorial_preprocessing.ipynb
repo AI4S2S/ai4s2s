{
 "cells": [
  {
   "attachments": {},
   "cell_type": "markdown",
   "metadata": {},
   "source": [
    "### Using the basic preprocessing module of `s2spy`\n",
    "\n",
    "To start we need to import the `preprocess` module, and load in some example data (more details about the example data can be found [here](https://github.com/AI4S2S/cookbook/tree/main/data)).\n"
   ]
  },
  {
   "cell_type": "code",
   "execution_count": 1,
   "metadata": {},
   "outputs": [],
   "source": [
    "import urllib\n",
    "import xarray as xr\n",
    "from s2spy import preprocess\n",
    "import matplotlib.pyplot as plt"
   ]
  },
  {
   "cell_type": "code",
   "execution_count": 2,
   "metadata": {},
   "outputs": [],
   "source": [
    "# URL of the dataset from zenodo\n",
    "sst_url = \"https://zenodo.org/record/8186914/files/sst_daily_1959-2021_5deg_Pacific_175_240E_25_50N.nc\"\n",
    "sst_field = \"sst_daily_1959-2021_5deg_Pacific_175_240E_25_50N.nc\"\n",
    "urllib.request.urlretrieve(sst_url, sst_field)\n",
    "\n",
    "data = xr.open_dataset(sst_field)"
   ]
  },
  {
   "attachments": {},
   "cell_type": "markdown",
   "metadata": {},
   "source": [
    "The preprocessor is instatiated with the basic settings, the size of the rolling window, the detrending method, and if climatology should be removed from the data."
   ]
  },
  {
   "cell_type": "code",
   "execution_count": null,
   "metadata": {},
   "outputs": [],
   "source": [
    "preprocessor = preprocess.Preprocessor(\n",
    "    rolling_window_size=25,\n",
    "    detrend=\"linear\",\n",
    "    subtract_climatology=True,\n",
    ")"
   ]
  },
  {
   "attachments": {},
   "cell_type": "markdown",
   "metadata": {},
   "source": [
    "The preprocesssor can be fit to data, which updates the preprocessor object in place, storing the trend and climatology:"
   ]
  },
  {
   "cell_type": "code",
   "execution_count": null,
   "metadata": {},
   "outputs": [],
   "source": [
    "preprocessor.fit(data)"
   ]
  },
  {
   "cell_type": "code",
   "execution_count": null,
   "metadata": {},
   "outputs": [],
   "source": [
    "preprocessor.trend"
   ]
  },
  {
   "attachments": {},
   "cell_type": "markdown",
   "metadata": {},
   "source": [
    "Now the climatology and trend will be stored in `preprocessor`. \n",
    "\n",
    "In the example case the climatology of one location is stored as follows:"
   ]
  },
  {
   "cell_type": "code",
   "execution_count": null,
   "metadata": {},
   "outputs": [],
   "source": [
    "preprocessor.climatology[\"sst\"].isel(latitude=0, longitude=0).plot()"
   ]
  },
  {
   "attachments": {},
   "cell_type": "markdown",
   "metadata": {},
   "source": [
    "The trend has multiple components, depending on the method. The \"linear\" method has a slope and an intercept. (Currently, only linear detrending is implemented). \n",
    "\n",
    "The example data has already been detrended, so its slope is (basically) 0:"
   ]
  },
  {
   "cell_type": "code",
   "execution_count": null,
   "metadata": {},
   "outputs": [],
   "source": [
    "preprocessor.trend[\"slope\"].sst.isel(latitude=0, longitude=0).values"
   ]
  },
  {
   "attachments": {},
   "cell_type": "markdown",
   "metadata": {},
   "source": [
    "To apply the detrending and climatology removal to a dataset, the `transform` method is used:"
   ]
  },
  {
   "cell_type": "code",
   "execution_count": null,
   "metadata": {},
   "outputs": [],
   "source": [
    "preprocessed_data = preprocessor.transform(data)"
   ]
  },
  {
   "cell_type": "code",
   "execution_count": null,
   "metadata": {},
   "outputs": [],
   "source": [
    "fig, (ax1, ax2) = plt.subplots(nrows=2, figsize=(8, 6))\n",
    "data.sst.isel(latitude=0, longitude=0).plot(ax=ax1)\n",
    "preprocessed_data.sst.isel(latitude=0, longitude=0).plot(ax=ax2)\n",
    "fig.tight_layout()\n",
    "ax1.set_title(\"Original data\")\n",
    "ax2.set_title(\"Detrended and climatology removed\")"
   ]
  },
  {
   "cell_type": "code",
   "execution_count": null,
   "metadata": {},
   "outputs": [],
   "source": [
    "preprocessed_data.sst.sel(time=slice(\"1980-08-01\", \"1980-08-31\")).mean(dim=\"time\").plot()"
   ]
  },
  {
   "cell_type": "code",
   "execution_count": null,
   "metadata": {},
   "outputs": [],
   "source": []
  }
 ],
 "metadata": {
  "kernelspec": {
   "display_name": "s2spy",
   "language": "python",
   "name": "python3"
  },
  "language_info": {
   "codemirror_mode": {
    "name": "ipython",
    "version": 3
   },
   "file_extension": ".py",
   "mimetype": "text/x-python",
   "name": "python",
   "nbconvert_exporter": "python",
   "pygments_lexer": "ipython3",
   "version": "3.10.12"
  },
  "orig_nbformat": 4,
  "vscode": {
   "interpreter": {
    "hash": "24bfd5cef257fcd9fb94f6aad375a2a5cae96543896199e09d107b9070d3106a"
   }
  }
 },
 "nbformat": 4,
 "nbformat_minor": 2
}
