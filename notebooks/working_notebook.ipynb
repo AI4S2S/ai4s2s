{
 "cells": [
  {
   "cell_type": "code",
   "execution_count": 1,
   "metadata": {},
   "outputs": [],
   "source": [
    "import xarray as xr\n",
    "import numpy as np\n",
    "import pandas as pd\n",
    "import matplotlib.pyplot as plt\n",
    "\n",
    "import s2spy.time\n",
    "import s2spy.rgdr"
   ]
  },
  {
   "cell_type": "code",
   "execution_count": 2,
   "metadata": {},
   "outputs": [],
   "source": [
    "field = xr.open_dataset(r'C:\\Users\\BartSchilperoort\\temp\\rgdr_data\\sst_daily_1979-2018_5deg_Pacific_175_240E_25_50N.nc')\n",
    "target = xr.open_dataset(r'C:\\Users\\BartSchilperoort\\temp\\rgdr_data\\tf5_nc5_dendo_80d77.nc')\n",
    "\n",
    "cal = s2spy.time.AdventCalendar((8, 31), freq = \"30d\")\n",
    "field_resampled = cal.resample(field)\n",
    "target_resampled = cal.resample(target)"
   ]
  },
  {
   "cell_type": "code",
   "execution_count": 3,
   "metadata": {},
   "outputs": [],
   "source": [
    "target_timeseries = target_resampled.sel(cluster=3).ts"
   ]
  },
  {
   "cell_type": "code",
   "execution_count": 4,
   "metadata": {},
   "outputs": [
    {
     "data": {
      "text/html": [
       "<div><svg style=\"position: absolute; width: 0; height: 0; overflow: hidden\">\n",
       "<defs>\n",
       "<symbol id=\"icon-database\" viewBox=\"0 0 32 32\">\n",
       "<path d=\"M16 0c-8.837 0-16 2.239-16 5v4c0 2.761 7.163 5 16 5s16-2.239 16-5v-4c0-2.761-7.163-5-16-5z\"></path>\n",
       "<path d=\"M16 17c-8.837 0-16-2.239-16-5v6c0 2.761 7.163 5 16 5s16-2.239 16-5v-6c0 2.761-7.163 5-16 5z\"></path>\n",
       "<path d=\"M16 26c-8.837 0-16-2.239-16-5v6c0 2.761 7.163 5 16 5s16-2.239 16-5v-6c0 2.761-7.163 5-16 5z\"></path>\n",
       "</symbol>\n",
       "<symbol id=\"icon-file-text2\" viewBox=\"0 0 32 32\">\n",
       "<path d=\"M28.681 7.159c-0.694-0.947-1.662-2.053-2.724-3.116s-2.169-2.030-3.116-2.724c-1.612-1.182-2.393-1.319-2.841-1.319h-15.5c-1.378 0-2.5 1.121-2.5 2.5v27c0 1.378 1.122 2.5 2.5 2.5h23c1.378 0 2.5-1.122 2.5-2.5v-19.5c0-0.448-0.137-1.23-1.319-2.841zM24.543 5.457c0.959 0.959 1.712 1.825 2.268 2.543h-4.811v-4.811c0.718 0.556 1.584 1.309 2.543 2.268zM28 29.5c0 0.271-0.229 0.5-0.5 0.5h-23c-0.271 0-0.5-0.229-0.5-0.5v-27c0-0.271 0.229-0.5 0.5-0.5 0 0 15.499-0 15.5 0v7c0 0.552 0.448 1 1 1h7v19.5z\"></path>\n",
       "<path d=\"M23 26h-14c-0.552 0-1-0.448-1-1s0.448-1 1-1h14c0.552 0 1 0.448 1 1s-0.448 1-1 1z\"></path>\n",
       "<path d=\"M23 22h-14c-0.552 0-1-0.448-1-1s0.448-1 1-1h14c0.552 0 1 0.448 1 1s-0.448 1-1 1z\"></path>\n",
       "<path d=\"M23 18h-14c-0.552 0-1-0.448-1-1s0.448-1 1-1h14c0.552 0 1 0.448 1 1s-0.448 1-1 1z\"></path>\n",
       "</symbol>\n",
       "</defs>\n",
       "</svg>\n",
       "<style>/* CSS stylesheet for displaying xarray objects in jupyterlab.\n",
       " *\n",
       " */\n",
       "\n",
       ":root {\n",
       "  --xr-font-color0: var(--jp-content-font-color0, rgba(0, 0, 0, 1));\n",
       "  --xr-font-color2: var(--jp-content-font-color2, rgba(0, 0, 0, 0.54));\n",
       "  --xr-font-color3: var(--jp-content-font-color3, rgba(0, 0, 0, 0.38));\n",
       "  --xr-border-color: var(--jp-border-color2, #e0e0e0);\n",
       "  --xr-disabled-color: var(--jp-layout-color3, #bdbdbd);\n",
       "  --xr-background-color: var(--jp-layout-color0, white);\n",
       "  --xr-background-color-row-even: var(--jp-layout-color1, white);\n",
       "  --xr-background-color-row-odd: var(--jp-layout-color2, #eeeeee);\n",
       "}\n",
       "\n",
       "html[theme=dark],\n",
       "body.vscode-dark {\n",
       "  --xr-font-color0: rgba(255, 255, 255, 1);\n",
       "  --xr-font-color2: rgba(255, 255, 255, 0.54);\n",
       "  --xr-font-color3: rgba(255, 255, 255, 0.38);\n",
       "  --xr-border-color: #1F1F1F;\n",
       "  --xr-disabled-color: #515151;\n",
       "  --xr-background-color: #111111;\n",
       "  --xr-background-color-row-even: #111111;\n",
       "  --xr-background-color-row-odd: #313131;\n",
       "}\n",
       "\n",
       ".xr-wrap {\n",
       "  display: block !important;\n",
       "  min-width: 300px;\n",
       "  max-width: 700px;\n",
       "}\n",
       "\n",
       ".xr-text-repr-fallback {\n",
       "  /* fallback to plain text repr when CSS is not injected (untrusted notebook) */\n",
       "  display: none;\n",
       "}\n",
       "\n",
       ".xr-header {\n",
       "  padding-top: 6px;\n",
       "  padding-bottom: 6px;\n",
       "  margin-bottom: 4px;\n",
       "  border-bottom: solid 1px var(--xr-border-color);\n",
       "}\n",
       "\n",
       ".xr-header > div,\n",
       ".xr-header > ul {\n",
       "  display: inline;\n",
       "  margin-top: 0;\n",
       "  margin-bottom: 0;\n",
       "}\n",
       "\n",
       ".xr-obj-type,\n",
       ".xr-array-name {\n",
       "  margin-left: 2px;\n",
       "  margin-right: 10px;\n",
       "}\n",
       "\n",
       ".xr-obj-type {\n",
       "  color: var(--xr-font-color2);\n",
       "}\n",
       "\n",
       ".xr-sections {\n",
       "  padding-left: 0 !important;\n",
       "  display: grid;\n",
       "  grid-template-columns: 150px auto auto 1fr 20px 20px;\n",
       "}\n",
       "\n",
       ".xr-section-item {\n",
       "  display: contents;\n",
       "}\n",
       "\n",
       ".xr-section-item input {\n",
       "  display: none;\n",
       "}\n",
       "\n",
       ".xr-section-item input + label {\n",
       "  color: var(--xr-disabled-color);\n",
       "}\n",
       "\n",
       ".xr-section-item input:enabled + label {\n",
       "  cursor: pointer;\n",
       "  color: var(--xr-font-color2);\n",
       "}\n",
       "\n",
       ".xr-section-item input:enabled + label:hover {\n",
       "  color: var(--xr-font-color0);\n",
       "}\n",
       "\n",
       ".xr-section-summary {\n",
       "  grid-column: 1;\n",
       "  color: var(--xr-font-color2);\n",
       "  font-weight: 500;\n",
       "}\n",
       "\n",
       ".xr-section-summary > span {\n",
       "  display: inline-block;\n",
       "  padding-left: 0.5em;\n",
       "}\n",
       "\n",
       ".xr-section-summary-in:disabled + label {\n",
       "  color: var(--xr-font-color2);\n",
       "}\n",
       "\n",
       ".xr-section-summary-in + label:before {\n",
       "  display: inline-block;\n",
       "  content: '►';\n",
       "  font-size: 11px;\n",
       "  width: 15px;\n",
       "  text-align: center;\n",
       "}\n",
       "\n",
       ".xr-section-summary-in:disabled + label:before {\n",
       "  color: var(--xr-disabled-color);\n",
       "}\n",
       "\n",
       ".xr-section-summary-in:checked + label:before {\n",
       "  content: '▼';\n",
       "}\n",
       "\n",
       ".xr-section-summary-in:checked + label > span {\n",
       "  display: none;\n",
       "}\n",
       "\n",
       ".xr-section-summary,\n",
       ".xr-section-inline-details {\n",
       "  padding-top: 4px;\n",
       "  padding-bottom: 4px;\n",
       "}\n",
       "\n",
       ".xr-section-inline-details {\n",
       "  grid-column: 2 / -1;\n",
       "}\n",
       "\n",
       ".xr-section-details {\n",
       "  display: none;\n",
       "  grid-column: 1 / -1;\n",
       "  margin-bottom: 5px;\n",
       "}\n",
       "\n",
       ".xr-section-summary-in:checked ~ .xr-section-details {\n",
       "  display: contents;\n",
       "}\n",
       "\n",
       ".xr-array-wrap {\n",
       "  grid-column: 1 / -1;\n",
       "  display: grid;\n",
       "  grid-template-columns: 20px auto;\n",
       "}\n",
       "\n",
       ".xr-array-wrap > label {\n",
       "  grid-column: 1;\n",
       "  vertical-align: top;\n",
       "}\n",
       "\n",
       ".xr-preview {\n",
       "  color: var(--xr-font-color3);\n",
       "}\n",
       "\n",
       ".xr-array-preview,\n",
       ".xr-array-data {\n",
       "  padding: 0 5px !important;\n",
       "  grid-column: 2;\n",
       "}\n",
       "\n",
       ".xr-array-data,\n",
       ".xr-array-in:checked ~ .xr-array-preview {\n",
       "  display: none;\n",
       "}\n",
       "\n",
       ".xr-array-in:checked ~ .xr-array-data,\n",
       ".xr-array-preview {\n",
       "  display: inline-block;\n",
       "}\n",
       "\n",
       ".xr-dim-list {\n",
       "  display: inline-block !important;\n",
       "  list-style: none;\n",
       "  padding: 0 !important;\n",
       "  margin: 0;\n",
       "}\n",
       "\n",
       ".xr-dim-list li {\n",
       "  display: inline-block;\n",
       "  padding: 0;\n",
       "  margin: 0;\n",
       "}\n",
       "\n",
       ".xr-dim-list:before {\n",
       "  content: '(';\n",
       "}\n",
       "\n",
       ".xr-dim-list:after {\n",
       "  content: ')';\n",
       "}\n",
       "\n",
       ".xr-dim-list li:not(:last-child):after {\n",
       "  content: ',';\n",
       "  padding-right: 5px;\n",
       "}\n",
       "\n",
       ".xr-has-index {\n",
       "  font-weight: bold;\n",
       "}\n",
       "\n",
       ".xr-var-list,\n",
       ".xr-var-item {\n",
       "  display: contents;\n",
       "}\n",
       "\n",
       ".xr-var-item > div,\n",
       ".xr-var-item label,\n",
       ".xr-var-item > .xr-var-name span {\n",
       "  background-color: var(--xr-background-color-row-even);\n",
       "  margin-bottom: 0;\n",
       "}\n",
       "\n",
       ".xr-var-item > .xr-var-name:hover span {\n",
       "  padding-right: 5px;\n",
       "}\n",
       "\n",
       ".xr-var-list > li:nth-child(odd) > div,\n",
       ".xr-var-list > li:nth-child(odd) > label,\n",
       ".xr-var-list > li:nth-child(odd) > .xr-var-name span {\n",
       "  background-color: var(--xr-background-color-row-odd);\n",
       "}\n",
       "\n",
       ".xr-var-name {\n",
       "  grid-column: 1;\n",
       "}\n",
       "\n",
       ".xr-var-dims {\n",
       "  grid-column: 2;\n",
       "}\n",
       "\n",
       ".xr-var-dtype {\n",
       "  grid-column: 3;\n",
       "  text-align: right;\n",
       "  color: var(--xr-font-color2);\n",
       "}\n",
       "\n",
       ".xr-var-preview {\n",
       "  grid-column: 4;\n",
       "}\n",
       "\n",
       ".xr-var-name,\n",
       ".xr-var-dims,\n",
       ".xr-var-dtype,\n",
       ".xr-preview,\n",
       ".xr-attrs dt {\n",
       "  white-space: nowrap;\n",
       "  overflow: hidden;\n",
       "  text-overflow: ellipsis;\n",
       "  padding-right: 10px;\n",
       "}\n",
       "\n",
       ".xr-var-name:hover,\n",
       ".xr-var-dims:hover,\n",
       ".xr-var-dtype:hover,\n",
       ".xr-attrs dt:hover {\n",
       "  overflow: visible;\n",
       "  width: auto;\n",
       "  z-index: 1;\n",
       "}\n",
       "\n",
       ".xr-var-attrs,\n",
       ".xr-var-data {\n",
       "  display: none;\n",
       "  background-color: var(--xr-background-color) !important;\n",
       "  padding-bottom: 5px !important;\n",
       "}\n",
       "\n",
       ".xr-var-attrs-in:checked ~ .xr-var-attrs,\n",
       ".xr-var-data-in:checked ~ .xr-var-data {\n",
       "  display: block;\n",
       "}\n",
       "\n",
       ".xr-var-data > table {\n",
       "  float: right;\n",
       "}\n",
       "\n",
       ".xr-var-name span,\n",
       ".xr-var-data,\n",
       ".xr-attrs {\n",
       "  padding-left: 25px !important;\n",
       "}\n",
       "\n",
       ".xr-attrs,\n",
       ".xr-var-attrs,\n",
       ".xr-var-data {\n",
       "  grid-column: 1 / -1;\n",
       "}\n",
       "\n",
       "dl.xr-attrs {\n",
       "  padding: 0;\n",
       "  margin: 0;\n",
       "  display: grid;\n",
       "  grid-template-columns: 125px auto;\n",
       "}\n",
       "\n",
       ".xr-attrs dt,\n",
       ".xr-attrs dd {\n",
       "  padding: 0;\n",
       "  margin: 0;\n",
       "  float: left;\n",
       "  padding-right: 10px;\n",
       "  width: auto;\n",
       "}\n",
       "\n",
       ".xr-attrs dt {\n",
       "  font-weight: normal;\n",
       "  grid-column: 1;\n",
       "}\n",
       "\n",
       ".xr-attrs dt:hover span {\n",
       "  display: inline-block;\n",
       "  background: var(--xr-background-color);\n",
       "  padding-right: 10px;\n",
       "}\n",
       "\n",
       ".xr-attrs dd {\n",
       "  grid-column: 2;\n",
       "  white-space: pre-wrap;\n",
       "  word-break: break-all;\n",
       "}\n",
       "\n",
       ".xr-icon-database,\n",
       ".xr-icon-file-text2 {\n",
       "  display: inline-block;\n",
       "  vertical-align: middle;\n",
       "  width: 1em;\n",
       "  height: 1.5em !important;\n",
       "  stroke-width: 0;\n",
       "  stroke: currentColor;\n",
       "  fill: currentColor;\n",
       "}\n",
       "</style><pre class='xr-text-repr-fallback'>&lt;xarray.Dataset&gt;\n",
       "Dimensions:      (anchor_year: 39, i_interval: 12, latitude: 5, longitude: 13)\n",
       "Coordinates:\n",
       "    index        (anchor_year, i_interval) int64 0 1 2 3 4 ... 464 465 466 467\n",
       "    interval     (anchor_year, i_interval) object (1980-08-01, 1980-08-31] .....\n",
       "  * latitude     (latitude) float64 47.5 42.5 37.5 32.5 27.5\n",
       "  * longitude    (longitude) float64 177.5 182.5 187.5 ... 227.5 232.5 237.5\n",
       "  * anchor_year  (anchor_year) int64 1980 1981 1982 1983 ... 2015 2016 2017 2018\n",
       "  * i_interval   (i_interval) int64 0 1 2 3 4 5 6 7 8 9 10 11\n",
       "    target       (i_interval) bool True False False False ... False False False\n",
       "Data variables:\n",
       "    sst          (anchor_year, i_interval, latitude, longitude) float64 284.2...</pre><div class='xr-wrap' style='display:none'><div class='xr-header'><div class='xr-obj-type'>xarray.Dataset</div></div><ul class='xr-sections'><li class='xr-section-item'><input id='section-9e2944c7-1ae0-4844-b892-d415bd44d468' class='xr-section-summary-in' type='checkbox' disabled ><label for='section-9e2944c7-1ae0-4844-b892-d415bd44d468' class='xr-section-summary'  title='Expand/collapse section'>Dimensions:</label><div class='xr-section-inline-details'><ul class='xr-dim-list'><li><span class='xr-has-index'>anchor_year</span>: 39</li><li><span class='xr-has-index'>i_interval</span>: 12</li><li><span class='xr-has-index'>latitude</span>: 5</li><li><span class='xr-has-index'>longitude</span>: 13</li></ul></div><div class='xr-section-details'></div></li><li class='xr-section-item'><input id='section-4cbe6768-6860-4184-9206-4c6946e8c3ca' class='xr-section-summary-in' type='checkbox'  checked><label for='section-4cbe6768-6860-4184-9206-4c6946e8c3ca' class='xr-section-summary' >Coordinates: <span>(7)</span></label><div class='xr-section-inline-details'></div><div class='xr-section-details'><ul class='xr-var-list'><li class='xr-var-item'><div class='xr-var-name'><span>index</span></div><div class='xr-var-dims'>(anchor_year, i_interval)</div><div class='xr-var-dtype'>int64</div><div class='xr-var-preview xr-preview'>0 1 2 3 4 5 ... 463 464 465 466 467</div><input id='attrs-6a942bf3-e76f-4978-8a54-9f0f4666a871' class='xr-var-attrs-in' type='checkbox' disabled><label for='attrs-6a942bf3-e76f-4978-8a54-9f0f4666a871' title='Show/Hide attributes'><svg class='icon xr-icon-file-text2'><use xlink:href='#icon-file-text2'></use></svg></label><input id='data-e014d8f4-25fd-401c-a6e8-8e54bc8a675f' class='xr-var-data-in' type='checkbox'><label for='data-e014d8f4-25fd-401c-a6e8-8e54bc8a675f' title='Show/Hide data repr'><svg class='icon xr-icon-database'><use xlink:href='#icon-database'></use></svg></label><div class='xr-var-attrs'><dl class='xr-attrs'></dl></div><div class='xr-var-data'><pre>array([[  0,   1,   2,   3,   4,   5,   6,   7,   8,   9,  10,  11],\n",
       "       [ 12,  13,  14,  15,  16,  17,  18,  19,  20,  21,  22,  23],\n",
       "       [ 24,  25,  26,  27,  28,  29,  30,  31,  32,  33,  34,  35],\n",
       "       [ 36,  37,  38,  39,  40,  41,  42,  43,  44,  45,  46,  47],\n",
       "       [ 48,  49,  50,  51,  52,  53,  54,  55,  56,  57,  58,  59],\n",
       "       [ 60,  61,  62,  63,  64,  65,  66,  67,  68,  69,  70,  71],\n",
       "       [ 72,  73,  74,  75,  76,  77,  78,  79,  80,  81,  82,  83],\n",
       "       [ 84,  85,  86,  87,  88,  89,  90,  91,  92,  93,  94,  95],\n",
       "       [ 96,  97,  98,  99, 100, 101, 102, 103, 104, 105, 106, 107],\n",
       "       [108, 109, 110, 111, 112, 113, 114, 115, 116, 117, 118, 119],\n",
       "       [120, 121, 122, 123, 124, 125, 126, 127, 128, 129, 130, 131],\n",
       "       [132, 133, 134, 135, 136, 137, 138, 139, 140, 141, 142, 143],\n",
       "       [144, 145, 146, 147, 148, 149, 150, 151, 152, 153, 154, 155],\n",
       "       [156, 157, 158, 159, 160, 161, 162, 163, 164, 165, 166, 167],\n",
       "       [168, 169, 170, 171, 172, 173, 174, 175, 176, 177, 178, 179],\n",
       "       [180, 181, 182, 183, 184, 185, 186, 187, 188, 189, 190, 191],\n",
       "       [192, 193, 194, 195, 196, 197, 198, 199, 200, 201, 202, 203],\n",
       "       [204, 205, 206, 207, 208, 209, 210, 211, 212, 213, 214, 215],\n",
       "       [216, 217, 218, 219, 220, 221, 222, 223, 224, 225, 226, 227],\n",
       "       [228, 229, 230, 231, 232, 233, 234, 235, 236, 237, 238, 239],\n",
       "       [240, 241, 242, 243, 244, 245, 246, 247, 248, 249, 250, 251],\n",
       "       [252, 253, 254, 255, 256, 257, 258, 259, 260, 261, 262, 263],\n",
       "       [264, 265, 266, 267, 268, 269, 270, 271, 272, 273, 274, 275],\n",
       "       [276, 277, 278, 279, 280, 281, 282, 283, 284, 285, 286, 287],\n",
       "       [288, 289, 290, 291, 292, 293, 294, 295, 296, 297, 298, 299],\n",
       "       [300, 301, 302, 303, 304, 305, 306, 307, 308, 309, 310, 311],\n",
       "       [312, 313, 314, 315, 316, 317, 318, 319, 320, 321, 322, 323],\n",
       "       [324, 325, 326, 327, 328, 329, 330, 331, 332, 333, 334, 335],\n",
       "       [336, 337, 338, 339, 340, 341, 342, 343, 344, 345, 346, 347],\n",
       "       [348, 349, 350, 351, 352, 353, 354, 355, 356, 357, 358, 359],\n",
       "       [360, 361, 362, 363, 364, 365, 366, 367, 368, 369, 370, 371],\n",
       "       [372, 373, 374, 375, 376, 377, 378, 379, 380, 381, 382, 383],\n",
       "       [384, 385, 386, 387, 388, 389, 390, 391, 392, 393, 394, 395],\n",
       "       [396, 397, 398, 399, 400, 401, 402, 403, 404, 405, 406, 407],\n",
       "       [408, 409, 410, 411, 412, 413, 414, 415, 416, 417, 418, 419],\n",
       "       [420, 421, 422, 423, 424, 425, 426, 427, 428, 429, 430, 431],\n",
       "       [432, 433, 434, 435, 436, 437, 438, 439, 440, 441, 442, 443],\n",
       "       [444, 445, 446, 447, 448, 449, 450, 451, 452, 453, 454, 455],\n",
       "       [456, 457, 458, 459, 460, 461, 462, 463, 464, 465, 466, 467]],\n",
       "      dtype=int64)</pre></div></li><li class='xr-var-item'><div class='xr-var-name'><span>interval</span></div><div class='xr-var-dims'>(anchor_year, i_interval)</div><div class='xr-var-dtype'>object</div><div class='xr-var-preview xr-preview'>(1980-08-01, 1980-08-31] ... (20...</div><input id='attrs-6c705498-ad67-4eea-8a02-97b9bd276224' class='xr-var-attrs-in' type='checkbox' disabled><label for='attrs-6c705498-ad67-4eea-8a02-97b9bd276224' title='Show/Hide attributes'><svg class='icon xr-icon-file-text2'><use xlink:href='#icon-file-text2'></use></svg></label><input id='data-fd55dec6-e326-4a29-a09d-d94f1a9f488f' class='xr-var-data-in' type='checkbox'><label for='data-fd55dec6-e326-4a29-a09d-d94f1a9f488f' title='Show/Hide data repr'><svg class='icon xr-icon-database'><use xlink:href='#icon-database'></use></svg></label><div class='xr-var-attrs'><dl class='xr-attrs'></dl></div><div class='xr-var-data'><pre>array([[Interval(&#x27;1980-08-01&#x27;, &#x27;1980-08-31&#x27;, closed=&#x27;right&#x27;),\n",
       "        Interval(&#x27;1980-07-02&#x27;, &#x27;1980-08-01&#x27;, closed=&#x27;right&#x27;),\n",
       "        Interval(&#x27;1980-06-02&#x27;, &#x27;1980-07-02&#x27;, closed=&#x27;right&#x27;),\n",
       "        Interval(&#x27;1980-05-03&#x27;, &#x27;1980-06-02&#x27;, closed=&#x27;right&#x27;),\n",
       "        Interval(&#x27;1980-04-03&#x27;, &#x27;1980-05-03&#x27;, closed=&#x27;right&#x27;),\n",
       "        Interval(&#x27;1980-03-04&#x27;, &#x27;1980-04-03&#x27;, closed=&#x27;right&#x27;),\n",
       "        Interval(&#x27;1980-02-03&#x27;, &#x27;1980-03-04&#x27;, closed=&#x27;right&#x27;),\n",
       "        Interval(&#x27;1980-01-04&#x27;, &#x27;1980-02-03&#x27;, closed=&#x27;right&#x27;),\n",
       "        Interval(&#x27;1979-12-05&#x27;, &#x27;1980-01-04&#x27;, closed=&#x27;right&#x27;),\n",
       "        Interval(&#x27;1979-11-05&#x27;, &#x27;1979-12-05&#x27;, closed=&#x27;right&#x27;),\n",
       "        Interval(&#x27;1979-10-06&#x27;, &#x27;1979-11-05&#x27;, closed=&#x27;right&#x27;),\n",
       "        Interval(&#x27;1979-09-06&#x27;, &#x27;1979-10-06&#x27;, closed=&#x27;right&#x27;)],\n",
       "       [Interval(&#x27;1981-08-01&#x27;, &#x27;1981-08-31&#x27;, closed=&#x27;right&#x27;),\n",
       "        Interval(&#x27;1981-07-02&#x27;, &#x27;1981-08-01&#x27;, closed=&#x27;right&#x27;),\n",
       "        Interval(&#x27;1981-06-02&#x27;, &#x27;1981-07-02&#x27;, closed=&#x27;right&#x27;),\n",
       "        Interval(&#x27;1981-05-03&#x27;, &#x27;1981-06-02&#x27;, closed=&#x27;right&#x27;),\n",
       "        Interval(&#x27;1981-04-03&#x27;, &#x27;1981-05-03&#x27;, closed=&#x27;right&#x27;),\n",
       "        Interval(&#x27;1981-03-04&#x27;, &#x27;1981-04-03&#x27;, closed=&#x27;right&#x27;),\n",
       "        Interval(&#x27;1981-02-02&#x27;, &#x27;1981-03-04&#x27;, closed=&#x27;right&#x27;),\n",
       "        Interval(&#x27;1981-01-03&#x27;, &#x27;1981-02-02&#x27;, closed=&#x27;right&#x27;),\n",
       "...\n",
       "        Interval(&#x27;2017-03-04&#x27;, &#x27;2017-04-03&#x27;, closed=&#x27;right&#x27;),\n",
       "        Interval(&#x27;2017-02-02&#x27;, &#x27;2017-03-04&#x27;, closed=&#x27;right&#x27;),\n",
       "        Interval(&#x27;2017-01-03&#x27;, &#x27;2017-02-02&#x27;, closed=&#x27;right&#x27;),\n",
       "        Interval(&#x27;2016-12-04&#x27;, &#x27;2017-01-03&#x27;, closed=&#x27;right&#x27;),\n",
       "        Interval(&#x27;2016-11-04&#x27;, &#x27;2016-12-04&#x27;, closed=&#x27;right&#x27;),\n",
       "        Interval(&#x27;2016-10-05&#x27;, &#x27;2016-11-04&#x27;, closed=&#x27;right&#x27;),\n",
       "        Interval(&#x27;2016-09-05&#x27;, &#x27;2016-10-05&#x27;, closed=&#x27;right&#x27;)],\n",
       "       [Interval(&#x27;2018-08-01&#x27;, &#x27;2018-08-31&#x27;, closed=&#x27;right&#x27;),\n",
       "        Interval(&#x27;2018-07-02&#x27;, &#x27;2018-08-01&#x27;, closed=&#x27;right&#x27;),\n",
       "        Interval(&#x27;2018-06-02&#x27;, &#x27;2018-07-02&#x27;, closed=&#x27;right&#x27;),\n",
       "        Interval(&#x27;2018-05-03&#x27;, &#x27;2018-06-02&#x27;, closed=&#x27;right&#x27;),\n",
       "        Interval(&#x27;2018-04-03&#x27;, &#x27;2018-05-03&#x27;, closed=&#x27;right&#x27;),\n",
       "        Interval(&#x27;2018-03-04&#x27;, &#x27;2018-04-03&#x27;, closed=&#x27;right&#x27;),\n",
       "        Interval(&#x27;2018-02-02&#x27;, &#x27;2018-03-04&#x27;, closed=&#x27;right&#x27;),\n",
       "        Interval(&#x27;2018-01-03&#x27;, &#x27;2018-02-02&#x27;, closed=&#x27;right&#x27;),\n",
       "        Interval(&#x27;2017-12-04&#x27;, &#x27;2018-01-03&#x27;, closed=&#x27;right&#x27;),\n",
       "        Interval(&#x27;2017-11-04&#x27;, &#x27;2017-12-04&#x27;, closed=&#x27;right&#x27;),\n",
       "        Interval(&#x27;2017-10-05&#x27;, &#x27;2017-11-04&#x27;, closed=&#x27;right&#x27;),\n",
       "        Interval(&#x27;2017-09-05&#x27;, &#x27;2017-10-05&#x27;, closed=&#x27;right&#x27;)]],\n",
       "      dtype=object)</pre></div></li><li class='xr-var-item'><div class='xr-var-name'><span class='xr-has-index'>latitude</span></div><div class='xr-var-dims'>(latitude)</div><div class='xr-var-dtype'>float64</div><div class='xr-var-preview xr-preview'>47.5 42.5 37.5 32.5 27.5</div><input id='attrs-f1b74198-8034-4333-89a8-4e7cc2052e7a' class='xr-var-attrs-in' type='checkbox' disabled><label for='attrs-f1b74198-8034-4333-89a8-4e7cc2052e7a' title='Show/Hide attributes'><svg class='icon xr-icon-file-text2'><use xlink:href='#icon-file-text2'></use></svg></label><input id='data-6364385e-0cb6-4406-8e2d-babe817a7a7b' class='xr-var-data-in' type='checkbox'><label for='data-6364385e-0cb6-4406-8e2d-babe817a7a7b' title='Show/Hide data repr'><svg class='icon xr-icon-database'><use xlink:href='#icon-database'></use></svg></label><div class='xr-var-attrs'><dl class='xr-attrs'></dl></div><div class='xr-var-data'><pre>array([47.5, 42.5, 37.5, 32.5, 27.5])</pre></div></li><li class='xr-var-item'><div class='xr-var-name'><span class='xr-has-index'>longitude</span></div><div class='xr-var-dims'>(longitude)</div><div class='xr-var-dtype'>float64</div><div class='xr-var-preview xr-preview'>177.5 182.5 187.5 ... 232.5 237.5</div><input id='attrs-a4c482a8-3d66-4025-8558-62a9052a5380' class='xr-var-attrs-in' type='checkbox' disabled><label for='attrs-a4c482a8-3d66-4025-8558-62a9052a5380' title='Show/Hide attributes'><svg class='icon xr-icon-file-text2'><use xlink:href='#icon-file-text2'></use></svg></label><input id='data-e4c341ce-dc4c-4801-ae6e-a40b67be17ab' class='xr-var-data-in' type='checkbox'><label for='data-e4c341ce-dc4c-4801-ae6e-a40b67be17ab' title='Show/Hide data repr'><svg class='icon xr-icon-database'><use xlink:href='#icon-database'></use></svg></label><div class='xr-var-attrs'><dl class='xr-attrs'></dl></div><div class='xr-var-data'><pre>array([177.5, 182.5, 187.5, 192.5, 197.5, 202.5, 207.5, 212.5, 217.5, 222.5,\n",
       "       227.5, 232.5, 237.5])</pre></div></li><li class='xr-var-item'><div class='xr-var-name'><span class='xr-has-index'>anchor_year</span></div><div class='xr-var-dims'>(anchor_year)</div><div class='xr-var-dtype'>int64</div><div class='xr-var-preview xr-preview'>1980 1981 1982 ... 2016 2017 2018</div><input id='attrs-67a67557-2028-42ea-a36e-56d5603c821d' class='xr-var-attrs-in' type='checkbox' disabled><label for='attrs-67a67557-2028-42ea-a36e-56d5603c821d' title='Show/Hide attributes'><svg class='icon xr-icon-file-text2'><use xlink:href='#icon-file-text2'></use></svg></label><input id='data-8490ff2e-9c0d-4bf2-837c-154dc2fbd045' class='xr-var-data-in' type='checkbox'><label for='data-8490ff2e-9c0d-4bf2-837c-154dc2fbd045' title='Show/Hide data repr'><svg class='icon xr-icon-database'><use xlink:href='#icon-database'></use></svg></label><div class='xr-var-attrs'><dl class='xr-attrs'></dl></div><div class='xr-var-data'><pre>array([1980, 1981, 1982, 1983, 1984, 1985, 1986, 1987, 1988, 1989, 1990, 1991,\n",
       "       1992, 1993, 1994, 1995, 1996, 1997, 1998, 1999, 2000, 2001, 2002, 2003,\n",
       "       2004, 2005, 2006, 2007, 2008, 2009, 2010, 2011, 2012, 2013, 2014, 2015,\n",
       "       2016, 2017, 2018], dtype=int64)</pre></div></li><li class='xr-var-item'><div class='xr-var-name'><span class='xr-has-index'>i_interval</span></div><div class='xr-var-dims'>(i_interval)</div><div class='xr-var-dtype'>int64</div><div class='xr-var-preview xr-preview'>0 1 2 3 4 5 6 7 8 9 10 11</div><input id='attrs-d860fcca-e7e2-45cd-9fb2-0cd215171a32' class='xr-var-attrs-in' type='checkbox' disabled><label for='attrs-d860fcca-e7e2-45cd-9fb2-0cd215171a32' title='Show/Hide attributes'><svg class='icon xr-icon-file-text2'><use xlink:href='#icon-file-text2'></use></svg></label><input id='data-63cafd43-c6ef-497b-a7a7-5ef7b9718e0f' class='xr-var-data-in' type='checkbox'><label for='data-63cafd43-c6ef-497b-a7a7-5ef7b9718e0f' title='Show/Hide data repr'><svg class='icon xr-icon-database'><use xlink:href='#icon-database'></use></svg></label><div class='xr-var-attrs'><dl class='xr-attrs'></dl></div><div class='xr-var-data'><pre>array([ 0,  1,  2,  3,  4,  5,  6,  7,  8,  9, 10, 11], dtype=int64)</pre></div></li><li class='xr-var-item'><div class='xr-var-name'><span>target</span></div><div class='xr-var-dims'>(i_interval)</div><div class='xr-var-dtype'>bool</div><div class='xr-var-preview xr-preview'>True False False ... False False</div><input id='attrs-def46d79-ffe2-442d-9579-ae2fb63588d1' class='xr-var-attrs-in' type='checkbox' disabled><label for='attrs-def46d79-ffe2-442d-9579-ae2fb63588d1' title='Show/Hide attributes'><svg class='icon xr-icon-file-text2'><use xlink:href='#icon-file-text2'></use></svg></label><input id='data-34e47735-4f49-4437-a6f3-65f4ab3dd5e8' class='xr-var-data-in' type='checkbox'><label for='data-34e47735-4f49-4437-a6f3-65f4ab3dd5e8' title='Show/Hide data repr'><svg class='icon xr-icon-database'><use xlink:href='#icon-database'></use></svg></label><div class='xr-var-attrs'><dl class='xr-attrs'></dl></div><div class='xr-var-data'><pre>array([ True, False, False, False, False, False, False, False, False,\n",
       "       False, False, False])</pre></div></li></ul></div></li><li class='xr-section-item'><input id='section-6e45c0dd-65c0-4c9b-9456-369bdc2c54bf' class='xr-section-summary-in' type='checkbox'  checked><label for='section-6e45c0dd-65c0-4c9b-9456-369bdc2c54bf' class='xr-section-summary' >Data variables: <span>(1)</span></label><div class='xr-section-inline-details'></div><div class='xr-section-details'><ul class='xr-var-list'><li class='xr-var-item'><div class='xr-var-name'><span>sst</span></div><div class='xr-var-dims'>(anchor_year, i_interval, latitude, longitude)</div><div class='xr-var-dtype'>float64</div><div class='xr-var-preview xr-preview'>284.2 284.6 284.9 ... 295.1 294.8</div><input id='attrs-06603c2c-c0a5-442a-98e0-b2f4e53d20ba' class='xr-var-attrs-in' type='checkbox' disabled><label for='attrs-06603c2c-c0a5-442a-98e0-b2f4e53d20ba' title='Show/Hide attributes'><svg class='icon xr-icon-file-text2'><use xlink:href='#icon-file-text2'></use></svg></label><input id='data-710a685a-c712-4cab-b66e-a4968f9d2c23' class='xr-var-data-in' type='checkbox'><label for='data-710a685a-c712-4cab-b66e-a4968f9d2c23' title='Show/Hide data repr'><svg class='icon xr-icon-database'><use xlink:href='#icon-database'></use></svg></label><div class='xr-var-attrs'><dl class='xr-attrs'></dl></div><div class='xr-var-data'><pre>array([[[[284.21141968, 284.60114644, 284.9212087 , ..., 288.05801595,\n",
       "          288.76474915,          nan],\n",
       "         [290.00809428, 290.47044169, 291.04628601, ..., 290.42871908,\n",
       "          288.71849976,          nan],\n",
       "         [296.10618388, 295.56154582, 295.98381551, ..., 291.36407776,\n",
       "          289.38329061,          nan],\n",
       "         [298.44655457, 298.28300883, 298.44641724, ..., 292.7240977 ,\n",
       "          291.84608866, 291.30296122],\n",
       "         [300.20553284, 299.90429688, 299.52007243, ..., 294.57577108,\n",
       "          294.11313477, 294.78728739]],\n",
       "\n",
       "        [[281.69176839, 282.36223653, 282.63593445, ..., 286.76498108,\n",
       "          288.20297343,          nan],\n",
       "         [286.9986674 , 288.24412537, 288.49135132, ..., 288.82235819,\n",
       "          287.4075887 ,          nan],\n",
       "         [294.37841899, 294.34992981, 294.10915222, ..., 290.10051982,\n",
       "          288.7737264 ,          nan],\n",
       "         [298.23329773, 297.96685791, 297.75141805, ..., 292.21421509,\n",
       "          291.07962646, 289.92159119],\n",
       "         [300.49864095, 299.78132528, 299.26354167, ..., 294.05830282,\n",
       "...\n",
       "          287.76142985,          nan],\n",
       "         [288.06269735, 288.01557922, 287.40404765, ..., 290.38401286,\n",
       "          288.88281352,          nan],\n",
       "         [294.47946065, 293.63181864, 292.97711385, ..., 291.98397319,\n",
       "          290.1965861 ,          nan],\n",
       "         [297.35154012, 297.04137065, 296.45055949, ..., 293.39662374,\n",
       "          292.07106425, 291.64123535],\n",
       "         [300.23115845, 299.32375183, 299.15152486, ..., 294.97173767,\n",
       "          294.37171326, 294.31433614]],\n",
       "\n",
       "        [[284.65135396, 284.8360321 , 284.9401123 , ..., 289.74273275,\n",
       "          290.42215881,          nan],\n",
       "         [290.35401103, 290.24127604, 289.500236  , ..., 292.27547506,\n",
       "          290.73305664,          nan],\n",
       "         [297.37559408, 295.9420756 , 295.05696004, ..., 293.28416138,\n",
       "          291.18582662,          nan],\n",
       "         [299.43223368, 298.94459229, 298.43967794, ..., 294.13924052,\n",
       "          292.84486186, 292.30426534],\n",
       "         [301.34381409, 300.83740641, 300.74244181, ..., 295.86767782,\n",
       "          295.12561137, 294.76013896]]]])</pre></div></li></ul></div></li><li class='xr-section-item'><input id='section-d1fb5eb6-c0db-4d5b-a16c-146222811d7a' class='xr-section-summary-in' type='checkbox' disabled ><label for='section-d1fb5eb6-c0db-4d5b-a16c-146222811d7a' class='xr-section-summary'  title='Expand/collapse section'>Attributes: <span>(0)</span></label><div class='xr-section-inline-details'></div><div class='xr-section-details'><dl class='xr-attrs'></dl></div></li></ul></div></div>"
      ],
      "text/plain": [
       "<xarray.Dataset>\n",
       "Dimensions:      (anchor_year: 39, i_interval: 12, latitude: 5, longitude: 13)\n",
       "Coordinates:\n",
       "    index        (anchor_year, i_interval) int64 0 1 2 3 4 ... 464 465 466 467\n",
       "    interval     (anchor_year, i_interval) object (1980-08-01, 1980-08-31] .....\n",
       "  * latitude     (latitude) float64 47.5 42.5 37.5 32.5 27.5\n",
       "  * longitude    (longitude) float64 177.5 182.5 187.5 ... 227.5 232.5 237.5\n",
       "  * anchor_year  (anchor_year) int64 1980 1981 1982 1983 ... 2015 2016 2017 2018\n",
       "  * i_interval   (i_interval) int64 0 1 2 3 4 5 6 7 8 9 10 11\n",
       "    target       (i_interval) bool True False False False ... False False False\n",
       "Data variables:\n",
       "    sst          (anchor_year, i_interval, latitude, longitude) float64 284.2..."
      ]
     },
     "execution_count": 4,
     "metadata": {},
     "output_type": "execute_result"
    }
   ],
   "source": [
    "field_resampled"
   ]
  },
  {
   "cell_type": "markdown",
   "metadata": {},
   "source": [
    "Determine correlation coefficient and p-values"
   ]
  },
  {
   "cell_type": "code",
   "execution_count": 5,
   "metadata": {},
   "outputs": [],
   "source": [
    "field_resampled['corr'], field_resampled['p_val'] = \\\n",
    "    s2spy.rgdr._map_analysis.correlation(field_resampled.sst,\n",
    "                                         target_timeseries.sel(i_interval=0),\n",
    "                                         corr_dim='anchor_year')"
   ]
  },
  {
   "cell_type": "code",
   "execution_count": 6,
   "metadata": {},
   "outputs": [
    {
     "data": {
      "text/plain": [
       "<matplotlib.collections.QuadMesh at 0x22d0e0ab400>"
      ]
     },
     "execution_count": 6,
     "metadata": {},
     "output_type": "execute_result"
    },
    {
     "data": {
      "image/png": "[encoded data removed]",
      "text/plain": [
       "<Figure size 432x288 with 2 Axes>"
      ]
     },
     "metadata": {
      "needs_background": "light"
     },
     "output_type": "display_data"
    }
   ],
   "source": [
    "field_resampled['corr'].mean(dim='i_interval').plot()"
   ]
  },
  {
   "cell_type": "code",
   "execution_count": 7,
   "metadata": {},
   "outputs": [
    {
     "data": {
      "text/plain": [
       "<matplotlib.collections.QuadMesh at 0x22d0f64e980>"
      ]
     },
     "execution_count": 7,
     "metadata": {},
     "output_type": "execute_result"
    },
    {
     "data": {
      "image/png": "[encoded data removed]",
      "text/plain": [
       "<Figure size 432x288 with 2 Axes>"
      ]
     },
     "metadata": {
      "needs_background": "light"
     },
     "output_type": "display_data"
    }
   ],
   "source": [
    "(field_resampled['p_val'] < 0.05).all(dim='i_interval').plot()"
   ]
  },
  {
   "cell_type": "markdown",
   "metadata": {},
   "source": [
    "Plot `lag 1` correlation map:"
   ]
  },
  {
   "cell_type": "code",
   "execution_count": 8,
   "metadata": {},
   "outputs": [
    {
     "data": {
      "text/plain": [
       "<matplotlib.collections.QuadMesh at 0x22d0f5e2bc0>"
      ]
     },
     "execution_count": 8,
     "metadata": {},
     "output_type": "execute_result"
    },
    {
     "data": {
      "image/png": "[encoded data removed]",
      "text/plain": [
       "<Figure size 648x216 with 2 Axes>"
      ]
     },
     "metadata": {
      "needs_background": "light"
     },
     "output_type": "display_data"
    }
   ],
   "source": [
    "#field_resampled.corr.sel(i_interval=20).plot()\n",
    "field_resampled.corr.sel(i_interval=1).plot(cmap='viridis', size=3, aspect=3)"
   ]
  },
  {
   "cell_type": "markdown",
   "metadata": {},
   "source": [
    "Cluster with `DBSCAN`"
   ]
  },
  {
   "cell_type": "code",
   "execution_count": 9,
   "metadata": {},
   "outputs": [
    {
     "data": {
      "text/plain": [
       "<matplotlib.collections.QuadMesh at 0x22d0f592cb0>"
      ]
     },
     "execution_count": 9,
     "metadata": {},
     "output_type": "execute_result"
    },
    {
     "data": {
      "image/png": "[encoded data removed]",
      "text/plain": [
       "<Figure size 648x216 with 2 Axes>"
      ]
     },
     "metadata": {
      "needs_background": "light"
     },
     "output_type": "display_data"
    }
   ],
   "source": [
    "import s2spy.rgdr\n",
    "\n",
    "clusters = s2spy.rgdr._map_regions.dbscan(field_resampled.sel(i_interval=1),\n",
    "                                          eps_km=600, alpha=0.04)\n",
    "\n",
    "clusters.cluster_labels.plot(cmap='viridis', size=3, aspect=3)\n"
   ]
  },
  {
   "cell_type": "code",
   "execution_count": 10,
   "metadata": {},
   "outputs": [
    {
     "data": {
      "text/plain": [
       "[<matplotlib.lines.Line2D at 0x22d0fc8ecb0>]"
      ]
     },
     "execution_count": 10,
     "metadata": {},
     "output_type": "execute_result"
    },
    {
     "data": {
      "image/png": "[encoded data removed]",
      "text/plain": [
       "<Figure size 432x288 with 1 Axes>"
      ]
     },
     "metadata": {
      "needs_background": "light"
     },
     "output_type": "display_data"
    }
   ],
   "source": [
    "clustered_data = s2spy.rgdr._map_regions.cluster(field_resampled.sel(i_interval=1),\n",
    "                                                 eps_km=600, alpha=0.04)\n",
    "\n",
    "clustered_data['sst'] -= clustered_data['sst'].mean(dim='anchor_year')\n",
    "\n",
    "clustered_data['sst'].sel(cluster_labels=1).plot.line(x='anchor_year')\n",
    "clustered_data['sst'].sel(cluster_labels=-1).plot.line(x='anchor_year')\n"
   ]
  },
  {
   "cell_type": "code",
   "execution_count": 11,
   "metadata": {},
   "outputs": [],
   "source": [
    "n_intervals = 12\n",
    "cdata = [0]*n_intervals\n",
    "for interval in range(n_intervals):\n",
    "    cdata[interval] = s2spy.rgdr._map_regions.cluster(\n",
    "        field_resampled.sel(i_interval=interval), eps_km=600, alpha=0.05)\n",
    "\n"
   ]
  },
  {
   "cell_type": "code",
   "execution_count": 12,
   "metadata": {},
   "outputs": [
    {
     "data": {
      "text/plain": [
       "[array([-1.,  0.]),\n",
       " array([-2., -1.,  0.,  1.]),\n",
       " array([-1.,  0.,  1.]),\n",
       " array([-1.,  0.,  1.]),\n",
       " array([-2., -1.,  0.]),\n",
       " array([-2., -1.,  0.]),\n",
       " array([-3., -2., -1.,  0.]),\n",
       " array([-1.,  0.]),\n",
       " array([-1.,  0.]),\n",
       " array([-1.,  0.]),\n",
       " array([0.]),\n",
       " array([-1.,  0.])]"
      ]
     },
     "execution_count": 12,
     "metadata": {},
     "output_type": "execute_result"
    }
   ],
   "source": [
    "[c.cluster_labels.values for c in cdata]"
   ]
  },
  {
   "cell_type": "code",
   "execution_count": null,
   "metadata": {},
   "outputs": [],
   "source": []
  }
 ],
 "metadata": {
  "kernelspec": {
   "display_name": "Python 3.10.5 ('ai4s2s')",
   "language": "python",
   "name": "python3"
  },
  "language_info": {
   "codemirror_mode": {
    "name": "ipython",
    "version": 3
   },
   "file_extension": ".py",
   "mimetype": "text/x-python",
   "name": "python",
   "nbconvert_exporter": "python",
   "pygments_lexer": "ipython3",
   "version": "3.10.5"
  },
  "orig_nbformat": 4,
  "vscode": {
   "interpreter": {
    "hash": "a87ac8a6238ac8fffcd070769ea0ffc634a0ba702c52b706c3554dda7777b3fd"
   }
  }
 },
 "nbformat": 4,
 "nbformat_minor": 2
}
