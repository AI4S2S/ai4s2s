{
 "cells": [
  {
   "cell_type": "markdown",
   "metadata": {},
   "source": [
    "Tutorial of different types of calendar supported in `s2s` package."
   ]
  },
  {
   "cell_type": "code",
   "execution_count": 18,
   "metadata": {},
   "outputs": [],
   "source": [
    "import numpy as np\n",
    "import pandas as pd\n",
    "import s2spy.time"
   ]
  },
  {
   "cell_type": "markdown",
   "metadata": {},
   "source": [
    "Tutorial of `MonthlyCalendar` module in `s2s` package."
   ]
  },
  {
   "cell_type": "markdown",
   "metadata": {},
   "source": [
    "Create MonthlyCalendar instance."
   ]
  },
  {
   "cell_type": "code",
   "execution_count": 19,
   "metadata": {},
   "outputs": [
    {
     "data": {
      "text/plain": [
       "s2spy.time.MonthlyCalendar(\n",
       "    anchor='04-12',\n",
       "    freq='2M',\n",
       "    n_targets=1,\n",
       "    max_lag=0,\n",
       "    allow_overlap=False,\n",
       "    mapping=None\n",
       ")"
      ]
     },
     "execution_count": 19,
     "metadata": {},
     "output_type": "execute_result"
    }
   ],
   "source": [
    "calendar = s2spy.time.MonthlyCalendar(anchor=\"04-12\", freq='2M', n_targets=1)\n",
    "calendar"
   ]
  },
  {
   "cell_type": "markdown",
   "metadata": {},
   "source": [
    "Map the calendar to years."
   ]
  },
  {
   "cell_type": "code",
   "execution_count": 20,
   "metadata": {},
   "outputs": [
    {
     "data": {
      "text/html": [
       "<div>\n",
       "<style scoped>\n",
       "    .dataframe tbody tr th:only-of-type {\n",
       "        vertical-align: middle;\n",
       "    }\n",
       "\n",
       "    .dataframe tbody tr th {\n",
       "        vertical-align: top;\n",
       "    }\n",
       "\n",
       "    .dataframe thead th {\n",
       "        text-align: right;\n",
       "    }\n",
       "</style>\n",
       "<table border=\"1\" class=\"dataframe\">\n",
       "  <thead>\n",
       "    <tr style=\"text-align: right;\">\n",
       "      <th>i_interval</th>\n",
       "      <th>-5</th>\n",
       "      <th>-4</th>\n",
       "      <th>-3</th>\n",
       "      <th>-2</th>\n",
       "      <th>-1</th>\n",
       "      <th>1</th>\n",
       "    </tr>\n",
       "    <tr>\n",
       "      <th>anchor_year</th>\n",
       "      <th></th>\n",
       "      <th></th>\n",
       "      <th></th>\n",
       "      <th></th>\n",
       "      <th></th>\n",
       "      <th></th>\n",
       "    </tr>\n",
       "  </thead>\n",
       "  <tbody>\n",
       "    <tr>\n",
       "      <th>2021</th>\n",
       "      <td>[2020 Jun, 2020 Aug)</td>\n",
       "      <td>[2020 Aug, 2020 Oct)</td>\n",
       "      <td>[2020 Oct, 2020 Dec)</td>\n",
       "      <td>[2020 Dec, 2021 Feb)</td>\n",
       "      <td>[2021 Feb, 2021 Apr)</td>\n",
       "      <td>[2021 Apr, 2021 Jun)</td>\n",
       "    </tr>\n",
       "    <tr>\n",
       "      <th>2020</th>\n",
       "      <td>[2019 Jun, 2019 Aug)</td>\n",
       "      <td>[2019 Aug, 2019 Oct)</td>\n",
       "      <td>[2019 Oct, 2019 Dec)</td>\n",
       "      <td>[2019 Dec, 2020 Feb)</td>\n",
       "      <td>[2020 Feb, 2020 Apr)</td>\n",
       "      <td>[2020 Apr, 2020 Jun)</td>\n",
       "    </tr>\n",
       "  </tbody>\n",
       "</table>\n",
       "</div>"
      ],
      "text/plain": [
       "i_interval                     -5                    -4                    -3  \\\n",
       "anchor_year                                                                     \n",
       "2021         [2020 Jun, 2020 Aug)  [2020 Aug, 2020 Oct)  [2020 Oct, 2020 Dec)   \n",
       "2020         [2019 Jun, 2019 Aug)  [2019 Aug, 2019 Oct)  [2019 Oct, 2019 Dec)   \n",
       "\n",
       "i_interval                     -2                    -1                     1  \n",
       "anchor_year                                                                    \n",
       "2021         [2020 Dec, 2021 Feb)  [2021 Feb, 2021 Apr)  [2021 Apr, 2021 Jun)  \n",
       "2020         [2019 Dec, 2020 Feb)  [2020 Feb, 2020 Apr)  [2020 Apr, 2020 Jun)  "
      ]
     },
     "execution_count": 20,
     "metadata": {},
     "output_type": "execute_result"
    }
   ],
   "source": [
    "calendar = calendar.map_years(2020, 2021)\n",
    "calendar.show()"
   ]
  },
  {
   "cell_type": "markdown",
   "metadata": {},
   "source": [
    "Tutorial of `WeeklyCalendar` module in `s2s` package."
   ]
  },
  {
   "cell_type": "markdown",
   "metadata": {},
   "source": [
    "Create WeeklyCalendar instance."
   ]
  },
  {
   "cell_type": "code",
   "execution_count": 21,
   "metadata": {},
   "outputs": [
    {
     "data": {
      "text/plain": [
       "s2spy.time.WeeklyCalendar(\n",
       "    anchor='W10-1',\n",
       "    freq='3W',\n",
       "    n_targets=1,\n",
       "    max_lag=0,\n",
       "    allow_overlap=False,\n",
       "    mapping=None\n",
       ")"
      ]
     },
     "execution_count": 21,
     "metadata": {},
     "output_type": "execute_result"
    }
   ],
   "source": [
    "calendar = s2spy.time.WeeklyCalendar(anchor=\"W10\", freq='3W', n_targets=1)\n",
    "calendar"
   ]
  },
  {
   "cell_type": "markdown",
   "metadata": {},
   "source": [
    "Map the calendar to years."
   ]
  },
  {
   "cell_type": "code",
   "execution_count": 22,
   "metadata": {},
   "outputs": [
    {
     "data": {
      "text/html": [
       "<div>\n",
       "<style scoped>\n",
       "    .dataframe tbody tr th:only-of-type {\n",
       "        vertical-align: middle;\n",
       "    }\n",
       "\n",
       "    .dataframe tbody tr th {\n",
       "        vertical-align: top;\n",
       "    }\n",
       "\n",
       "    .dataframe thead th {\n",
       "        text-align: right;\n",
       "    }\n",
       "</style>\n",
       "<table border=\"1\" class=\"dataframe\">\n",
       "  <thead>\n",
       "    <tr style=\"text-align: right;\">\n",
       "      <th>i_interval</th>\n",
       "      <th>-16</th>\n",
       "      <th>-15</th>\n",
       "      <th>-14</th>\n",
       "      <th>-13</th>\n",
       "      <th>-12</th>\n",
       "      <th>-11</th>\n",
       "      <th>-10</th>\n",
       "      <th>-9</th>\n",
       "      <th>-8</th>\n",
       "      <th>-7</th>\n",
       "      <th>-6</th>\n",
       "      <th>-5</th>\n",
       "      <th>-4</th>\n",
       "      <th>-3</th>\n",
       "      <th>-2</th>\n",
       "      <th>-1</th>\n",
       "      <th>1</th>\n",
       "    </tr>\n",
       "    <tr>\n",
       "      <th>anchor_year</th>\n",
       "      <th></th>\n",
       "      <th></th>\n",
       "      <th></th>\n",
       "      <th></th>\n",
       "      <th></th>\n",
       "      <th></th>\n",
       "      <th></th>\n",
       "      <th></th>\n",
       "      <th></th>\n",
       "      <th></th>\n",
       "      <th></th>\n",
       "      <th></th>\n",
       "      <th></th>\n",
       "      <th></th>\n",
       "      <th></th>\n",
       "      <th></th>\n",
       "      <th></th>\n",
       "    </tr>\n",
       "  </thead>\n",
       "  <tbody>\n",
       "    <tr>\n",
       "      <th>2021</th>\n",
       "      <td>[2020-W14, 2020-W17)</td>\n",
       "      <td>[2020-W17, 2020-W20)</td>\n",
       "      <td>[2020-W20, 2020-W23)</td>\n",
       "      <td>[2020-W23, 2020-W26)</td>\n",
       "      <td>[2020-W26, 2020-W29)</td>\n",
       "      <td>[2020-W29, 2020-W32)</td>\n",
       "      <td>[2020-W32, 2020-W35)</td>\n",
       "      <td>[2020-W35, 2020-W38)</td>\n",
       "      <td>[2020-W38, 2020-W41)</td>\n",
       "      <td>[2020-W41, 2020-W44)</td>\n",
       "      <td>[2020-W44, 2020-W47)</td>\n",
       "      <td>[2020-W47, 2020-W50)</td>\n",
       "      <td>[2020-W50, 2021-W01)</td>\n",
       "      <td>[2021-W01, 2021-W04)</td>\n",
       "      <td>[2021-W04, 2021-W07)</td>\n",
       "      <td>[2021-W07, 2021-W10)</td>\n",
       "      <td>[2021-W10, 2021-W13)</td>\n",
       "    </tr>\n",
       "    <tr>\n",
       "      <th>2020</th>\n",
       "      <td>[2019-W14, 2019-W17)</td>\n",
       "      <td>[2019-W17, 2019-W20)</td>\n",
       "      <td>[2019-W20, 2019-W23)</td>\n",
       "      <td>[2019-W23, 2019-W26)</td>\n",
       "      <td>[2019-W26, 2019-W29)</td>\n",
       "      <td>[2019-W29, 2019-W32)</td>\n",
       "      <td>[2019-W32, 2019-W35)</td>\n",
       "      <td>[2019-W35, 2019-W38)</td>\n",
       "      <td>[2019-W38, 2019-W41)</td>\n",
       "      <td>[2019-W41, 2019-W44)</td>\n",
       "      <td>[2019-W44, 2019-W47)</td>\n",
       "      <td>[2019-W47, 2019-W50)</td>\n",
       "      <td>[2019-W50, 2020-W01)</td>\n",
       "      <td>[2020-W01, 2020-W04)</td>\n",
       "      <td>[2020-W04, 2020-W07)</td>\n",
       "      <td>[2020-W07, 2020-W10)</td>\n",
       "      <td>[2020-W10, 2020-W13)</td>\n",
       "    </tr>\n",
       "  </tbody>\n",
       "</table>\n",
       "</div>"
      ],
      "text/plain": [
       "i_interval                    -16                   -15                   -14  \\\n",
       "anchor_year                                                                     \n",
       "2021         [2020-W14, 2020-W17)  [2020-W17, 2020-W20)  [2020-W20, 2020-W23)   \n",
       "2020         [2019-W14, 2019-W17)  [2019-W17, 2019-W20)  [2019-W20, 2019-W23)   \n",
       "\n",
       "i_interval                    -13                   -12                   -11  \\\n",
       "anchor_year                                                                     \n",
       "2021         [2020-W23, 2020-W26)  [2020-W26, 2020-W29)  [2020-W29, 2020-W32)   \n",
       "2020         [2019-W23, 2019-W26)  [2019-W26, 2019-W29)  [2019-W29, 2019-W32)   \n",
       "\n",
       "i_interval                    -10                   -9                    -8   \\\n",
       "anchor_year                                                                     \n",
       "2021         [2020-W32, 2020-W35)  [2020-W35, 2020-W38)  [2020-W38, 2020-W41)   \n",
       "2020         [2019-W32, 2019-W35)  [2019-W35, 2019-W38)  [2019-W38, 2019-W41)   \n",
       "\n",
       "i_interval                    -7                    -6                    -5   \\\n",
       "anchor_year                                                                     \n",
       "2021         [2020-W41, 2020-W44)  [2020-W44, 2020-W47)  [2020-W47, 2020-W50)   \n",
       "2020         [2019-W41, 2019-W44)  [2019-W44, 2019-W47)  [2019-W47, 2019-W50)   \n",
       "\n",
       "i_interval                    -4                    -3                    -2   \\\n",
       "anchor_year                                                                     \n",
       "2021         [2020-W50, 2021-W01)  [2021-W01, 2021-W04)  [2021-W04, 2021-W07)   \n",
       "2020         [2019-W50, 2020-W01)  [2020-W01, 2020-W04)  [2020-W04, 2020-W07)   \n",
       "\n",
       "i_interval                    -1                     1   \n",
       "anchor_year                                              \n",
       "2021         [2021-W07, 2021-W10)  [2021-W10, 2021-W13)  \n",
       "2020         [2020-W07, 2020-W10)  [2020-W10, 2020-W13)  "
      ]
     },
     "execution_count": 22,
     "metadata": {},
     "output_type": "execute_result"
    }
   ],
   "source": [
    "calendar = calendar.map_years(2020, 2021)\n",
    "calendar.show()"
   ]
  },
  {
   "cell_type": "markdown",
   "metadata": {},
   "source": [
    "Tutorial of `Calendar` module in `s2s` package."
   ]
  },
  {
   "cell_type": "markdown",
   "metadata": {},
   "source": [
    "Create Calendar instance."
   ]
  },
  {
   "cell_type": "code",
   "execution_count": 23,
   "metadata": {},
   "outputs": [
    {
     "name": "stdout",
     "output_type": "stream",
     "text": [
      "s2spy.time.Calendar(\n",
      "    anchor='12-31',\n",
      "    allow_overlap=False,\n",
      "    mapping=None,\n",
      "    intervals=None\n",
      ")\n"
     ]
    }
   ],
   "source": [
    "# create custom calendar\n",
    "calendar = s2spy.time.Calendar(anchor=\"12-31\")\n",
    "print(calendar)"
   ]
  },
  {
   "cell_type": "markdown",
   "metadata": {},
   "source": [
    "Add target and precursor interval \"building blocks\" one by one to the calendar."
   ]
  },
  {
   "cell_type": "code",
   "execution_count": 24,
   "metadata": {},
   "outputs": [],
   "source": [
    "# add target periods\n",
    "calendar.add_interval(\"target\", length=\"20d\")\n",
    "calendar.add_interval(\"target\", length=\"20d\", gap=\"10d\")  # You can add gaps between intervals\n",
    "\n",
    "# add precursor periods\n",
    "calendar.add_interval(\"precursor\", \"10d\", \"-5d\")  # The gap can be negative, leading to overlap\n",
    "calendar.add_interval(\"precursor\", \"2W\")  # Lengths can also be weeks, or months\n",
    "calendar.add_interval(\"precursor\", \"1M\")"
   ]
  },
  {
   "cell_type": "code",
   "execution_count": 28,
   "metadata": {},
   "outputs": [
    {
     "data": {
      "text/html": [
       "<div>\n",
       "<style scoped>\n",
       "    .dataframe tbody tr th:only-of-type {\n",
       "        vertical-align: middle;\n",
       "    }\n",
       "\n",
       "    .dataframe tbody tr th {\n",
       "        vertical-align: top;\n",
       "    }\n",
       "\n",
       "    .dataframe thead th {\n",
       "        text-align: right;\n",
       "    }\n",
       "</style>\n",
       "<table border=\"1\" class=\"dataframe\">\n",
       "  <thead>\n",
       "    <tr style=\"text-align: right;\">\n",
       "      <th>i_interval</th>\n",
       "      <th>-1</th>\n",
       "      <th>1</th>\n",
       "    </tr>\n",
       "    <tr>\n",
       "      <th>anchor_year</th>\n",
       "      <th></th>\n",
       "      <th></th>\n",
       "    </tr>\n",
       "  </thead>\n",
       "  <tbody>\n",
       "    <tr>\n",
       "      <th>2021</th>\n",
       "      <td>[2021-06-03, 2021-11-30)</td>\n",
       "      <td>[2021-11-30, 2022-05-29)</td>\n",
       "    </tr>\n",
       "    <tr>\n",
       "      <th>2020</th>\n",
       "      <td>[2020-06-03, 2020-11-30)</td>\n",
       "      <td>[2020-11-30, 2021-05-29)</td>\n",
       "    </tr>\n",
       "  </tbody>\n",
       "</table>\n",
       "</div>"
      ],
      "text/plain": [
       "i_interval                         -1                         1\n",
       "anchor_year                                                    \n",
       "2021         [2021-06-03, 2021-11-30)  [2021-11-30, 2022-05-29)\n",
       "2020         [2020-06-03, 2020-11-30)  [2020-11-30, 2021-05-29)"
      ]
     },
     "execution_count": 28,
     "metadata": {},
     "output_type": "execute_result"
    }
   ],
   "source": [
    "calendar = s2spy.time.AdventCalendar(anchor=\"11-30\", freq='180d')\n",
    "calendar = calendar.map_years(2020, 2021)\n",
    "calendar.show()"
   ]
  },
  {
   "cell_type": "markdown",
   "metadata": {},
   "source": [
    "Map the calendar to multiple years (start year - end year)."
   ]
  },
  {
   "cell_type": "code",
   "execution_count": 29,
   "metadata": {},
   "outputs": [
    {
     "data": {
      "text/html": [
       "<div>\n",
       "<style scoped>\n",
       "    .dataframe tbody tr th:only-of-type {\n",
       "        vertical-align: middle;\n",
       "    }\n",
       "\n",
       "    .dataframe tbody tr th {\n",
       "        vertical-align: top;\n",
       "    }\n",
       "\n",
       "    .dataframe thead th {\n",
       "        text-align: right;\n",
       "    }\n",
       "</style>\n",
       "<table border=\"1\" class=\"dataframe\">\n",
       "  <thead>\n",
       "    <tr style=\"text-align: right;\">\n",
       "      <th>i_interval</th>\n",
       "      <th>-1</th>\n",
       "      <th>1</th>\n",
       "    </tr>\n",
       "    <tr>\n",
       "      <th>anchor_year</th>\n",
       "      <th></th>\n",
       "      <th></th>\n",
       "    </tr>\n",
       "  </thead>\n",
       "  <tbody>\n",
       "    <tr>\n",
       "      <th>2022</th>\n",
       "      <td>[2022-06-03, 2022-11-30)</td>\n",
       "      <td>[2022-11-30, 2023-05-29)</td>\n",
       "    </tr>\n",
       "    <tr>\n",
       "      <th>2021</th>\n",
       "      <td>[2021-06-03, 2021-11-30)</td>\n",
       "      <td>[2021-11-30, 2022-05-29)</td>\n",
       "    </tr>\n",
       "    <tr>\n",
       "      <th>2020</th>\n",
       "      <td>[2020-06-03, 2020-11-30)</td>\n",
       "      <td>[2020-11-30, 2021-05-29)</td>\n",
       "    </tr>\n",
       "  </tbody>\n",
       "</table>\n",
       "</div>"
      ],
      "text/plain": [
       "i_interval                         -1                         1\n",
       "anchor_year                                                    \n",
       "2022         [2022-06-03, 2022-11-30)  [2022-11-30, 2023-05-29)\n",
       "2021         [2021-06-03, 2021-11-30)  [2021-11-30, 2022-05-29)\n",
       "2020         [2020-06-03, 2020-11-30)  [2020-11-30, 2021-05-29)"
      ]
     },
     "execution_count": 29,
     "metadata": {},
     "output_type": "execute_result"
    }
   ],
   "source": [
    "calendar = calendar.map_years(2020, 2022)\n",
    "calendar.show()"
   ]
  },
  {
   "cell_type": "markdown",
   "metadata": {},
   "source": [
    "The calendar can also be displayed in a plot, using `.visualize()`.\n",
    "\n",
    "This makes it easier to look at calendars containing more intervals:"
   ]
  },
  {
   "cell_type": "code",
   "execution_count": 30,
   "metadata": {},
   "outputs": [
    {
     "data": {
      "image/png": "[encoded data removed]",
      "text/plain": [
       "<Figure size 700x400 with 1 Axes>"
      ]
     },
     "metadata": {},
     "output_type": "display_data"
    }
   ],
   "source": [
    "calendar.visualize(relative_dates=True, show_length=True)"
   ]
  },
  {
   "cell_type": "markdown",
   "metadata": {},
   "source": [
    "Map the calendar to the input data."
   ]
  },
  {
   "cell_type": "code",
   "execution_count": 31,
   "metadata": {},
   "outputs": [
    {
     "data": {
      "text/html": [
       "<div>\n",
       "<style scoped>\n",
       "    .dataframe tbody tr th:only-of-type {\n",
       "        vertical-align: middle;\n",
       "    }\n",
       "\n",
       "    .dataframe tbody tr th {\n",
       "        vertical-align: top;\n",
       "    }\n",
       "\n",
       "    .dataframe thead th {\n",
       "        text-align: right;\n",
       "    }\n",
       "</style>\n",
       "<table border=\"1\" class=\"dataframe\">\n",
       "  <thead>\n",
       "    <tr style=\"text-align: right;\">\n",
       "      <th>i_interval</th>\n",
       "      <th>-1</th>\n",
       "      <th>1</th>\n",
       "    </tr>\n",
       "    <tr>\n",
       "      <th>anchor_year</th>\n",
       "      <th></th>\n",
       "      <th></th>\n",
       "    </tr>\n",
       "  </thead>\n",
       "  <tbody>\n",
       "    <tr>\n",
       "      <th>2020</th>\n",
       "      <td>[2020-06-03, 2020-11-30)</td>\n",
       "      <td>[2020-11-30, 2021-05-29)</td>\n",
       "    </tr>\n",
       "    <tr>\n",
       "      <th>2019</th>\n",
       "      <td>[2019-06-03, 2019-11-30)</td>\n",
       "      <td>[2019-11-30, 2020-05-28)</td>\n",
       "    </tr>\n",
       "    <tr>\n",
       "      <th>2018</th>\n",
       "      <td>[2018-06-03, 2018-11-30)</td>\n",
       "      <td>[2018-11-30, 2019-05-29)</td>\n",
       "    </tr>\n",
       "    <tr>\n",
       "      <th>2017</th>\n",
       "      <td>[2017-06-03, 2017-11-30)</td>\n",
       "      <td>[2017-11-30, 2018-05-29)</td>\n",
       "    </tr>\n",
       "  </tbody>\n",
       "</table>\n",
       "</div>"
      ],
      "text/plain": [
       "i_interval                         -1                         1\n",
       "anchor_year                                                    \n",
       "2020         [2020-06-03, 2020-11-30)  [2020-11-30, 2021-05-29)\n",
       "2019         [2019-06-03, 2019-11-30)  [2019-11-30, 2020-05-28)\n",
       "2018         [2018-06-03, 2018-11-30)  [2018-11-30, 2019-05-29)\n",
       "2017         [2017-06-03, 2017-11-30)  [2017-11-30, 2018-05-29)"
      ]
     },
     "execution_count": 31,
     "metadata": {},
     "output_type": "execute_result"
    }
   ],
   "source": [
    "# create dummy data for testing\n",
    "time_index = pd.date_range('20171110', '20211211', freq='10d')\n",
    "var = np.random.random(len(time_index))\n",
    "# generate input data\n",
    "test_data = pd.Series(var, index=time_index)\n",
    "# map year to data\n",
    "calendar = calendar.map_to_data(test_data)\n",
    "calendar.show()"
   ]
  },
  {
   "cell_type": "code",
   "execution_count": null,
   "metadata": {},
   "outputs": [],
   "source": []
  }
 ],
 "metadata": {
  "kernelspec": {
   "display_name": "Python 3.10.5 ('ai4s2s')",
   "language": "python",
   "name": "python3"
  },
  "language_info": {
   "codemirror_mode": {
    "name": "ipython",
    "version": 3
   },
   "file_extension": ".py",
   "mimetype": "text/x-python",
   "name": "python",
   "nbconvert_exporter": "python",
   "pygments_lexer": "ipython3",
   "version": "3.10.5"
  },
  "orig_nbformat": 4,
  "vscode": {
   "interpreter": {
    "hash": "a87ac8a6238ac8fffcd070769ea0ffc634a0ba702c52b706c3554dda7777b3fd"
   }
  }
 },
 "nbformat": 4,
 "nbformat_minor": 2
}
