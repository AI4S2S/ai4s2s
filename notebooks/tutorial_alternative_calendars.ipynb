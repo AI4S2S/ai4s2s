{
 "cells": [
  {
   "cell_type": "markdown",
   "metadata": {},
   "source": [
    "Tutorial of different types of calendar supported in `s2s` package."
   ]
  },
  {
   "cell_type": "code",
   "execution_count": 1,
   "metadata": {},
   "outputs": [],
   "source": [
    "import numpy as np\n",
    "import pandas as pd\n",
    "import s2spy.time"
   ]
  },
  {
   "cell_type": "markdown",
   "metadata": {},
   "source": [
    "Tutorial of `MonthlyCalendar` module in `s2s` package."
   ]
  },
  {
   "cell_type": "markdown",
   "metadata": {},
   "source": [
    "Create MonthlyCalendar instance."
   ]
  },
  {
   "cell_type": "code",
   "execution_count": 2,
   "metadata": {},
   "outputs": [
    {
     "data": {
      "text/plain": [
       "MonthlyCalendar(freq=2M, n_targets=1)"
      ]
     },
     "execution_count": 2,
     "metadata": {},
     "output_type": "execute_result"
    }
   ],
   "source": [
    "calendar = s2spy.time.MonthlyCalendar(anchor=\"04-12\", freq='2M', n_targets=1)\n",
    "calendar"
   ]
  },
  {
   "cell_type": "markdown",
   "metadata": {},
   "source": [
    "Map the calendar to years."
   ]
  },
  {
   "cell_type": "code",
   "execution_count": 3,
   "metadata": {},
   "outputs": [
    {
     "data": {
      "text/html": [
       "<div>\n",
       "<style scoped>\n",
       "    .dataframe tbody tr th:only-of-type {\n",
       "        vertical-align: middle;\n",
       "    }\n",
       "\n",
       "    .dataframe tbody tr th {\n",
       "        vertical-align: top;\n",
       "    }\n",
       "\n",
       "    .dataframe thead th {\n",
       "        text-align: right;\n",
       "    }\n",
       "</style>\n",
       "<table border=\"1\" class=\"dataframe\">\n",
       "  <thead>\n",
       "    <tr style=\"text-align: right;\">\n",
       "      <th>i_interval</th>\n",
       "      <th>-5</th>\n",
       "      <th>-4</th>\n",
       "      <th>-3</th>\n",
       "      <th>-2</th>\n",
       "      <th>-1</th>\n",
       "      <th>1</th>\n",
       "    </tr>\n",
       "    <tr>\n",
       "      <th>anchor_year</th>\n",
       "      <th></th>\n",
       "      <th></th>\n",
       "      <th></th>\n",
       "      <th></th>\n",
       "      <th></th>\n",
       "      <th></th>\n",
       "    </tr>\n",
       "  </thead>\n",
       "  <tbody>\n",
       "    <tr>\n",
       "      <th>2021</th>\n",
       "      <td>[2020 Jun, 2020 Aug)</td>\n",
       "      <td>[2020 Aug, 2020 Oct)</td>\n",
       "      <td>[2020 Oct, 2020 Dec)</td>\n",
       "      <td>[2020 Dec, 2021 Feb)</td>\n",
       "      <td>[2021 Feb, 2021 Apr)</td>\n",
       "      <td>[2021 Apr, 2021 Jun)</td>\n",
       "    </tr>\n",
       "    <tr>\n",
       "      <th>2020</th>\n",
       "      <td>[2019 Jun, 2019 Aug)</td>\n",
       "      <td>[2019 Aug, 2019 Oct)</td>\n",
       "      <td>[2019 Oct, 2019 Dec)</td>\n",
       "      <td>[2019 Dec, 2020 Feb)</td>\n",
       "      <td>[2020 Feb, 2020 Apr)</td>\n",
       "      <td>[2020 Apr, 2020 Jun)</td>\n",
       "    </tr>\n",
       "  </tbody>\n",
       "</table>\n",
       "</div>"
      ],
      "text/plain": [
       "i_interval                     -5                    -4                    -3  \\\n",
       "anchor_year                                                                     \n",
       "2021         [2020 Jun, 2020 Aug)  [2020 Aug, 2020 Oct)  [2020 Oct, 2020 Dec)   \n",
       "2020         [2019 Jun, 2019 Aug)  [2019 Aug, 2019 Oct)  [2019 Oct, 2019 Dec)   \n",
       "\n",
       "i_interval                     -2                    -1                     1  \n",
       "anchor_year                                                                    \n",
       "2021         [2020 Dec, 2021 Feb)  [2021 Feb, 2021 Apr)  [2021 Apr, 2021 Jun)  \n",
       "2020         [2019 Dec, 2020 Feb)  [2020 Feb, 2020 Apr)  [2020 Apr, 2020 Jun)  "
      ]
     },
     "execution_count": 3,
     "metadata": {},
     "output_type": "execute_result"
    }
   ],
   "source": [
    "calendar = calendar.map_years(2020, 2021)\n",
    "calendar.show()"
   ]
  },
  {
   "cell_type": "markdown",
   "metadata": {},
   "source": [
    "Tutorial of `WeeklyCalendar` module in `s2s` package."
   ]
  },
  {
   "cell_type": "markdown",
   "metadata": {},
   "source": [
    "Create WeeklyCalendar instance."
   ]
  },
  {
   "cell_type": "code",
   "execution_count": 4,
   "metadata": {},
   "outputs": [
    {
     "data": {
      "text/plain": [
       "WeeklyCalendar(freq=3W, n_targets=1)"
      ]
     },
     "execution_count": 4,
     "metadata": {},
     "output_type": "execute_result"
    }
   ],
   "source": [
    "calendar = s2spy.time.WeeklyCalendar(anchor=\"W10\", freq='3W', n_targets=1)\n",
    "calendar"
   ]
  },
  {
   "cell_type": "markdown",
   "metadata": {},
   "source": [
    "Map the calendar to years."
   ]
  },
  {
   "cell_type": "code",
   "execution_count": 5,
   "metadata": {},
   "outputs": [
    {
     "data": {
      "text/html": [
       "<div>\n",
       "<style scoped>\n",
       "    .dataframe tbody tr th:only-of-type {\n",
       "        vertical-align: middle;\n",
       "    }\n",
       "\n",
       "    .dataframe tbody tr th {\n",
       "        vertical-align: top;\n",
       "    }\n",
       "\n",
       "    .dataframe thead th {\n",
       "        text-align: right;\n",
       "    }\n",
       "</style>\n",
       "<table border=\"1\" class=\"dataframe\">\n",
       "  <thead>\n",
       "    <tr style=\"text-align: right;\">\n",
       "      <th>i_interval</th>\n",
       "      <th>-16</th>\n",
       "      <th>-15</th>\n",
       "      <th>-14</th>\n",
       "      <th>-13</th>\n",
       "      <th>-12</th>\n",
       "      <th>-11</th>\n",
       "      <th>-10</th>\n",
       "      <th>-9</th>\n",
       "      <th>-8</th>\n",
       "      <th>-7</th>\n",
       "      <th>-6</th>\n",
       "      <th>-5</th>\n",
       "      <th>-4</th>\n",
       "      <th>-3</th>\n",
       "      <th>-2</th>\n",
       "      <th>-1</th>\n",
       "      <th>1</th>\n",
       "    </tr>\n",
       "    <tr>\n",
       "      <th>anchor_year</th>\n",
       "      <th></th>\n",
       "      <th></th>\n",
       "      <th></th>\n",
       "      <th></th>\n",
       "      <th></th>\n",
       "      <th></th>\n",
       "      <th></th>\n",
       "      <th></th>\n",
       "      <th></th>\n",
       "      <th></th>\n",
       "      <th></th>\n",
       "      <th></th>\n",
       "      <th></th>\n",
       "      <th></th>\n",
       "      <th></th>\n",
       "      <th></th>\n",
       "      <th></th>\n",
       "    </tr>\n",
       "  </thead>\n",
       "  <tbody>\n",
       "    <tr>\n",
       "      <th>2021</th>\n",
       "      <td>[2020-W14, 2020-W17)</td>\n",
       "      <td>[2020-W17, 2020-W20)</td>\n",
       "      <td>[2020-W20, 2020-W23)</td>\n",
       "      <td>[2020-W23, 2020-W26)</td>\n",
       "      <td>[2020-W26, 2020-W29)</td>\n",
       "      <td>[2020-W29, 2020-W32)</td>\n",
       "      <td>[2020-W32, 2020-W35)</td>\n",
       "      <td>[2020-W35, 2020-W38)</td>\n",
       "      <td>[2020-W38, 2020-W41)</td>\n",
       "      <td>[2020-W41, 2020-W44)</td>\n",
       "      <td>[2020-W44, 2020-W47)</td>\n",
       "      <td>[2020-W47, 2020-W50)</td>\n",
       "      <td>[2020-W50, 2021-W01)</td>\n",
       "      <td>[2021-W01, 2021-W04)</td>\n",
       "      <td>[2021-W04, 2021-W07)</td>\n",
       "      <td>[2021-W07, 2021-W10)</td>\n",
       "      <td>[2021-W10, 2021-W13)</td>\n",
       "    </tr>\n",
       "    <tr>\n",
       "      <th>2020</th>\n",
       "      <td>[2019-W14, 2019-W17)</td>\n",
       "      <td>[2019-W17, 2019-W20)</td>\n",
       "      <td>[2019-W20, 2019-W23)</td>\n",
       "      <td>[2019-W23, 2019-W26)</td>\n",
       "      <td>[2019-W26, 2019-W29)</td>\n",
       "      <td>[2019-W29, 2019-W32)</td>\n",
       "      <td>[2019-W32, 2019-W35)</td>\n",
       "      <td>[2019-W35, 2019-W38)</td>\n",
       "      <td>[2019-W38, 2019-W41)</td>\n",
       "      <td>[2019-W41, 2019-W44)</td>\n",
       "      <td>[2019-W44, 2019-W47)</td>\n",
       "      <td>[2019-W47, 2019-W50)</td>\n",
       "      <td>[2019-W50, 2020-W01)</td>\n",
       "      <td>[2020-W01, 2020-W04)</td>\n",
       "      <td>[2020-W04, 2020-W07)</td>\n",
       "      <td>[2020-W07, 2020-W10)</td>\n",
       "      <td>[2020-W10, 2020-W13)</td>\n",
       "    </tr>\n",
       "  </tbody>\n",
       "</table>\n",
       "</div>"
      ],
      "text/plain": [
       "i_interval                    -16                   -15                   -14  \\\n",
       "anchor_year                                                                     \n",
       "2021         [2020-W14, 2020-W17)  [2020-W17, 2020-W20)  [2020-W20, 2020-W23)   \n",
       "2020         [2019-W14, 2019-W17)  [2019-W17, 2019-W20)  [2019-W20, 2019-W23)   \n",
       "\n",
       "i_interval                    -13                   -12                   -11  \\\n",
       "anchor_year                                                                     \n",
       "2021         [2020-W23, 2020-W26)  [2020-W26, 2020-W29)  [2020-W29, 2020-W32)   \n",
       "2020         [2019-W23, 2019-W26)  [2019-W26, 2019-W29)  [2019-W29, 2019-W32)   \n",
       "\n",
       "i_interval                    -10                   -9                    -8   \\\n",
       "anchor_year                                                                     \n",
       "2021         [2020-W32, 2020-W35)  [2020-W35, 2020-W38)  [2020-W38, 2020-W41)   \n",
       "2020         [2019-W32, 2019-W35)  [2019-W35, 2019-W38)  [2019-W38, 2019-W41)   \n",
       "\n",
       "i_interval                    -7                    -6                    -5   \\\n",
       "anchor_year                                                                     \n",
       "2021         [2020-W41, 2020-W44)  [2020-W44, 2020-W47)  [2020-W47, 2020-W50)   \n",
       "2020         [2019-W41, 2019-W44)  [2019-W44, 2019-W47)  [2019-W47, 2019-W50)   \n",
       "\n",
       "i_interval                    -4                    -3                    -2   \\\n",
       "anchor_year                                                                     \n",
       "2021         [2020-W50, 2021-W01)  [2021-W01, 2021-W04)  [2021-W04, 2021-W07)   \n",
       "2020         [2019-W50, 2020-W01)  [2020-W01, 2020-W04)  [2020-W04, 2020-W07)   \n",
       "\n",
       "i_interval                    -1                     1   \n",
       "anchor_year                                              \n",
       "2021         [2021-W07, 2021-W10)  [2021-W10, 2021-W13)  \n",
       "2020         [2020-W07, 2020-W10)  [2020-W10, 2020-W13)  "
      ]
     },
     "execution_count": 5,
     "metadata": {},
     "output_type": "execute_result"
    }
   ],
   "source": [
    "calendar = calendar.map_years(2020, 2021)\n",
    "calendar.show()"
   ]
  },
  {
   "cell_type": "markdown",
   "metadata": {},
   "source": [
    "Tutorial of `CustomCalendar` module in `s2s` package."
   ]
  },
  {
   "cell_type": "markdown",
   "metadata": {},
   "source": [
    "Create CustomCalendar instance."
   ]
  },
  {
   "cell_type": "code",
   "execution_count": 6,
   "metadata": {},
   "outputs": [
    {
     "name": "stdout",
     "output_type": "stream",
     "text": [
      "CustomCalendar(n_targets=0)\n"
     ]
    }
   ],
   "source": [
    "# create custom calendar\n",
    "calendar = s2spy.time.CustomCalendar(anchor=\"12-31\")\n",
    "print(calendar)"
   ]
  },
  {
   "cell_type": "markdown",
   "metadata": {},
   "source": [
    "Create target periods and precursor periods as building blocks."
   ]
  },
  {
   "cell_type": "code",
   "execution_count": 7,
   "metadata": {},
   "outputs": [],
   "source": [
    "# create target periods\n",
    "target_1 = s2spy.time.TargetPeriod(\"20d\")\n",
    "target_2 = s2spy.time.TargetPeriod(\"20d\", \"10d\")\n",
    "# create precursor periods\n",
    "precursor_1 = s2spy.time.PrecursorPeriod(\"10d\", \"10d\")\n",
    "precursor_2 = s2spy.time.PrecursorPeriod(\"10d\", \"-5d\")\n",
    "precursor_3 = s2spy.time.PrecursorPeriod(\"10d\")"
   ]
  },
  {
   "cell_type": "markdown",
   "metadata": {},
   "source": [
    "Append building blocks to form calendar."
   ]
  },
  {
   "cell_type": "code",
   "execution_count": 8,
   "metadata": {},
   "outputs": [],
   "source": [
    "# append building blocks to calendar object\n",
    "calendar.append(target_1)\n",
    "calendar.append(target_2)\n",
    "calendar.append(precursor_1)\n",
    "calendar.append(precursor_2)\n",
    "calendar.append(precursor_3)"
   ]
  },
  {
   "cell_type": "markdown",
   "metadata": {},
   "source": [
    "Map the calendar to multiple years (start year - end year)."
   ]
  },
  {
   "cell_type": "code",
   "execution_count": 9,
   "metadata": {},
   "outputs": [
    {
     "data": {
      "text/html": [
       "<div>\n",
       "<style scoped>\n",
       "    .dataframe tbody tr th:only-of-type {\n",
       "        vertical-align: middle;\n",
       "    }\n",
       "\n",
       "    .dataframe tbody tr th {\n",
       "        vertical-align: top;\n",
       "    }\n",
       "\n",
       "    .dataframe thead th {\n",
       "        text-align: right;\n",
       "    }\n",
       "</style>\n",
       "<table border=\"1\" class=\"dataframe\">\n",
       "  <thead>\n",
       "    <tr style=\"text-align: right;\">\n",
       "      <th>i_interval</th>\n",
       "      <th>-3</th>\n",
       "      <th>-2</th>\n",
       "      <th>-1</th>\n",
       "      <th>1</th>\n",
       "      <th>2</th>\n",
       "    </tr>\n",
       "    <tr>\n",
       "      <th>anchor_year</th>\n",
       "      <th></th>\n",
       "      <th></th>\n",
       "      <th></th>\n",
       "      <th></th>\n",
       "      <th></th>\n",
       "    </tr>\n",
       "  </thead>\n",
       "  <tbody>\n",
       "    <tr>\n",
       "      <th>2022</th>\n",
       "      <td>[2022-11-26, 2022-12-06)</td>\n",
       "      <td>[2022-12-06, 2022-12-16)</td>\n",
       "      <td>[2022-12-11, 2022-12-21)</td>\n",
       "      <td>[2022-12-31, 2023-01-20)</td>\n",
       "      <td>[2023-01-30, 2023-02-19)</td>\n",
       "    </tr>\n",
       "    <tr>\n",
       "      <th>2021</th>\n",
       "      <td>[2021-11-26, 2021-12-06)</td>\n",
       "      <td>[2021-12-06, 2021-12-16)</td>\n",
       "      <td>[2021-12-11, 2021-12-21)</td>\n",
       "      <td>[2021-12-31, 2022-01-20)</td>\n",
       "      <td>[2022-01-30, 2022-02-19)</td>\n",
       "    </tr>\n",
       "    <tr>\n",
       "      <th>2020</th>\n",
       "      <td>[2020-11-26, 2020-12-06)</td>\n",
       "      <td>[2020-12-06, 2020-12-16)</td>\n",
       "      <td>[2020-12-11, 2020-12-21)</td>\n",
       "      <td>[2020-12-31, 2021-01-20)</td>\n",
       "      <td>[2021-01-30, 2021-02-19)</td>\n",
       "    </tr>\n",
       "  </tbody>\n",
       "</table>\n",
       "</div>"
      ],
      "text/plain": [
       "i_interval                         -3                        -2  \\\n",
       "anchor_year                                                       \n",
       "2022         [2022-11-26, 2022-12-06)  [2022-12-06, 2022-12-16)   \n",
       "2021         [2021-11-26, 2021-12-06)  [2021-12-06, 2021-12-16)   \n",
       "2020         [2020-11-26, 2020-12-06)  [2020-12-06, 2020-12-16)   \n",
       "\n",
       "i_interval                         -1                         1  \\\n",
       "anchor_year                                                       \n",
       "2022         [2022-12-11, 2022-12-21)  [2022-12-31, 2023-01-20)   \n",
       "2021         [2021-12-11, 2021-12-21)  [2021-12-31, 2022-01-20)   \n",
       "2020         [2020-12-11, 2020-12-21)  [2020-12-31, 2021-01-20)   \n",
       "\n",
       "i_interval                          2  \n",
       "anchor_year                            \n",
       "2022         [2023-01-30, 2023-02-19)  \n",
       "2021         [2022-01-30, 2022-02-19)  \n",
       "2020         [2021-01-30, 2021-02-19)  "
      ]
     },
     "execution_count": 9,
     "metadata": {},
     "output_type": "execute_result"
    }
   ],
   "source": [
    "calendar = calendar.map_years(2020, 2022)\n",
    "calendar.show()"
   ]
  },
  {
   "cell_type": "markdown",
   "metadata": {},
   "source": [
    "The calendar can also be displayed in a plot, using `.visualize()`.\n",
    "\n",
    "This makes it easier to look at calendars containing more intervals:"
   ]
  },
  {
   "cell_type": "code",
   "execution_count": 10,
   "metadata": {},
   "outputs": [
    {
     "data": {
      "image/png": "[encoded data removed]",
      "text/plain": [
       "<Figure size 432x288 with 1 Axes>"
      ]
     },
     "metadata": {
      "needs_background": "light"
     },
     "output_type": "display_data"
    }
   ],
   "source": [
    "calendar.visualize(relative_dates=True, add_length=True)"
   ]
  },
  {
   "cell_type": "markdown",
   "metadata": {},
   "source": [
    "Map the calendar to the input data."
   ]
  },
  {
   "cell_type": "code",
   "execution_count": 11,
   "metadata": {},
   "outputs": [
    {
     "data": {
      "text/html": [
       "<div>\n",
       "<style scoped>\n",
       "    .dataframe tbody tr th:only-of-type {\n",
       "        vertical-align: middle;\n",
       "    }\n",
       "\n",
       "    .dataframe tbody tr th {\n",
       "        vertical-align: top;\n",
       "    }\n",
       "\n",
       "    .dataframe thead th {\n",
       "        text-align: right;\n",
       "    }\n",
       "</style>\n",
       "<table border=\"1\" class=\"dataframe\">\n",
       "  <thead>\n",
       "    <tr style=\"text-align: right;\">\n",
       "      <th>i_interval</th>\n",
       "      <th>-3</th>\n",
       "      <th>-2</th>\n",
       "      <th>-1</th>\n",
       "      <th>1</th>\n",
       "      <th>2</th>\n",
       "    </tr>\n",
       "    <tr>\n",
       "      <th>anchor_year</th>\n",
       "      <th></th>\n",
       "      <th></th>\n",
       "      <th></th>\n",
       "      <th></th>\n",
       "      <th></th>\n",
       "    </tr>\n",
       "  </thead>\n",
       "  <tbody>\n",
       "    <tr>\n",
       "      <th>2020</th>\n",
       "      <td>[2020-11-26, 2020-12-06)</td>\n",
       "      <td>[2020-12-06, 2020-12-16)</td>\n",
       "      <td>[2020-12-11, 2020-12-21)</td>\n",
       "      <td>[2020-12-31, 2021-01-20)</td>\n",
       "      <td>[2021-01-30, 2021-02-19)</td>\n",
       "    </tr>\n",
       "    <tr>\n",
       "      <th>2019</th>\n",
       "      <td>[2019-11-26, 2019-12-06)</td>\n",
       "      <td>[2019-12-06, 2019-12-16)</td>\n",
       "      <td>[2019-12-11, 2019-12-21)</td>\n",
       "      <td>[2019-12-31, 2020-01-20)</td>\n",
       "      <td>[2020-01-30, 2020-02-19)</td>\n",
       "    </tr>\n",
       "    <tr>\n",
       "      <th>2018</th>\n",
       "      <td>[2018-11-26, 2018-12-06)</td>\n",
       "      <td>[2018-12-06, 2018-12-16)</td>\n",
       "      <td>[2018-12-11, 2018-12-21)</td>\n",
       "      <td>[2018-12-31, 2019-01-20)</td>\n",
       "      <td>[2019-01-30, 2019-02-19)</td>\n",
       "    </tr>\n",
       "    <tr>\n",
       "      <th>2017</th>\n",
       "      <td>[2017-11-26, 2017-12-06)</td>\n",
       "      <td>[2017-12-06, 2017-12-16)</td>\n",
       "      <td>[2017-12-11, 2017-12-21)</td>\n",
       "      <td>[2017-12-31, 2018-01-20)</td>\n",
       "      <td>[2018-01-30, 2018-02-19)</td>\n",
       "    </tr>\n",
       "  </tbody>\n",
       "</table>\n",
       "</div>"
      ],
      "text/plain": [
       "i_interval                         -3                        -2  \\\n",
       "anchor_year                                                       \n",
       "2020         [2020-11-26, 2020-12-06)  [2020-12-06, 2020-12-16)   \n",
       "2019         [2019-11-26, 2019-12-06)  [2019-12-06, 2019-12-16)   \n",
       "2018         [2018-11-26, 2018-12-06)  [2018-12-06, 2018-12-16)   \n",
       "2017         [2017-11-26, 2017-12-06)  [2017-12-06, 2017-12-16)   \n",
       "\n",
       "i_interval                         -1                         1  \\\n",
       "anchor_year                                                       \n",
       "2020         [2020-12-11, 2020-12-21)  [2020-12-31, 2021-01-20)   \n",
       "2019         [2019-12-11, 2019-12-21)  [2019-12-31, 2020-01-20)   \n",
       "2018         [2018-12-11, 2018-12-21)  [2018-12-31, 2019-01-20)   \n",
       "2017         [2017-12-11, 2017-12-21)  [2017-12-31, 2018-01-20)   \n",
       "\n",
       "i_interval                          2  \n",
       "anchor_year                            \n",
       "2020         [2021-01-30, 2021-02-19)  \n",
       "2019         [2020-01-30, 2020-02-19)  \n",
       "2018         [2019-01-30, 2019-02-19)  \n",
       "2017         [2018-01-30, 2018-02-19)  "
      ]
     },
     "execution_count": 11,
     "metadata": {},
     "output_type": "execute_result"
    }
   ],
   "source": [
    "# create dummy data for testing\n",
    "time_index = pd.date_range('20171110', '20211211', freq='10d')\n",
    "var = np.random.random(len(time_index))\n",
    "# generate input data\n",
    "test_data = pd.Series(var, index=time_index)\n",
    "# map year to data\n",
    "calendar = calendar.map_to_data(test_data)\n",
    "calendar.show()"
   ]
  }
 ],
 "metadata": {
  "kernelspec": {
   "display_name": "Python 3.10.5 ('ai4s2s')",
   "language": "python",
   "name": "python3"
  },
  "language_info": {
   "codemirror_mode": {
    "name": "ipython",
    "version": 3
   },
   "file_extension": ".py",
   "mimetype": "text/x-python",
   "name": "python",
   "nbconvert_exporter": "python",
   "pygments_lexer": "ipython3",
   "version": "3.10.5"
  },
  "orig_nbformat": 4,
  "vscode": {
   "interpreter": {
    "hash": "a87ac8a6238ac8fffcd070769ea0ffc634a0ba702c52b706c3554dda7777b3fd"
   }
  }
 },
 "nbformat": 4,
 "nbformat_minor": 2
}
