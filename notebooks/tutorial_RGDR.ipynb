{
 "cells": [
  {
   "cell_type": "markdown",
   "metadata": {},
   "source": [
    "### Using RGDR\n",
    "This notebook outlines the current status of the RGDR implementation."
   ]
  },
  {
   "cell_type": "markdown",
   "metadata": {},
   "source": [
    "First we will load in some example data, and resample them using the `AdventCalendar`"
   ]
  },
  {
   "cell_type": "code",
   "execution_count": 5,
   "metadata": {},
   "outputs": [],
   "source": [
    "import xarray as xr\n",
    "import matplotlib.pyplot as plt\n",
    "import s2spy.time\n",
    "import s2spy.rgdr\n",
    "from s2spy import RGDR\n",
    "\n",
    "file_path = '../tests/test_rgdr/test_data'\n",
    "field = xr.open_dataset(f'{file_path}/sst_daily_1979-2018_5deg_Pacific_175_240E_25_50N.nc')\n",
    "target = xr.open_dataset(f'{file_path}/tf5_nc5_dendo_80d77.nc')\n",
    "\n",
    "cal = s2spy.time.AdventCalendar((8, 31), freq = \"30d\")\n",
    "cal = cal.map_to_data(field)\n",
    "field_resampled = s2spy.time.resample(cal, field)\n",
    "target_resampled = s2spy.time.resample(cal, target)"
   ]
  },
  {
   "cell_type": "markdown",
   "metadata": {},
   "source": [
    "### The target timeseries comes from already pre-clustered land surface temperature data."
   ]
  },
  {
   "cell_type": "code",
   "execution_count": 6,
   "metadata": {},
   "outputs": [],
   "source": [
    "target_timeseries = target_resampled.sel(cluster=3).ts.isel(i_interval=0)\n",
    "precursor_field = field_resampled.sst.isel(i_interval=1)\n",
    "\n",
    "rgdr = RGDR(eps_km=600, alpha=0.05, min_area_km2=3000**2)"
   ]
  },
  {
   "cell_type": "markdown",
   "metadata": {},
   "source": [
    "Using `.plot_correlation` we can see the correlation and p-value map of the target timeseries and precursor field:"
   ]
  },
  {
   "cell_type": "code",
   "execution_count": 7,
   "metadata": {},
   "outputs": [
    {
     "data": {
      "image/png": "[encoded data removed]",
      "text/plain": [
       "<Figure size 864x144 with 4 Axes>"
      ]
     },
     "metadata": {
      "needs_background": "light"
     },
     "output_type": "display_data"
    }
   ],
   "source": [
    "fig, (ax1, ax2) = plt.subplots(ncols=2, figsize=(12, 2))\n",
    "_ = rgdr.plot_correlation(precursor_field, target_timeseries, ax1, ax2)"
   ]
  },
  {
   "cell_type": "markdown",
   "metadata": {},
   "source": [
    "We can compare two RGDR initializations to preview what the effect on the generated clusters will be.\n",
    "\n",
    "Note that the second figure has an extra cluster, due to the minimum area argument having a smaller value."
   ]
  },
  {
   "cell_type": "code",
   "execution_count": 8,
   "metadata": {},
   "outputs": [
    {
     "ename": "TypeError",
     "evalue": "RGDR.plot_clusters() missing 1 required positional argument: 'timeseries'",
     "output_type": "error",
     "traceback": [
      "\u001b[1;31m---------------------------------------------------------------------------\u001b[0m",
      "\u001b[1;31mTypeError\u001b[0m                                 Traceback (most recent call last)",
      "\u001b[1;32mc:\\Users\\BartSchilperoort\\git\\s2spy\\notebooks\\tutorial_RGDR.ipynb Cell 9\u001b[0m in \u001b[0;36m<cell line: 5>\u001b[1;34m()\u001b[0m\n\u001b[0;32m      <a href='vscode-notebook-cell:/c%3A/Users/BartSchilperoort/git/s2spy/notebooks/tutorial_RGDR.ipynb#X11sZmlsZQ%3D%3D?line=0'>1</a>\u001b[0m fig, (ax1, ax2) \u001b[39m=\u001b[39m plt\u001b[39m.\u001b[39msubplots(ncols\u001b[39m=\u001b[39m\u001b[39m2\u001b[39m, figsize\u001b[39m=\u001b[39m(\u001b[39m12\u001b[39m, \u001b[39m2\u001b[39m))\n\u001b[0;32m      <a href='vscode-notebook-cell:/c%3A/Users/BartSchilperoort/git/s2spy/notebooks/tutorial_RGDR.ipynb#X11sZmlsZQ%3D%3D?line=2'>3</a>\u001b[0m _ \u001b[39m=\u001b[39m rgdr\u001b[39m.\u001b[39mplot_clusters(precursor_field, target_timeseries, ax\u001b[39m=\u001b[39max1)\n\u001b[1;32m----> <a href='vscode-notebook-cell:/c%3A/Users/BartSchilperoort/git/s2spy/notebooks/tutorial_RGDR.ipynb#X11sZmlsZQ%3D%3D?line=4'>5</a>\u001b[0m _ \u001b[39m=\u001b[39m RGDR(eps_km\u001b[39m=\u001b[39;49m\u001b[39m600\u001b[39;49m,\n\u001b[0;32m      <a href='vscode-notebook-cell:/c%3A/Users/BartSchilperoort/git/s2spy/notebooks/tutorial_RGDR.ipynb#X11sZmlsZQ%3D%3D?line=5'>6</a>\u001b[0m          alpha\u001b[39m=\u001b[39;49m\u001b[39m0.05\u001b[39;49m,\n\u001b[0;32m      <a href='vscode-notebook-cell:/c%3A/Users/BartSchilperoort/git/s2spy/notebooks/tutorial_RGDR.ipynb#X11sZmlsZQ%3D%3D?line=6'>7</a>\u001b[0m          min_area_km2\u001b[39m=\u001b[39;49m\u001b[39m1000\u001b[39;49m\u001b[39m*\u001b[39;49m\u001b[39m*\u001b[39;49m\u001b[39m2\u001b[39;49m\n\u001b[0;32m      <a href='vscode-notebook-cell:/c%3A/Users/BartSchilperoort/git/s2spy/notebooks/tutorial_RGDR.ipynb#X11sZmlsZQ%3D%3D?line=7'>8</a>\u001b[0m          )\u001b[39m.\u001b[39;49mplot_clusters(precursor_field, ax\u001b[39m=\u001b[39;49max2)\n",
      "\u001b[1;31mTypeError\u001b[0m: RGDR.plot_clusters() missing 1 required positional argument: 'timeseries'"
     ]
    },
    {
     "data": {
      "image/png": "[encoded data removed]",
      "text/plain": [
       "<Figure size 864x144 with 3 Axes>"
      ]
     },
     "metadata": {
      "needs_background": "light"
     },
     "output_type": "display_data"
    }
   ],
   "source": [
    "fig, (ax1, ax2) = plt.subplots(ncols=2, figsize=(12, 2))\n",
    "\n",
    "_ = rgdr.plot_clusters(precursor_field, target_timeseries, ax=ax1)\n",
    "\n",
    "_ = RGDR(min_area_km2=1000**2).plot_clusters(precursor_field, target_timeseries, ax=ax2)"
   ]
  },
  {
   "cell_type": "markdown",
   "metadata": {},
   "source": [
    "With `.fit` the RGDR clustering can be fit to a precursor field.\n",
    "`.transform` can then be used to return the data reduced to clusters:"
   ]
  },
  {
   "cell_type": "code",
   "execution_count": null,
   "metadata": {},
   "outputs": [],
   "source": [
    "rgdr.fit(precursor_field, target_timeseries)\n",
    "clustered_data = rgdr.transform(precursor_field)\n",
    "xr.set_options(display_expand_data=False) # Hide the full data repr\n",
    "clustered_data"
   ]
  },
  {
   "cell_type": "markdown",
   "metadata": {},
   "source": [
    "Now we can plot the data for each cluster:"
   ]
  },
  {
   "cell_type": "code",
   "execution_count": null,
   "metadata": {},
   "outputs": [],
   "source": [
    "import matplotlib.pyplot as plt\n",
    "\n",
    "clustered_data -= clustered_data.mean(dim='anchor_year')\n",
    "clustered_data.sel(cluster_labels=1).plot.line(x='anchor_year', label='pos. corr')\n",
    "clustered_data.sel(cluster_labels=-2).plot.line(x='anchor_year', label='neg. corr')\n",
    "plt.legend()\n"
   ]
  },
  {
   "cell_type": "code",
   "execution_count": null,
   "metadata": {},
   "outputs": [],
   "source": []
  }
 ],
 "metadata": {
  "kernelspec": {
   "display_name": "Python 3.10.5 ('ai4s2s')",
   "language": "python",
   "name": "python3"
  },
  "language_info": {
   "codemirror_mode": {
    "name": "ipython",
    "version": 3
   },
   "file_extension": ".py",
   "mimetype": "text/x-python",
   "name": "python",
   "nbconvert_exporter": "python",
   "pygments_lexer": "ipython3",
   "version": "3.10.5"
  },
  "orig_nbformat": 4,
  "vscode": {
   "interpreter": {
    "hash": "a87ac8a6238ac8fffcd070769ea0ffc634a0ba702c52b706c3554dda7777b3fd"
   }
  }
 },
 "nbformat": 4,
 "nbformat_minor": 2
}
