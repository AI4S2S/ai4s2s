{
 "cells": [
  {
   "cell_type": "markdown",
   "metadata": {},
   "source": [
    "Tutorial of `AdventCalendar` module in `s2s` package."
   ]
  },
  {
   "cell_type": "code",
   "execution_count": 1,
   "metadata": {},
   "outputs": [],
   "source": [
    "import numpy as np\n",
    "import pandas as pd\n",
    "from pandas.tseries.frequencies import to_offset\n",
    "import s2s.time"
   ]
  },
  {
   "cell_type": "code",
   "execution_count": 9,
   "metadata": {},
   "outputs": [
    {
     "data": {
      "text/plain": [
       "2021-01-01    0.618939\n",
       "2021-01-02    0.879941\n",
       "2021-01-03    0.433489\n",
       "2021-01-04    0.970278\n",
       "2021-01-05    0.995151\n",
       "                ...   \n",
       "2021-12-27    0.354315\n",
       "2021-12-28    0.393688\n",
       "2021-12-29    0.693536\n",
       "2021-12-30    0.430412\n",
       "2021-12-31    0.502493\n",
       "Freq: D, Length: 365, dtype: float64"
      ]
     },
     "execution_count": 9,
     "metadata": {},
     "output_type": "execute_result"
    }
   ],
   "source": [
    "time_index = pd.date_range('20210101', '20211231', freq='1d')\n",
    "var = np.random.random(len(time_index))\n",
    "# input data in reverse order\n",
    "test_data = pd.Series(var, index=time_index)\n",
    "test_data"
   ]
  },
  {
   "cell_type": "code",
   "execution_count": 6,
   "metadata": {},
   "outputs": [
    {
     "data": {
      "text/plain": [
       "AdventCalendar(month=11, day=16, freq=60d, n=6)"
      ]
     },
     "execution_count": 6,
     "metadata": {},
     "output_type": "execute_result"
    }
   ],
   "source": [
    "calendar = s2s.time.AdventCalendar(anchor_date=(11, 16), freq='60d')\n",
    "calendar"
   ]
  },
  {
   "cell_type": "code",
   "execution_count": 11,
   "metadata": {},
   "outputs": [
    {
     "data": {
      "text/plain": [
       "t-0    (2021-09-17, 2021-11-16]\n",
       "t-1    (2021-07-19, 2021-09-17]\n",
       "t-2    (2021-05-20, 2021-07-19]\n",
       "t-3    (2021-03-21, 2021-05-20]\n",
       "t-4    (2021-01-20, 2021-03-21]\n",
       "t-5    (2020-11-21, 2021-01-20]\n",
       "Name: 2021, dtype: interval"
      ]
     },
     "execution_count": 11,
     "metadata": {},
     "output_type": "execute_result"
    }
   ],
   "source": [
    "intervals = calendar.map_year(2021)\n",
    "intervals"
   ]
  },
  {
   "cell_type": "code",
   "execution_count": null,
   "metadata": {},
   "outputs": [],
   "source": [
    "calendar.resample(test_data)\n",
    "# (2021-09-17, 2021-11-16] 0.216461235\n",
    "# (2021-07-19, 2021-09-17] 0.216461235\n",
    "# ...\n",
    "\n",
    "\n",
    "# address edge case later"
   ]
  },
  {
   "cell_type": "code",
   "execution_count": 30,
   "metadata": {},
   "outputs": [
    {
     "data": {
      "text/plain": [
       "2021-09-17    0.530244\n",
       "2021-09-18    0.475687\n",
       "2021-09-19    0.837126\n",
       "2021-09-20    0.253069\n",
       "2021-09-21    0.950586\n",
       "                ...   \n",
       "2021-11-12    0.899377\n",
       "2021-11-13    0.544135\n",
       "2021-11-14    0.902241\n",
       "2021-11-15    0.919609\n",
       "2021-11-16    0.752870\n",
       "Freq: D, Length: 61, dtype: float64"
      ]
     },
     "execution_count": 30,
     "metadata": {},
     "output_type": "execute_result"
    }
   ],
   "source": [
    "start_time = intervals[0].left\n",
    "end_time = intervals[0].right\n",
    "test_data.loc[start_time:end_time]#.mean() # todo: deal with edge values"
   ]
  },
  {
   "cell_type": "code",
   "execution_count": 23,
   "metadata": {},
   "outputs": [
    {
     "ename": "ValueError",
     "evalue": "Cannot convert arg [datetime.date(2021, 9, 17)] to a time",
     "output_type": "error",
     "traceback": [
      "\u001b[0;31m---------------------------------------------------------------------------\u001b[0m",
      "\u001b[0;31mValueError\u001b[0m                                Traceback (most recent call last)",
      "\u001b[1;32m/home/yangliu/AI4S2S/ai4s2s/notebooks/tutorial_time.ipynb Cell 8'\u001b[0m in \u001b[0;36m<cell line: 1>\u001b[0;34m()\u001b[0m\n\u001b[0;32m----> <a href='vscode-notebook-cell://wsl%2Bubuntu-20.04/home/yangliu/AI4S2S/ai4s2s/notebooks/tutorial_time.ipynb#ch0000027vscode-remote?line=0'>1</a>\u001b[0m test_data\u001b[39m.\u001b[39;49mbetween_time(start_time\u001b[39m=\u001b[39;49mintervals[\u001b[39m0\u001b[39;49m]\u001b[39m.\u001b[39;49mleft\u001b[39m.\u001b[39;49mdate(), end_time\u001b[39m=\u001b[39;49mintervals[\u001b[39m0\u001b[39;49m]\u001b[39m.\u001b[39;49mright\u001b[39m.\u001b[39;49mdate(), inclusive\u001b[39m=\u001b[39;49m\u001b[39m\"\u001b[39;49m\u001b[39mright\u001b[39;49m\u001b[39m\"\u001b[39;49m)\n",
      "File \u001b[0;32m~/miniconda3/lib/python3.8/site-packages/pandas/core/generic.py:7890\u001b[0m, in \u001b[0;36mNDFrame.between_time\u001b[0;34m(self, start_time, end_time, include_start, include_end, inclusive, axis)\u001b[0m\n\u001b[1;32m   <a href='file:///home/yangliu/miniconda3/lib/python3.8/site-packages/pandas/core/generic.py?line=7887'>7888</a>\u001b[0m     inclusive \u001b[39m=\u001b[39m \u001b[39m\"\u001b[39m\u001b[39mboth\u001b[39m\u001b[39m\"\u001b[39m\n\u001b[1;32m   <a href='file:///home/yangliu/miniconda3/lib/python3.8/site-packages/pandas/core/generic.py?line=7888'>7889</a>\u001b[0m left_inclusive, right_inclusive \u001b[39m=\u001b[39m validate_inclusive(inclusive)\n\u001b[0;32m-> <a href='file:///home/yangliu/miniconda3/lib/python3.8/site-packages/pandas/core/generic.py?line=7889'>7890</a>\u001b[0m indexer \u001b[39m=\u001b[39m index\u001b[39m.\u001b[39;49mindexer_between_time(\n\u001b[1;32m   <a href='file:///home/yangliu/miniconda3/lib/python3.8/site-packages/pandas/core/generic.py?line=7890'>7891</a>\u001b[0m     start_time,\n\u001b[1;32m   <a href='file:///home/yangliu/miniconda3/lib/python3.8/site-packages/pandas/core/generic.py?line=7891'>7892</a>\u001b[0m     end_time,\n\u001b[1;32m   <a href='file:///home/yangliu/miniconda3/lib/python3.8/site-packages/pandas/core/generic.py?line=7892'>7893</a>\u001b[0m     include_start\u001b[39m=\u001b[39;49mleft_inclusive,\n\u001b[1;32m   <a href='file:///home/yangliu/miniconda3/lib/python3.8/site-packages/pandas/core/generic.py?line=7893'>7894</a>\u001b[0m     include_end\u001b[39m=\u001b[39;49mright_inclusive,\n\u001b[1;32m   <a href='file:///home/yangliu/miniconda3/lib/python3.8/site-packages/pandas/core/generic.py?line=7894'>7895</a>\u001b[0m )\n\u001b[1;32m   <a href='file:///home/yangliu/miniconda3/lib/python3.8/site-packages/pandas/core/generic.py?line=7895'>7896</a>\u001b[0m \u001b[39mreturn\u001b[39;00m \u001b[39mself\u001b[39m\u001b[39m.\u001b[39m_take_with_is_copy(indexer, axis\u001b[39m=\u001b[39maxis)\n",
      "File \u001b[0;32m~/miniconda3/lib/python3.8/site-packages/pandas/core/indexes/datetimes.py:852\u001b[0m, in \u001b[0;36mDatetimeIndex.indexer_between_time\u001b[0;34m(self, start_time, end_time, include_start, include_end)\u001b[0m\n\u001b[1;32m    <a href='file:///home/yangliu/miniconda3/lib/python3.8/site-packages/pandas/core/indexes/datetimes.py?line=826'>827</a>\u001b[0m \u001b[39mdef\u001b[39;00m \u001b[39mindexer_between_time\u001b[39m(\n\u001b[1;32m    <a href='file:///home/yangliu/miniconda3/lib/python3.8/site-packages/pandas/core/indexes/datetimes.py?line=827'>828</a>\u001b[0m     \u001b[39mself\u001b[39m, start_time, end_time, include_start: \u001b[39mbool\u001b[39m \u001b[39m=\u001b[39m \u001b[39mTrue\u001b[39;00m, include_end: \u001b[39mbool\u001b[39m \u001b[39m=\u001b[39m \u001b[39mTrue\u001b[39;00m\n\u001b[1;32m    <a href='file:///home/yangliu/miniconda3/lib/python3.8/site-packages/pandas/core/indexes/datetimes.py?line=828'>829</a>\u001b[0m ) \u001b[39m-\u001b[39m\u001b[39m>\u001b[39m npt\u001b[39m.\u001b[39mNDArray[np\u001b[39m.\u001b[39mintp]:\n\u001b[1;32m    <a href='file:///home/yangliu/miniconda3/lib/python3.8/site-packages/pandas/core/indexes/datetimes.py?line=829'>830</a>\u001b[0m     \u001b[39m\"\"\"\u001b[39;00m\n\u001b[1;32m    <a href='file:///home/yangliu/miniconda3/lib/python3.8/site-packages/pandas/core/indexes/datetimes.py?line=830'>831</a>\u001b[0m \u001b[39m    Return index locations of values between particular times of day\u001b[39;00m\n\u001b[1;32m    <a href='file:///home/yangliu/miniconda3/lib/python3.8/site-packages/pandas/core/indexes/datetimes.py?line=831'>832</a>\u001b[0m \u001b[39m    (e.g., 9:00-9:30AM).\u001b[39;00m\n\u001b[0;32m   (...)\u001b[0m\n\u001b[1;32m    <a href='file:///home/yangliu/miniconda3/lib/python3.8/site-packages/pandas/core/indexes/datetimes.py?line=849'>850</a>\u001b[0m \u001b[39m    DataFrame.between_time : Select values between particular times of day.\u001b[39;00m\n\u001b[1;32m    <a href='file:///home/yangliu/miniconda3/lib/python3.8/site-packages/pandas/core/indexes/datetimes.py?line=850'>851</a>\u001b[0m \u001b[39m    \"\"\"\u001b[39;00m\n\u001b[0;32m--> <a href='file:///home/yangliu/miniconda3/lib/python3.8/site-packages/pandas/core/indexes/datetimes.py?line=851'>852</a>\u001b[0m     start_time \u001b[39m=\u001b[39m to_time(start_time)\n\u001b[1;32m    <a href='file:///home/yangliu/miniconda3/lib/python3.8/site-packages/pandas/core/indexes/datetimes.py?line=852'>853</a>\u001b[0m     end_time \u001b[39m=\u001b[39m to_time(end_time)\n\u001b[1;32m    <a href='file:///home/yangliu/miniconda3/lib/python3.8/site-packages/pandas/core/indexes/datetimes.py?line=853'>854</a>\u001b[0m     time_micros \u001b[39m=\u001b[39m \u001b[39mself\u001b[39m\u001b[39m.\u001b[39m_get_time_micros()\n",
      "File \u001b[0;32m~/miniconda3/lib/python3.8/site-packages/pandas/core/tools/times.py:118\u001b[0m, in \u001b[0;36mto_time\u001b[0;34m(arg, format, infer_time_format, errors)\u001b[0m\n\u001b[1;32m    <a href='file:///home/yangliu/miniconda3/lib/python3.8/site-packages/pandas/core/tools/times.py?line=114'>115</a>\u001b[0m \u001b[39melif\u001b[39;00m is_list_like(arg):\n\u001b[1;32m    <a href='file:///home/yangliu/miniconda3/lib/python3.8/site-packages/pandas/core/tools/times.py?line=115'>116</a>\u001b[0m     \u001b[39mreturn\u001b[39;00m _convert_listlike(arg, \u001b[39mformat\u001b[39m)\n\u001b[0;32m--> <a href='file:///home/yangliu/miniconda3/lib/python3.8/site-packages/pandas/core/tools/times.py?line=117'>118</a>\u001b[0m \u001b[39mreturn\u001b[39;00m _convert_listlike(np\u001b[39m.\u001b[39;49marray([arg]), \u001b[39mformat\u001b[39;49m)[\u001b[39m0\u001b[39m]\n",
      "File \u001b[0;32m~/miniconda3/lib/python3.8/site-packages/pandas/core/tools/times.py:98\u001b[0m, in \u001b[0;36mto_time.<locals>._convert_listlike\u001b[0;34m(arg, format)\u001b[0m\n\u001b[1;32m     <a href='file:///home/yangliu/miniconda3/lib/python3.8/site-packages/pandas/core/tools/times.py?line=95'>96</a>\u001b[0m     times\u001b[39m.\u001b[39mappend(time_object)\n\u001b[1;32m     <a href='file:///home/yangliu/miniconda3/lib/python3.8/site-packages/pandas/core/tools/times.py?line=96'>97</a>\u001b[0m \u001b[39melif\u001b[39;00m errors \u001b[39m==\u001b[39m \u001b[39m\"\u001b[39m\u001b[39mraise\u001b[39m\u001b[39m\"\u001b[39m:\n\u001b[0;32m---> <a href='file:///home/yangliu/miniconda3/lib/python3.8/site-packages/pandas/core/tools/times.py?line=97'>98</a>\u001b[0m     \u001b[39mraise\u001b[39;00m \u001b[39mValueError\u001b[39;00m(\u001b[39mf\u001b[39m\u001b[39m\"\u001b[39m\u001b[39mCannot convert arg \u001b[39m\u001b[39m{\u001b[39;00marg\u001b[39m}\u001b[39;00m\u001b[39m to a time\u001b[39m\u001b[39m\"\u001b[39m)\n\u001b[1;32m     <a href='file:///home/yangliu/miniconda3/lib/python3.8/site-packages/pandas/core/tools/times.py?line=98'>99</a>\u001b[0m \u001b[39melif\u001b[39;00m errors \u001b[39m==\u001b[39m \u001b[39m\"\u001b[39m\u001b[39mignore\u001b[39m\u001b[39m\"\u001b[39m:\n\u001b[1;32m    <a href='file:///home/yangliu/miniconda3/lib/python3.8/site-packages/pandas/core/tools/times.py?line=99'>100</a>\u001b[0m     \u001b[39mreturn\u001b[39;00m arg\n",
      "\u001b[0;31mValueError\u001b[0m: Cannot convert arg [datetime.date(2021, 9, 17)] to a time"
     ]
    }
   ],
   "source": [
    "test_data.between_time(start_time=\"\", end_time=intervals[0].right.date(), inclusive=\"right\")"
   ]
  },
  {
   "cell_type": "code",
   "execution_count": 12,
   "metadata": {},
   "outputs": [
    {
     "data": {
      "text/plain": [
       "Interval('2021-09-17', '2021-11-16', closed='right')"
      ]
     },
     "execution_count": 12,
     "metadata": {},
     "output_type": "execute_result"
    }
   ],
   "source": [
    "intervals[0].contains(test_data)"
   ]
  },
  {
   "cell_type": "markdown",
   "metadata": {},
   "source": [
    "Create AdventCalendar instance."
   ]
  },
  {
   "cell_type": "code",
   "execution_count": 2,
   "metadata": {},
   "outputs": [
    {
     "data": {
      "text/plain": [
       "AdventCalendar(month=11, day=30, freq=3d, n=121)"
      ]
     },
     "execution_count": 2,
     "metadata": {},
     "output_type": "execute_result"
    }
   ],
   "source": [
    "calendar = s2s.time.AdventCalendar(anchor_date=(11, 30), freq='3d')\n",
    "calendar"
   ]
  },
  {
   "cell_type": "markdown",
   "metadata": {},
   "source": [
    "Map the calendar to a single year."
   ]
  },
  {
   "cell_type": "code",
   "execution_count": 3,
   "metadata": {},
   "outputs": [
    {
     "data": {
      "text/plain": [
       "t-0      (2020-11-27, 2020-11-30]\n",
       "t-1      (2020-11-24, 2020-11-27]\n",
       "t-2      (2020-11-21, 2020-11-24]\n",
       "t-3      (2020-11-18, 2020-11-21]\n",
       "t-4      (2020-11-15, 2020-11-18]\n",
       "                   ...           \n",
       "t-116    (2019-12-15, 2019-12-18]\n",
       "t-117    (2019-12-12, 2019-12-15]\n",
       "t-118    (2019-12-09, 2019-12-12]\n",
       "t-119    (2019-12-06, 2019-12-09]\n",
       "t-120    (2019-12-03, 2019-12-06]\n",
       "Name: 2020, Length: 121, dtype: interval"
      ]
     },
     "execution_count": 3,
     "metadata": {},
     "output_type": "execute_result"
    }
   ],
   "source": [
    "intervals = calendar.map_year(2020)\n",
    "intervals"
   ]
  },
  {
   "cell_type": "markdown",
   "metadata": {},
   "source": [
    "Map the calendar to multiple years (start year - end year)."
   ]
  },
  {
   "cell_type": "code",
   "execution_count": 4,
   "metadata": {},
   "outputs": [
    {
     "data": {
      "text/html": [
       "<div>\n",
       "<style scoped>\n",
       "    .dataframe tbody tr th:only-of-type {\n",
       "        vertical-align: middle;\n",
       "    }\n",
       "\n",
       "    .dataframe tbody tr th {\n",
       "        vertical-align: top;\n",
       "    }\n",
       "\n",
       "    .dataframe thead th {\n",
       "        text-align: right;\n",
       "    }\n",
       "</style>\n",
       "<table border=\"1\" class=\"dataframe\">\n",
       "  <thead>\n",
       "    <tr style=\"text-align: right;\">\n",
       "      <th></th>\n",
       "      <th>t-0</th>\n",
       "      <th>t-1</th>\n",
       "      <th>t-2</th>\n",
       "      <th>t-3</th>\n",
       "      <th>t-4</th>\n",
       "      <th>t-5</th>\n",
       "      <th>t-6</th>\n",
       "      <th>t-7</th>\n",
       "      <th>t-8</th>\n",
       "      <th>t-9</th>\n",
       "      <th>...</th>\n",
       "      <th>t-111</th>\n",
       "      <th>t-112</th>\n",
       "      <th>t-113</th>\n",
       "      <th>t-114</th>\n",
       "      <th>t-115</th>\n",
       "      <th>t-116</th>\n",
       "      <th>t-117</th>\n",
       "      <th>t-118</th>\n",
       "      <th>t-119</th>\n",
       "      <th>t-120</th>\n",
       "    </tr>\n",
       "  </thead>\n",
       "  <tbody>\n",
       "    <tr>\n",
       "      <th>2022</th>\n",
       "      <td>(2022-11-27, 2022-11-30]</td>\n",
       "      <td>(2022-11-24, 2022-11-27]</td>\n",
       "      <td>(2022-11-21, 2022-11-24]</td>\n",
       "      <td>(2022-11-18, 2022-11-21]</td>\n",
       "      <td>(2022-11-15, 2022-11-18]</td>\n",
       "      <td>(2022-11-12, 2022-11-15]</td>\n",
       "      <td>(2022-11-09, 2022-11-12]</td>\n",
       "      <td>(2022-11-06, 2022-11-09]</td>\n",
       "      <td>(2022-11-03, 2022-11-06]</td>\n",
       "      <td>(2022-10-31, 2022-11-03]</td>\n",
       "      <td>...</td>\n",
       "      <td>(2021-12-29, 2022-01-01]</td>\n",
       "      <td>(2021-12-26, 2021-12-29]</td>\n",
       "      <td>(2021-12-23, 2021-12-26]</td>\n",
       "      <td>(2021-12-20, 2021-12-23]</td>\n",
       "      <td>(2021-12-17, 2021-12-20]</td>\n",
       "      <td>(2021-12-14, 2021-12-17]</td>\n",
       "      <td>(2021-12-11, 2021-12-14]</td>\n",
       "      <td>(2021-12-08, 2021-12-11]</td>\n",
       "      <td>(2021-12-05, 2021-12-08]</td>\n",
       "      <td>(2021-12-02, 2021-12-05]</td>\n",
       "    </tr>\n",
       "    <tr>\n",
       "      <th>2021</th>\n",
       "      <td>(2021-11-27, 2021-11-30]</td>\n",
       "      <td>(2021-11-24, 2021-11-27]</td>\n",
       "      <td>(2021-11-21, 2021-11-24]</td>\n",
       "      <td>(2021-11-18, 2021-11-21]</td>\n",
       "      <td>(2021-11-15, 2021-11-18]</td>\n",
       "      <td>(2021-11-12, 2021-11-15]</td>\n",
       "      <td>(2021-11-09, 2021-11-12]</td>\n",
       "      <td>(2021-11-06, 2021-11-09]</td>\n",
       "      <td>(2021-11-03, 2021-11-06]</td>\n",
       "      <td>(2021-10-31, 2021-11-03]</td>\n",
       "      <td>...</td>\n",
       "      <td>(2020-12-29, 2021-01-01]</td>\n",
       "      <td>(2020-12-26, 2020-12-29]</td>\n",
       "      <td>(2020-12-23, 2020-12-26]</td>\n",
       "      <td>(2020-12-20, 2020-12-23]</td>\n",
       "      <td>(2020-12-17, 2020-12-20]</td>\n",
       "      <td>(2020-12-14, 2020-12-17]</td>\n",
       "      <td>(2020-12-11, 2020-12-14]</td>\n",
       "      <td>(2020-12-08, 2020-12-11]</td>\n",
       "      <td>(2020-12-05, 2020-12-08]</td>\n",
       "      <td>(2020-12-02, 2020-12-05]</td>\n",
       "    </tr>\n",
       "    <tr>\n",
       "      <th>2020</th>\n",
       "      <td>(2020-11-27, 2020-11-30]</td>\n",
       "      <td>(2020-11-24, 2020-11-27]</td>\n",
       "      <td>(2020-11-21, 2020-11-24]</td>\n",
       "      <td>(2020-11-18, 2020-11-21]</td>\n",
       "      <td>(2020-11-15, 2020-11-18]</td>\n",
       "      <td>(2020-11-12, 2020-11-15]</td>\n",
       "      <td>(2020-11-09, 2020-11-12]</td>\n",
       "      <td>(2020-11-06, 2020-11-09]</td>\n",
       "      <td>(2020-11-03, 2020-11-06]</td>\n",
       "      <td>(2020-10-31, 2020-11-03]</td>\n",
       "      <td>...</td>\n",
       "      <td>(2019-12-30, 2020-01-02]</td>\n",
       "      <td>(2019-12-27, 2019-12-30]</td>\n",
       "      <td>(2019-12-24, 2019-12-27]</td>\n",
       "      <td>(2019-12-21, 2019-12-24]</td>\n",
       "      <td>(2019-12-18, 2019-12-21]</td>\n",
       "      <td>(2019-12-15, 2019-12-18]</td>\n",
       "      <td>(2019-12-12, 2019-12-15]</td>\n",
       "      <td>(2019-12-09, 2019-12-12]</td>\n",
       "      <td>(2019-12-06, 2019-12-09]</td>\n",
       "      <td>(2019-12-03, 2019-12-06]</td>\n",
       "    </tr>\n",
       "  </tbody>\n",
       "</table>\n",
       "<p>3 rows × 121 columns</p>\n",
       "</div>"
      ],
      "text/plain": [
       "                           t-0                       t-1  \\\n",
       "2022  (2022-11-27, 2022-11-30]  (2022-11-24, 2022-11-27]   \n",
       "2021  (2021-11-27, 2021-11-30]  (2021-11-24, 2021-11-27]   \n",
       "2020  (2020-11-27, 2020-11-30]  (2020-11-24, 2020-11-27]   \n",
       "\n",
       "                           t-2                       t-3  \\\n",
       "2022  (2022-11-21, 2022-11-24]  (2022-11-18, 2022-11-21]   \n",
       "2021  (2021-11-21, 2021-11-24]  (2021-11-18, 2021-11-21]   \n",
       "2020  (2020-11-21, 2020-11-24]  (2020-11-18, 2020-11-21]   \n",
       "\n",
       "                           t-4                       t-5  \\\n",
       "2022  (2022-11-15, 2022-11-18]  (2022-11-12, 2022-11-15]   \n",
       "2021  (2021-11-15, 2021-11-18]  (2021-11-12, 2021-11-15]   \n",
       "2020  (2020-11-15, 2020-11-18]  (2020-11-12, 2020-11-15]   \n",
       "\n",
       "                           t-6                       t-7  \\\n",
       "2022  (2022-11-09, 2022-11-12]  (2022-11-06, 2022-11-09]   \n",
       "2021  (2021-11-09, 2021-11-12]  (2021-11-06, 2021-11-09]   \n",
       "2020  (2020-11-09, 2020-11-12]  (2020-11-06, 2020-11-09]   \n",
       "\n",
       "                           t-8                       t-9  ...  \\\n",
       "2022  (2022-11-03, 2022-11-06]  (2022-10-31, 2022-11-03]  ...   \n",
       "2021  (2021-11-03, 2021-11-06]  (2021-10-31, 2021-11-03]  ...   \n",
       "2020  (2020-11-03, 2020-11-06]  (2020-10-31, 2020-11-03]  ...   \n",
       "\n",
       "                         t-111                     t-112  \\\n",
       "2022  (2021-12-29, 2022-01-01]  (2021-12-26, 2021-12-29]   \n",
       "2021  (2020-12-29, 2021-01-01]  (2020-12-26, 2020-12-29]   \n",
       "2020  (2019-12-30, 2020-01-02]  (2019-12-27, 2019-12-30]   \n",
       "\n",
       "                         t-113                     t-114  \\\n",
       "2022  (2021-12-23, 2021-12-26]  (2021-12-20, 2021-12-23]   \n",
       "2021  (2020-12-23, 2020-12-26]  (2020-12-20, 2020-12-23]   \n",
       "2020  (2019-12-24, 2019-12-27]  (2019-12-21, 2019-12-24]   \n",
       "\n",
       "                         t-115                     t-116  \\\n",
       "2022  (2021-12-17, 2021-12-20]  (2021-12-14, 2021-12-17]   \n",
       "2021  (2020-12-17, 2020-12-20]  (2020-12-14, 2020-12-17]   \n",
       "2020  (2019-12-18, 2019-12-21]  (2019-12-15, 2019-12-18]   \n",
       "\n",
       "                         t-117                     t-118  \\\n",
       "2022  (2021-12-11, 2021-12-14]  (2021-12-08, 2021-12-11]   \n",
       "2021  (2020-12-11, 2020-12-14]  (2020-12-08, 2020-12-11]   \n",
       "2020  (2019-12-12, 2019-12-15]  (2019-12-09, 2019-12-12]   \n",
       "\n",
       "                         t-119                     t-120  \n",
       "2022  (2021-12-05, 2021-12-08]  (2021-12-02, 2021-12-05]  \n",
       "2021  (2020-12-05, 2020-12-08]  (2020-12-02, 2020-12-05]  \n",
       "2020  (2019-12-06, 2019-12-09]  (2019-12-03, 2019-12-06]  \n",
       "\n",
       "[3 rows x 121 columns]"
      ]
     },
     "execution_count": 4,
     "metadata": {},
     "output_type": "execute_result"
    }
   ],
   "source": [
    "intervals = calendar.map_years(2020, 2022)\n",
    "intervals"
   ]
  },
  {
   "cell_type": "markdown",
   "metadata": {},
   "source": [
    "Flatten the indices."
   ]
  },
  {
   "cell_type": "code",
   "execution_count": 5,
   "metadata": {},
   "outputs": [
    {
     "data": {
      "text/plain": [
       "0      (2022-11-27, 2022-11-30]\n",
       "1      (2022-11-24, 2022-11-27]\n",
       "2      (2022-11-21, 2022-11-24]\n",
       "3      (2022-11-18, 2022-11-21]\n",
       "4      (2022-11-15, 2022-11-18]\n",
       "                 ...           \n",
       "358    (2019-12-15, 2019-12-18]\n",
       "359    (2019-12-12, 2019-12-15]\n",
       "360    (2019-12-09, 2019-12-12]\n",
       "361    (2019-12-06, 2019-12-09]\n",
       "362    (2019-12-03, 2019-12-06]\n",
       "Length: 363, dtype: interval"
      ]
     },
     "execution_count": 5,
     "metadata": {},
     "output_type": "execute_result"
    }
   ],
   "source": [
    "intervals = calendar.map_years(2020, 2022, flat=True)\n",
    "intervals"
   ]
  },
  {
   "cell_type": "markdown",
   "metadata": {},
   "source": [
    "Map the calendar to the input data."
   ]
  },
  {
   "cell_type": "markdown",
   "metadata": {},
   "source": [
    "Discard function."
   ]
  },
  {
   "cell_type": "code",
   "execution_count": 6,
   "metadata": {},
   "outputs": [],
   "source": [
    "# lag 4 (see mark_target_period in time.py)\n",
    "# intervals.iloc[:,4:4+4] # get lag 4 for t-0 to t-3 function(lag, start_target, end_target)\n",
    "# intervals.iloc[:,4:4+4].stack().reset_index(drop=True)"
   ]
  },
  {
   "cell_type": "markdown",
   "metadata": {},
   "source": [
    "Resample the input data with target frequency."
   ]
  },
  {
   "cell_type": "markdown",
   "metadata": {},
   "source": [
    "Upscale with `pd.Series` and `pd.DateFrame`."
   ]
  },
  {
   "cell_type": "code",
   "execution_count": 7,
   "metadata": {},
   "outputs": [
    {
     "data": {
      "text/plain": [
       "2021-11-16    0.949412\n",
       "2021-11-15    0.510392\n",
       "2021-11-14    0.281098\n",
       "2021-11-13    0.198509\n",
       "2021-11-12    0.674174\n",
       "2021-11-11    0.978335\n",
       "2021-11-10    0.043997\n",
       "2021-11-09    0.597530\n",
       "2021-11-08    0.104054\n",
       "2021-11-07    0.323263\n",
       "2021-11-06    0.416058\n",
       "2021-11-05    0.602950\n",
       "2021-11-04    0.395967\n",
       "2021-11-03    0.102207\n",
       "2021-11-02    0.683043\n",
       "2021-11-01    0.394318\n",
       "Freq: -1D, dtype: float64"
      ]
     },
     "execution_count": 7,
     "metadata": {},
     "output_type": "execute_result"
    }
   ],
   "source": [
    "time_index = pd.date_range('20211101', '20211116', freq='1d')\n",
    "var = np.random.random(len(time_index))\n",
    "# input data in reverse order\n",
    "test_data = pd.Series(var[::-1], index=time_index[::-1])\n",
    "test_data"
   ]
  },
  {
   "cell_type": "code",
   "execution_count": 8,
   "metadata": {},
   "outputs": [
    {
     "data": {
      "text/plain": [
       "2021-11-16    0.522717\n",
       "2021-11-11    0.409436\n",
       "2021-11-06    0.440045\n",
       "2021-11-01    0.394318\n",
       "dtype: float64"
      ]
     },
     "execution_count": 8,
     "metadata": {},
     "output_type": "execute_result"
    }
   ],
   "source": [
    "# resample data\n",
    "resample_data = calendar.resample(test_data, target_freq='5d', label=\"right\")\n",
    "# modify index\n",
    "loffset = '-1d'\n",
    "resample_data.index = resample_data.index + to_offset(loffset)\n",
    "resample_data.rename(index={resample_data.index[-1]:test_data.index[-1]}, inplace=True)\n",
    "resample_data"
   ]
  },
  {
   "cell_type": "code",
   "execution_count": 9,
   "metadata": {},
   "outputs": [
    {
     "data": {
      "text/html": [
       "<div>\n",
       "<style scoped>\n",
       "    .dataframe tbody tr th:only-of-type {\n",
       "        vertical-align: middle;\n",
       "    }\n",
       "\n",
       "    .dataframe tbody tr th {\n",
       "        vertical-align: top;\n",
       "    }\n",
       "\n",
       "    .dataframe thead th {\n",
       "        text-align: right;\n",
       "    }\n",
       "</style>\n",
       "<table border=\"1\" class=\"dataframe\">\n",
       "  <thead>\n",
       "    <tr style=\"text-align: right;\">\n",
       "      <th></th>\n",
       "      <th>var_1</th>\n",
       "      <th>var_2</th>\n",
       "    </tr>\n",
       "  </thead>\n",
       "  <tbody>\n",
       "    <tr>\n",
       "      <th>2021-11-01</th>\n",
       "      <td>0.942670</td>\n",
       "      <td>0.323034</td>\n",
       "    </tr>\n",
       "    <tr>\n",
       "      <th>2021-11-02</th>\n",
       "      <td>0.410161</td>\n",
       "      <td>0.343438</td>\n",
       "    </tr>\n",
       "    <tr>\n",
       "      <th>2021-11-03</th>\n",
       "      <td>0.383024</td>\n",
       "      <td>0.731299</td>\n",
       "    </tr>\n",
       "    <tr>\n",
       "      <th>2021-11-04</th>\n",
       "      <td>0.091761</td>\n",
       "      <td>0.102976</td>\n",
       "    </tr>\n",
       "    <tr>\n",
       "      <th>2021-11-05</th>\n",
       "      <td>0.725443</td>\n",
       "      <td>0.947543</td>\n",
       "    </tr>\n",
       "    <tr>\n",
       "      <th>2021-11-06</th>\n",
       "      <td>0.201507</td>\n",
       "      <td>0.488501</td>\n",
       "    </tr>\n",
       "    <tr>\n",
       "      <th>2021-11-07</th>\n",
       "      <td>0.407095</td>\n",
       "      <td>0.249866</td>\n",
       "    </tr>\n",
       "    <tr>\n",
       "      <th>2021-11-08</th>\n",
       "      <td>0.405472</td>\n",
       "      <td>0.223313</td>\n",
       "    </tr>\n",
       "    <tr>\n",
       "      <th>2021-11-09</th>\n",
       "      <td>0.348221</td>\n",
       "      <td>0.395408</td>\n",
       "    </tr>\n",
       "    <tr>\n",
       "      <th>2021-11-10</th>\n",
       "      <td>0.957883</td>\n",
       "      <td>0.209745</td>\n",
       "    </tr>\n",
       "    <tr>\n",
       "      <th>2021-11-11</th>\n",
       "      <td>0.248228</td>\n",
       "      <td>0.967793</td>\n",
       "    </tr>\n",
       "    <tr>\n",
       "      <th>2021-11-12</th>\n",
       "      <td>0.710092</td>\n",
       "      <td>0.108694</td>\n",
       "    </tr>\n",
       "    <tr>\n",
       "      <th>2021-11-13</th>\n",
       "      <td>0.584724</td>\n",
       "      <td>0.784839</td>\n",
       "    </tr>\n",
       "    <tr>\n",
       "      <th>2021-11-14</th>\n",
       "      <td>0.084491</td>\n",
       "      <td>0.350684</td>\n",
       "    </tr>\n",
       "    <tr>\n",
       "      <th>2021-11-15</th>\n",
       "      <td>0.562401</td>\n",
       "      <td>0.431191</td>\n",
       "    </tr>\n",
       "    <tr>\n",
       "      <th>2021-11-16</th>\n",
       "      <td>0.411930</td>\n",
       "      <td>0.825616</td>\n",
       "    </tr>\n",
       "  </tbody>\n",
       "</table>\n",
       "</div>"
      ],
      "text/plain": [
       "               var_1     var_2\n",
       "2021-11-01  0.942670  0.323034\n",
       "2021-11-02  0.410161  0.343438\n",
       "2021-11-03  0.383024  0.731299\n",
       "2021-11-04  0.091761  0.102976\n",
       "2021-11-05  0.725443  0.947543\n",
       "2021-11-06  0.201507  0.488501\n",
       "2021-11-07  0.407095  0.249866\n",
       "2021-11-08  0.405472  0.223313\n",
       "2021-11-09  0.348221  0.395408\n",
       "2021-11-10  0.957883  0.209745\n",
       "2021-11-11  0.248228  0.967793\n",
       "2021-11-12  0.710092  0.108694\n",
       "2021-11-13  0.584724  0.784839\n",
       "2021-11-14  0.084491  0.350684\n",
       "2021-11-15  0.562401  0.431191\n",
       "2021-11-16  0.411930  0.825616"
      ]
     },
     "execution_count": 9,
     "metadata": {},
     "output_type": "execute_result"
    }
   ],
   "source": [
    "# input data in normal order\n",
    "var_1 = np.random.random(len(time_index))\n",
    "var_2 = np.random.random(len(time_index))\n",
    "test_data = pd.DataFrame({\"var_1\": var_1, \"var_2\": var_2}, index=time_index)\n",
    "test_data"
   ]
  },
  {
   "cell_type": "code",
   "execution_count": 10,
   "metadata": {},
   "outputs": [
    {
     "data": {
      "text/html": [
       "<div>\n",
       "<style scoped>\n",
       "    .dataframe tbody tr th:only-of-type {\n",
       "        vertical-align: middle;\n",
       "    }\n",
       "\n",
       "    .dataframe tbody tr th {\n",
       "        vertical-align: top;\n",
       "    }\n",
       "\n",
       "    .dataframe thead th {\n",
       "        text-align: right;\n",
       "    }\n",
       "</style>\n",
       "<table border=\"1\" class=\"dataframe\">\n",
       "  <thead>\n",
       "    <tr style=\"text-align: right;\">\n",
       "      <th></th>\n",
       "      <th>var_1</th>\n",
       "      <th>var_2</th>\n",
       "    </tr>\n",
       "  </thead>\n",
       "  <tbody>\n",
       "    <tr>\n",
       "      <th>2021-11-01</th>\n",
       "      <td>0.510612</td>\n",
       "      <td>0.489658</td>\n",
       "    </tr>\n",
       "    <tr>\n",
       "      <th>2021-11-06</th>\n",
       "      <td>0.464035</td>\n",
       "      <td>0.313366</td>\n",
       "    </tr>\n",
       "    <tr>\n",
       "      <th>2021-11-11</th>\n",
       "      <td>0.437987</td>\n",
       "      <td>0.528640</td>\n",
       "    </tr>\n",
       "    <tr>\n",
       "      <th>2021-11-16</th>\n",
       "      <td>0.411930</td>\n",
       "      <td>0.825616</td>\n",
       "    </tr>\n",
       "  </tbody>\n",
       "</table>\n",
       "</div>"
      ],
      "text/plain": [
       "               var_1     var_2\n",
       "2021-11-01  0.510612  0.489658\n",
       "2021-11-06  0.464035  0.313366\n",
       "2021-11-11  0.437987  0.528640\n",
       "2021-11-16  0.411930  0.825616"
      ]
     },
     "execution_count": 10,
     "metadata": {},
     "output_type": "execute_result"
    }
   ],
   "source": [
    "# resample data\n",
    "resample_data = calendar.resample(test_data, target_freq='5d', label=\"left\")\n",
    "resample_data"
   ]
  },
  {
   "cell_type": "markdown",
   "metadata": {},
   "source": [
    "Downscale with `pd.Series` and `pd.DateFrame`."
   ]
  },
  {
   "cell_type": "code",
   "execution_count": 11,
   "metadata": {},
   "outputs": [
    {
     "data": {
      "text/plain": [
       "2021-11-15    0.795974\n",
       "2021-11-13    0.375969\n",
       "2021-11-11    0.982826\n",
       "2021-11-09    0.272582\n",
       "2021-11-07    0.628695\n",
       "2021-11-05    0.616569\n",
       "2021-11-03    0.208658\n",
       "2021-11-01    0.019459\n",
       "Freq: -2D, dtype: float64"
      ]
     },
     "execution_count": 11,
     "metadata": {},
     "output_type": "execute_result"
    }
   ],
   "source": [
    "time_index = pd.date_range('20211101', '20211116', freq='2d')\n",
    "data = np.random.random(len(time_index))\n",
    "test_data = pd.Series(data[::-1], index=time_index[::-1])\n",
    "test_data"
   ]
  },
  {
   "cell_type": "code",
   "execution_count": 12,
   "metadata": {},
   "outputs": [
    {
     "name": "stderr",
     "output_type": "stream",
     "text": [
      "/home/yangliu/AI4S2S/ai4s2s/s2s/time.py:257: UserWarning: Target frequency is smaller than the original frequency.It is downscaling and please check the returned values.\n",
      "  warnings.warn(\"Target frequency is smaller than the original frequency.\"\n"
     ]
    },
    {
     "data": {
      "text/plain": [
       "2021-11-15    0.795974\n",
       "2021-11-14         NaN\n",
       "2021-11-13    0.375969\n",
       "2021-11-12         NaN\n",
       "2021-11-11    0.982826\n",
       "2021-11-10         NaN\n",
       "2021-11-09    0.272582\n",
       "2021-11-08         NaN\n",
       "2021-11-07    0.628695\n",
       "2021-11-06         NaN\n",
       "2021-11-05    0.616569\n",
       "2021-11-04         NaN\n",
       "2021-11-03    0.208658\n",
       "2021-11-02         NaN\n",
       "2021-11-01    0.019459\n",
       "Freq: -1D, dtype: float64"
      ]
     },
     "execution_count": 12,
     "metadata": {},
     "output_type": "execute_result"
    }
   ],
   "source": [
    "resample_data = calendar.resample(test_data, target_freq='1d')\n",
    "resample_data"
   ]
  }
 ],
 "metadata": {
  "interpreter": {
   "hash": "e7604e8ec5f09e490e10161e37a4725039efd3ab703d81b1b8a1e00d6741866c"
  },
  "kernelspec": {
   "display_name": "Python 3.8.5 ('base')",
   "language": "python",
   "name": "python3"
  },
  "language_info": {
   "codemirror_mode": {
    "name": "ipython",
    "version": 3
   },
   "file_extension": ".py",
   "mimetype": "text/x-python",
   "name": "python",
   "nbconvert_exporter": "python",
   "pygments_lexer": "ipython3",
   "version": "3.8.5"
  },
  "orig_nbformat": 4
 },
 "nbformat": 4,
 "nbformat_minor": 2
}
