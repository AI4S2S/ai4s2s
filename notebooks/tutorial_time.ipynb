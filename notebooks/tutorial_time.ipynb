{
 "cells": [
  {
   "cell_type": "markdown",
   "metadata": {},
   "source": [
    "Tutorial of `AdventCalendar` module in `s2s` package."
   ]
  },
  {
   "cell_type": "code",
   "execution_count": 1,
   "metadata": {},
   "outputs": [],
   "source": [
    "import numpy as np\n",
    "import pandas as pd\n",
    "import s2spy.time"
   ]
  },
  {
   "cell_type": "code",
   "execution_count": 2,
   "metadata": {},
   "outputs": [
    {
     "name": "stdout",
     "output_type": "stream",
     "text": [
      "AdventCalendar(month=12, day=31, freq=7d, n_targets=1, max_lag=None)\n"
     ]
    }
   ],
   "source": [
    "calendar = s2spy.time.AdventCalendar(anchor=(12, 31), freq=\"7d\")\n",
    "calendar\n",
    "print(calendar)"
   ]
  },
  {
   "cell_type": "markdown",
   "metadata": {},
   "source": [
    "Create AdventCalendar instance."
   ]
  },
  {
   "cell_type": "code",
   "execution_count": 3,
   "metadata": {},
   "outputs": [
    {
     "data": {
      "text/plain": [
       "AdventCalendar(month=11, day=30, freq=90d, n_targets=1, max_lag=None)"
      ]
     },
     "execution_count": 3,
     "metadata": {},
     "output_type": "execute_result"
    }
   ],
   "source": [
    "calendar = s2spy.time.AdventCalendar(anchor=(11, 30), freq='90d', n_targets=1)\n",
    "calendar"
   ]
  },
  {
   "cell_type": "markdown",
   "metadata": {},
   "source": [
    "Map the calendar to a single year."
   ]
  },
  {
   "cell_type": "code",
   "execution_count": 4,
   "metadata": {},
   "outputs": [
    {
     "data": {
      "text/html": [
       "<div>\n",
       "<style scoped>\n",
       "    .dataframe tbody tr th:only-of-type {\n",
       "        vertical-align: middle;\n",
       "    }\n",
       "\n",
       "    .dataframe tbody tr th {\n",
       "        vertical-align: top;\n",
       "    }\n",
       "\n",
       "    .dataframe thead th {\n",
       "        text-align: right;\n",
       "    }\n",
       "</style>\n",
       "<table border=\"1\" class=\"dataframe\">\n",
       "  <thead>\n",
       "    <tr style=\"text-align: right;\">\n",
       "      <th>i_interval</th>\n",
       "      <th>(target) 0</th>\n",
       "      <th>1</th>\n",
       "      <th>2</th>\n",
       "      <th>3</th>\n",
       "    </tr>\n",
       "    <tr>\n",
       "      <th>anchor_year</th>\n",
       "      <th></th>\n",
       "      <th></th>\n",
       "      <th></th>\n",
       "      <th></th>\n",
       "    </tr>\n",
       "  </thead>\n",
       "  <tbody>\n",
       "    <tr>\n",
       "      <th>2020</th>\n",
       "      <td>(2020-09-01, 2020-11-30]</td>\n",
       "      <td>(2020-06-03, 2020-09-01]</td>\n",
       "      <td>(2020-03-05, 2020-06-03]</td>\n",
       "      <td>(2019-12-06, 2020-03-05]</td>\n",
       "    </tr>\n",
       "  </tbody>\n",
       "</table>\n",
       "</div>"
      ],
      "text/plain": [
       "i_interval                 (target) 0                         1  \\\n",
       "anchor_year                                                       \n",
       "2020         (2020-09-01, 2020-11-30]  (2020-06-03, 2020-09-01]   \n",
       "\n",
       "i_interval                          2                         3  \n",
       "anchor_year                                                      \n",
       "2020         (2020-03-05, 2020-06-03]  (2019-12-06, 2020-03-05]  "
      ]
     },
     "execution_count": 4,
     "metadata": {},
     "output_type": "execute_result"
    }
   ],
   "source": [
    "calendar = calendar.map_years(2020, 2020)\n",
    "calendar.show()"
   ]
  },
  {
   "cell_type": "markdown",
   "metadata": {},
   "source": [
    "Map the calendar to multiple years (start year - end year)."
   ]
  },
  {
   "cell_type": "code",
   "execution_count": 5,
   "metadata": {},
   "outputs": [
    {
     "data": {
      "text/html": [
       "<div>\n",
       "<style scoped>\n",
       "    .dataframe tbody tr th:only-of-type {\n",
       "        vertical-align: middle;\n",
       "    }\n",
       "\n",
       "    .dataframe tbody tr th {\n",
       "        vertical-align: top;\n",
       "    }\n",
       "\n",
       "    .dataframe thead th {\n",
       "        text-align: right;\n",
       "    }\n",
       "</style>\n",
       "<table border=\"1\" class=\"dataframe\">\n",
       "  <thead>\n",
       "    <tr style=\"text-align: right;\">\n",
       "      <th>i_interval</th>\n",
       "      <th>(target) 0</th>\n",
       "      <th>1</th>\n",
       "      <th>2</th>\n",
       "      <th>3</th>\n",
       "    </tr>\n",
       "    <tr>\n",
       "      <th>anchor_year</th>\n",
       "      <th></th>\n",
       "      <th></th>\n",
       "      <th></th>\n",
       "      <th></th>\n",
       "    </tr>\n",
       "  </thead>\n",
       "  <tbody>\n",
       "    <tr>\n",
       "      <th>2022</th>\n",
       "      <td>(2022-09-01, 2022-11-30]</td>\n",
       "      <td>(2022-06-03, 2022-09-01]</td>\n",
       "      <td>(2022-03-05, 2022-06-03]</td>\n",
       "      <td>(2021-12-05, 2022-03-05]</td>\n",
       "    </tr>\n",
       "    <tr>\n",
       "      <th>2021</th>\n",
       "      <td>(2021-09-01, 2021-11-30]</td>\n",
       "      <td>(2021-06-03, 2021-09-01]</td>\n",
       "      <td>(2021-03-05, 2021-06-03]</td>\n",
       "      <td>(2020-12-05, 2021-03-05]</td>\n",
       "    </tr>\n",
       "    <tr>\n",
       "      <th>2020</th>\n",
       "      <td>(2020-09-01, 2020-11-30]</td>\n",
       "      <td>(2020-06-03, 2020-09-01]</td>\n",
       "      <td>(2020-03-05, 2020-06-03]</td>\n",
       "      <td>(2019-12-06, 2020-03-05]</td>\n",
       "    </tr>\n",
       "  </tbody>\n",
       "</table>\n",
       "</div>"
      ],
      "text/plain": [
       "i_interval                 (target) 0                         1  \\\n",
       "anchor_year                                                       \n",
       "2022         (2022-09-01, 2022-11-30]  (2022-06-03, 2022-09-01]   \n",
       "2021         (2021-09-01, 2021-11-30]  (2021-06-03, 2021-09-01]   \n",
       "2020         (2020-09-01, 2020-11-30]  (2020-06-03, 2020-09-01]   \n",
       "\n",
       "i_interval                          2                         3  \n",
       "anchor_year                                                      \n",
       "2022         (2022-03-05, 2022-06-03]  (2021-12-05, 2022-03-05]  \n",
       "2021         (2021-03-05, 2021-06-03]  (2020-12-05, 2021-03-05]  \n",
       "2020         (2020-03-05, 2020-06-03]  (2019-12-06, 2020-03-05]  "
      ]
     },
     "execution_count": 5,
     "metadata": {},
     "output_type": "execute_result"
    }
   ],
   "source": [
    "calendar = calendar.map_years(2020, 2022)\n",
    "calendar.show()"
   ]
  },
  {
   "cell_type": "markdown",
   "metadata": {},
   "source": [
    "Flatten the indices."
   ]
  },
  {
   "cell_type": "code",
   "execution_count": 6,
   "metadata": {},
   "outputs": [
    {
     "data": {
      "text/plain": [
       "anchor_year  i_interval\n",
       "2022         0             (2022-09-01, 2022-11-30]\n",
       "             1             (2022-06-03, 2022-09-01]\n",
       "             2             (2022-03-05, 2022-06-03]\n",
       "             3             (2021-12-05, 2022-03-05]\n",
       "2021         0             (2021-09-01, 2021-11-30]\n",
       "             1             (2021-06-03, 2021-09-01]\n",
       "             2             (2021-03-05, 2021-06-03]\n",
       "             3             (2020-12-05, 2021-03-05]\n",
       "2020         0             (2020-09-01, 2020-11-30]\n",
       "             1             (2020-06-03, 2020-09-01]\n",
       "             2             (2020-03-05, 2020-06-03]\n",
       "             3             (2019-12-06, 2020-03-05]\n",
       "dtype: interval"
      ]
     },
     "execution_count": 6,
     "metadata": {},
     "output_type": "execute_result"
    }
   ],
   "source": [
    "intervals = calendar.map_years(2020, 2022).flat\n",
    "intervals"
   ]
  },
  {
   "cell_type": "markdown",
   "metadata": {},
   "source": [
    "Map the calendar to the input data."
   ]
  },
  {
   "cell_type": "code",
   "execution_count": 7,
   "metadata": {},
   "outputs": [
    {
     "data": {
      "text/html": [
       "<div>\n",
       "<style scoped>\n",
       "    .dataframe tbody tr th:only-of-type {\n",
       "        vertical-align: middle;\n",
       "    }\n",
       "\n",
       "    .dataframe tbody tr th {\n",
       "        vertical-align: top;\n",
       "    }\n",
       "\n",
       "    .dataframe thead th {\n",
       "        text-align: right;\n",
       "    }\n",
       "</style>\n",
       "<table border=\"1\" class=\"dataframe\">\n",
       "  <thead>\n",
       "    <tr style=\"text-align: right;\">\n",
       "      <th>i_interval</th>\n",
       "      <th>(target) 0</th>\n",
       "      <th>1</th>\n",
       "      <th>2</th>\n",
       "      <th>3</th>\n",
       "    </tr>\n",
       "    <tr>\n",
       "      <th>anchor_year</th>\n",
       "      <th></th>\n",
       "      <th></th>\n",
       "      <th></th>\n",
       "      <th></th>\n",
       "    </tr>\n",
       "  </thead>\n",
       "  <tbody>\n",
       "    <tr>\n",
       "      <th>2022</th>\n",
       "      <td>(2022-09-01, 2022-11-30]</td>\n",
       "      <td>(2022-06-03, 2022-09-01]</td>\n",
       "      <td>(2022-03-05, 2022-06-03]</td>\n",
       "      <td>(2021-12-05, 2022-03-05]</td>\n",
       "    </tr>\n",
       "    <tr>\n",
       "      <th>2021</th>\n",
       "      <td>(2021-09-01, 2021-11-30]</td>\n",
       "      <td>(2021-06-03, 2021-09-01]</td>\n",
       "      <td>(2021-03-05, 2021-06-03]</td>\n",
       "      <td>(2020-12-05, 2021-03-05]</td>\n",
       "    </tr>\n",
       "    <tr>\n",
       "      <th>2020</th>\n",
       "      <td>(2020-09-01, 2020-11-30]</td>\n",
       "      <td>(2020-06-03, 2020-09-01]</td>\n",
       "      <td>(2020-03-05, 2020-06-03]</td>\n",
       "      <td>(2019-12-06, 2020-03-05]</td>\n",
       "    </tr>\n",
       "  </tbody>\n",
       "</table>\n",
       "</div>"
      ],
      "text/plain": [
       "i_interval                 (target) 0                         1  \\\n",
       "anchor_year                                                       \n",
       "2022         (2022-09-01, 2022-11-30]  (2022-06-03, 2022-09-01]   \n",
       "2021         (2021-09-01, 2021-11-30]  (2021-06-03, 2021-09-01]   \n",
       "2020         (2020-09-01, 2020-11-30]  (2020-06-03, 2020-09-01]   \n",
       "\n",
       "i_interval                          2                         3  \n",
       "anchor_year                                                      \n",
       "2022         (2022-03-05, 2022-06-03]  (2021-12-05, 2022-03-05]  \n",
       "2021         (2021-03-05, 2021-06-03]  (2020-12-05, 2021-03-05]  \n",
       "2020         (2020-03-05, 2020-06-03]  (2019-12-06, 2020-03-05]  "
      ]
     },
     "execution_count": 7,
     "metadata": {},
     "output_type": "execute_result"
    }
   ],
   "source": [
    "# create dummy data for testing\n",
    "time_index = pd.date_range('20171110', '20211211', freq='10d')\n",
    "var = np.random.random(len(time_index))\n",
    "# generate input data\n",
    "test_data = pd.Series(var, index=time_index)\n",
    "# map year to data\n",
    "calendar = calendar.map_to_data(test_data)\n",
    "calendar.show()"
   ]
  },
  {
   "cell_type": "code",
   "execution_count": null,
   "metadata": {},
   "outputs": [],
   "source": []
  }
 ],
 "metadata": {
  "kernelspec": {
   "display_name": "Python 3.10.5 ('ai4s2s')",
   "language": "python",
   "name": "python3"
  },
  "language_info": {
   "codemirror_mode": {
    "name": "ipython",
    "version": 3
   },
   "file_extension": ".py",
   "mimetype": "text/x-python",
   "name": "python",
   "nbconvert_exporter": "python",
   "pygments_lexer": "ipython3",
   "version": "3.10.5"
  },
  "orig_nbformat": 4,
  "vscode": {
   "interpreter": {
    "hash": "a87ac8a6238ac8fffcd070769ea0ffc634a0ba702c52b706c3554dda7777b3fd"
   }
  }
 },
 "nbformat": 4,
 "nbformat_minor": 2
}
