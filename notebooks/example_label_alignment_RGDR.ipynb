{
      "cells": [
            {
                  "cell_type": "markdown",
                  "metadata": {},
                  "source": [
                        "# RGDR & traintest\n",
                        "This notebook demonstrates how to use RGDR in a train-test splitting scenario, to get the data ready for training a ML model."
                  ]
            },
            {
                  "cell_type": "markdown",
                  "metadata": {},
                  "source": [
                        "First we import the required modules and load in the example data."
                  ]
            },
            {
                  "cell_type": "code",
                  "execution_count": 1,
                  "metadata": {},
                  "outputs": [],
                  "source": [
                        "import xarray as xr\n",
                        "import matplotlib.pyplot as plt\n",
                        "import lilio\n",
                        "import s2spy.rgdr\n",
                        "from s2spy import RGDR\n",
                        "from sklearn.model_selection import ShuffleSplit\n",
                        "\n",
                        "file_path = '../../s2spy/tests/test_rgdr/test_data'\n",
                        "field = xr.open_dataset(f'{file_path}/sst_daily_1979-2018_5deg_Pacific_175_240E_25_50N.nc')\n",
                        "target_data = xr.open_dataset(f'{file_path}/tf5_nc5_dendo_80d77.nc').sel(cluster=3)\n",
                        "\n",
                        "cal = lilio.daily_calendar('08-01', length=\"30d\")\n",
                        "cal = cal.map_to_data(field)\n",
                        "\n",
                        "field_resampled = lilio.resample(cal, field)\n",
                        "target_resampled = lilio.resample(cal, target_data)"
                  ]
            },
            {
                  "attachments": {},
                  "cell_type": "markdown",
                  "metadata": {},
                  "source": [
                        "As precursor we select the 'sst' DataArray. The target is the (preclustered) 'st' DataArray."
                  ]
            },
            {
                  "cell_type": "code",
                  "execution_count": 2,
                  "metadata": {},
                  "outputs": [],
                  "source": [
                        "precursor = field_resampled['sst']\n",
                        "target = target_resampled['ts']"
                  ]
            },
            {
                  "cell_type": "markdown",
                  "metadata": {},
                  "source": [
                        "We define our train-test splitting strategy with \"ShuffleSplit\", and also define the RGDR settings we will use. \n",
                        "\n",
                        "It is essential to use different `RGDR` objects for each split, as the object stores the information required to transform the test data. Here we make a list of different RGDR objects (all with the same settings), with the same length as the number of splits."
                  ]
            },
            {
                  "cell_type": "code",
                  "execution_count": 3,
                  "metadata": {},
                  "outputs": [],
                  "source": [
                        "seed = 1 #same 'randomness'\n",
                        "n_splits = 4\n",
                        "\n",
                        "shufflesplit = ShuffleSplit(n_splits=n_splits, test_size=0.25, random_state = seed)\n",
                        "cv = lilio.traintest.TrainTestSplit(shufflesplit)\n",
                        "\n",
                        "rgdrs = [RGDR(target_intervals=1, lag=5, eps_km=800, alpha=0.10, min_area_km2=0) for _ in range(n_splits)]"
                  ]
            },
            {
                  "cell_type": "markdown",
                  "metadata": {},
                  "source": [
                        "Using the traintest cv, we can split the target and precursor data into train and test sets. For easy tracking we put all the splits in a list."
                  ]
            },
            {
                  "cell_type": "code",
                  "execution_count": 4,
                  "metadata": {},
                  "outputs": [],
                  "source": [
                        "target_timeseries_splits = []\n",
                        "precursor_field_splits = []\n",
                        "for x_train, x_test, y_train, y_test in cv.split(precursor, y=target):\n",
                        "    target_timeseries_splits.append(target.sel(anchor_year=x_train[\"anchor_year\"].values))\n",
                        "    precursor_field_splits.append(precursor.sel(anchor_year=x_train[\"anchor_year\"].values))"
                  ]
            },
            {
                  "cell_type": "markdown",
                  "metadata": {},
                  "source": [
                        "Using the `preview_clusters` functionality, we can display what our clusters will look like, for each split.\n",
                        "\n",
                        "Note that there is a single consistent cluster over all splits, but that the top-right plot contains three clusters."
                  ]
            },
            {
                  "cell_type": "code",
                  "execution_count": 6,
                  "metadata": {},
                  "outputs": [
                        {
                              "data": {
                                    "image/png": "[encoded data removed]",
                                    "text/plain": [
                                          "<Figure size 576x288 with 8 Axes>"
                                    ]
                              },
                              "metadata": {
                                    "needs_background": "light"
                              },
                              "output_type": "display_data"
                        }
                  ],
                  "source": [
                        "fig, axs = plt.subplots(\n",
                        "    ncols=2,\n",
                        "    nrows=n_splits//2,\n",
                        "    figsize=(8, 4),\n",
                        "    gridspec_kw={'hspace':0.6}\n",
                        ")\n",
                        "axs = axs.flatten()\n",
                        "\n",
                        "for split in range(n_splits):\n",
                        "    _ = rgdrs[split].preview_clusters(\n",
                        "        precursor_field_splits[split],\n",
                        "        target_timeseries_splits[split], \n",
                        "        ax=axs[split],\n",
                        "        vmin=-2, vmax=2\n",
                        "    )"
                  ]
            },
            {
                  "cell_type": "markdown",
                  "metadata": {},
                  "source": [
                        "With a (list-comprehension) `for` loop, we can fit and apply RGDR to each split:"
                  ]
            },
            {
                  "cell_type": "code",
                  "execution_count": 7,
                  "metadata": {},
                  "outputs": [],
                  "source": [
                        "clustered_precursors = [\n",
                        "    rgdrs[i].fit_transform(precursor_field_splits[i], target_timeseries_splits[i])\n",
                        "    for i in range(n_splits)\n",
                        "    ]"
                  ]
            },
            {
                  "cell_type": "markdown",
                  "metadata": {},
                  "source": [
                        "We can see the labels of the clusters. These are named based on which `i_interval` was used for the precursor, and then named based on how many clusters there are in each `i_interval`. This leads to long names, which can be inconsistent over splits, as no information is passed between the different RGDR instances to avoid data leakage."
                  ]
            },
            {
                  "cell_type": "code",
                  "execution_count": 8,
                  "metadata": {},
                  "outputs": [
                        {
                              "name": "stdout",
                              "output_type": "stream",
                              "text": [
                                    "[-1]\n",
                                    "[-2 -1]\n",
                                    "[-1]\n",
                                    "[-1]\n"
                              ]
                        }
                  ],
                  "source": [
                        "for el in clustered_precursors:\n",
                        "    print(el.cluster_labels.values)"
                  ]
            },
            {
                  "cell_type": "markdown",
                  "metadata": {},
                  "source": [
                        "However, using the `label_alignment` module we can align labels over different splits. `label_alignment` will try to match clusters over different splits, and then _only rename_ the clusters.\n",
                        "\n",
                        "Clusters will be assigned a letter as name."
                  ]
            },
            {
                  "cell_type": "code",
                  "execution_count": 9,
                  "metadata": {},
                  "outputs": [
                        {
                              "name": "stdout",
                              "output_type": "stream",
                              "text": [
                                    "['A1']\n",
                                    "['A2' 'A1']\n",
                                    "['A1']\n",
                                    "['A1']\n"
                              ]
                        }
                  ],
                  "source": [
                        "aligned_precursors = s2spy.rgdr.label_alignment.rename_labels(rgdrs, clustered_precursors)\n",
                        "    \n",
                        "for el in aligned_precursors:\n",
                        "    print(el.cluster_labels.values)"
                  ]
            },
            {
                  "cell_type": "markdown",
                  "metadata": {},
                  "source": [
                        "We can plot all the cluster names over the cluster-preview:"
                  ]
            },
            {
                  "cell_type": "code",
                  "execution_count": 10,
                  "metadata": {},
                  "outputs": [
                        {
                              "data": {
                                    "image/png": "[encoded data removed]",
                                    "text/plain": [
                                          "<Figure size 576x288 with 8 Axes>"
                                    ]
                              },
                              "metadata": {
                                    "needs_background": "light"
                              },
                              "output_type": "display_data"
                        }
                  ],
                  "source": [
                        "fig, axs = plt.subplots(\n",
                        "    ncols=2,\n",
                        "    nrows=n_splits//2,\n",
                        "    figsize=(8, 4),\n",
                        "    gridspec_kw={'hspace':0.6}\n",
                        ")\n",
                        "axs = axs.flatten()\n",
                        "\n",
                        "for split in range(n_splits):\n",
                        "    _ = rgdrs[split].preview_clusters(\n",
                        "        precursor_field_splits[split],\n",
                        "        target_timeseries_splits[split], \n",
                        "        ax=axs[split],\n",
                        "        vmin=-2, vmax=2\n",
                        "    )\n",
                        "    for cl in aligned_precursors[split].cluster_labels:\n",
                        "        axs[split].text(\n",
                        "            x=cl.longitude, y=cl.latitude, s=cl.values,\n",
                        "            fontsize=16, va='center', ha='center',c=\"red\"\n",
                        "        )\n"
                  ]
            },
            {
                  "cell_type": "code",
                  "execution_count": null,
                  "metadata": {},
                  "outputs": [],
                  "source": []
            }
      ],
      "metadata": {
            "kernelspec": {
                  "display_name": "ai4s2s",
                  "language": "python",
                  "name": "python3"
            },
            "language_info": {
                  "codemirror_mode": {
                        "name": "ipython",
                        "version": 3
                  },
                  "file_extension": ".py",
                  "mimetype": "text/x-python",
                  "name": "python",
                  "nbconvert_exporter": "python",
                  "pygments_lexer": "ipython3",
                  "version": "3.10.5"
            },
            "orig_nbformat": 4,
            "vscode": {
                  "interpreter": {
                        "hash": "a87ac8a6238ac8fffcd070769ea0ffc634a0ba702c52b706c3554dda7777b3fd"
                  }
            }
      },
      "nbformat": 4,
      "nbformat_minor": 2
}
