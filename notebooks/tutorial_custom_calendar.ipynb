{
 "cells": [
  {
   "cell_type": "code",
   "execution_count": 1,
   "metadata": {},
   "outputs": [],
   "source": [
    "import numpy as np\n",
    "import pandas as pd\n",
    "import s2spy.time\n",
    "import s2spy"
   ]
  },
  {
   "cell_type": "code",
   "execution_count": 2,
   "metadata": {},
   "outputs": [],
   "source": [
    "# create custom calendar\n",
    "calendar = s2spy.time.CustomCalendar(anchor=(12, 31))\n",
    "# create target periods\n",
    "target_1 = s2spy.time.TargetPeriod(20)\n",
    "target_2 = s2spy.time.TargetPeriod(20, 10)\n",
    "# create precursor periods\n",
    "precursor_1 = s2spy.time.PrecursorPeriod(10, 10)\n",
    "precursor_2 = s2spy.time.PrecursorPeriod(10, -5)\n",
    "precursor_3 = s2spy.time.PrecursorPeriod(10)"
   ]
  },
  {
   "cell_type": "code",
   "execution_count": 3,
   "metadata": {},
   "outputs": [],
   "source": [
    "# append building blocks to calendar object\n",
    "calendar.append(target_1)\n",
    "calendar.append(target_2)\n",
    "calendar.append(precursor_1)\n",
    "calendar.append(precursor_2)\n",
    "calendar.append(precursor_3)"
   ]
  },
  {
   "cell_type": "code",
   "execution_count": 4,
   "metadata": {},
   "outputs": [
    {
     "data": {
      "text/html": [
       "<div>\n",
       "<style scoped>\n",
       "    .dataframe tbody tr th:only-of-type {\n",
       "        vertical-align: middle;\n",
       "    }\n",
       "\n",
       "    .dataframe tbody tr th {\n",
       "        vertical-align: top;\n",
       "    }\n",
       "\n",
       "    .dataframe thead th {\n",
       "        text-align: right;\n",
       "    }\n",
       "</style>\n",
       "<table border=\"1\" class=\"dataframe\">\n",
       "  <thead>\n",
       "    <tr style=\"text-align: right;\">\n",
       "      <th>i_interval</th>\n",
       "      <th>(target) 0</th>\n",
       "      <th>(target) 1</th>\n",
       "      <th>2</th>\n",
       "      <th>3</th>\n",
       "      <th>4</th>\n",
       "    </tr>\n",
       "    <tr>\n",
       "      <th>anchor_year</th>\n",
       "      <th></th>\n",
       "      <th></th>\n",
       "      <th></th>\n",
       "      <th></th>\n",
       "      <th></th>\n",
       "    </tr>\n",
       "  </thead>\n",
       "  <tbody>\n",
       "    <tr>\n",
       "      <th>2022</th>\n",
       "      <td>[2023-01-30, 2023-02-19)</td>\n",
       "      <td>[2022-12-31, 2023-01-20)</td>\n",
       "      <td>[2022-12-11, 2022-12-21)</td>\n",
       "      <td>[2022-12-06, 2022-12-16)</td>\n",
       "      <td>[2022-11-26, 2022-12-06)</td>\n",
       "    </tr>\n",
       "    <tr>\n",
       "      <th>2021</th>\n",
       "      <td>[2022-01-30, 2022-02-19)</td>\n",
       "      <td>[2021-12-31, 2022-01-20)</td>\n",
       "      <td>[2021-12-11, 2021-12-21)</td>\n",
       "      <td>[2021-12-06, 2021-12-16)</td>\n",
       "      <td>[2021-11-26, 2021-12-06)</td>\n",
       "    </tr>\n",
       "    <tr>\n",
       "      <th>2020</th>\n",
       "      <td>[2021-01-30, 2021-02-19)</td>\n",
       "      <td>[2020-12-31, 2021-01-20)</td>\n",
       "      <td>[2020-12-11, 2020-12-21)</td>\n",
       "      <td>[2020-12-06, 2020-12-16)</td>\n",
       "      <td>[2020-11-26, 2020-12-06)</td>\n",
       "    </tr>\n",
       "  </tbody>\n",
       "</table>\n",
       "</div>"
      ],
      "text/plain": [
       "i_interval                 (target) 0                (target) 1  \\\n",
       "anchor_year                                                       \n",
       "2022         [2023-01-30, 2023-02-19)  [2022-12-31, 2023-01-20)   \n",
       "2021         [2022-01-30, 2022-02-19)  [2021-12-31, 2022-01-20)   \n",
       "2020         [2021-01-30, 2021-02-19)  [2020-12-31, 2021-01-20)   \n",
       "\n",
       "i_interval                          2                         3  \\\n",
       "anchor_year                                                       \n",
       "2022         [2022-12-11, 2022-12-21)  [2022-12-06, 2022-12-16)   \n",
       "2021         [2021-12-11, 2021-12-21)  [2021-12-06, 2021-12-16)   \n",
       "2020         [2020-12-11, 2020-12-21)  [2020-12-06, 2020-12-16)   \n",
       "\n",
       "i_interval                          4  \n",
       "anchor_year                            \n",
       "2022         [2022-11-26, 2022-12-06)  \n",
       "2021         [2021-11-26, 2021-12-06)  \n",
       "2020         [2020-11-26, 2020-12-06)  "
      ]
     },
     "execution_count": 4,
     "metadata": {},
     "output_type": "execute_result"
    }
   ],
   "source": [
    "calendar = calendar.map_years(2020, 2022)\n",
    "calendar.show()"
   ]
  },
  {
   "cell_type": "code",
   "execution_count": 5,
   "metadata": {},
   "outputs": [
    {
     "data": {
      "image/png": "[encoded data removed]",
      "text/plain": [
       "<Figure size 432x288 with 1 Axes>"
      ]
     },
     "metadata": {
      "needs_background": "light"
     },
     "output_type": "display_data"
    }
   ],
   "source": [
    "calendar.visualize(add_freq=True)"
   ]
  },
  {
   "cell_type": "markdown",
   "metadata": {},
   "source": [
    "Map the calendar to the input data."
   ]
  },
  {
   "cell_type": "code",
   "execution_count": 6,
   "metadata": {},
   "outputs": [
    {
     "data": {
      "text/html": [
       "<div>\n",
       "<style scoped>\n",
       "    .dataframe tbody tr th:only-of-type {\n",
       "        vertical-align: middle;\n",
       "    }\n",
       "\n",
       "    .dataframe tbody tr th {\n",
       "        vertical-align: top;\n",
       "    }\n",
       "\n",
       "    .dataframe thead th {\n",
       "        text-align: right;\n",
       "    }\n",
       "</style>\n",
       "<table border=\"1\" class=\"dataframe\">\n",
       "  <thead>\n",
       "    <tr style=\"text-align: right;\">\n",
       "      <th>i_interval</th>\n",
       "      <th>(target) 0</th>\n",
       "      <th>(target) 1</th>\n",
       "      <th>2</th>\n",
       "      <th>3</th>\n",
       "      <th>4</th>\n",
       "    </tr>\n",
       "    <tr>\n",
       "      <th>anchor_year</th>\n",
       "      <th></th>\n",
       "      <th></th>\n",
       "      <th></th>\n",
       "      <th></th>\n",
       "      <th></th>\n",
       "    </tr>\n",
       "  </thead>\n",
       "  <tbody>\n",
       "    <tr>\n",
       "      <th>2020</th>\n",
       "      <td>[2021-01-30, 2021-02-19)</td>\n",
       "      <td>[2020-12-31, 2021-01-20)</td>\n",
       "      <td>[2020-12-11, 2020-12-21)</td>\n",
       "      <td>[2020-12-06, 2020-12-16)</td>\n",
       "      <td>[2020-11-26, 2020-12-06)</td>\n",
       "    </tr>\n",
       "    <tr>\n",
       "      <th>2019</th>\n",
       "      <td>[2020-01-30, 2020-02-19)</td>\n",
       "      <td>[2019-12-31, 2020-01-20)</td>\n",
       "      <td>[2019-12-11, 2019-12-21)</td>\n",
       "      <td>[2019-12-06, 2019-12-16)</td>\n",
       "      <td>[2019-11-26, 2019-12-06)</td>\n",
       "    </tr>\n",
       "    <tr>\n",
       "      <th>2018</th>\n",
       "      <td>[2019-01-30, 2019-02-19)</td>\n",
       "      <td>[2018-12-31, 2019-01-20)</td>\n",
       "      <td>[2018-12-11, 2018-12-21)</td>\n",
       "      <td>[2018-12-06, 2018-12-16)</td>\n",
       "      <td>[2018-11-26, 2018-12-06)</td>\n",
       "    </tr>\n",
       "    <tr>\n",
       "      <th>2017</th>\n",
       "      <td>[2018-01-30, 2018-02-19)</td>\n",
       "      <td>[2017-12-31, 2018-01-20)</td>\n",
       "      <td>[2017-12-11, 2017-12-21)</td>\n",
       "      <td>[2017-12-06, 2017-12-16)</td>\n",
       "      <td>[2017-11-26, 2017-12-06)</td>\n",
       "    </tr>\n",
       "  </tbody>\n",
       "</table>\n",
       "</div>"
      ],
      "text/plain": [
       "i_interval                 (target) 0                (target) 1  \\\n",
       "anchor_year                                                       \n",
       "2020         [2021-01-30, 2021-02-19)  [2020-12-31, 2021-01-20)   \n",
       "2019         [2020-01-30, 2020-02-19)  [2019-12-31, 2020-01-20)   \n",
       "2018         [2019-01-30, 2019-02-19)  [2018-12-31, 2019-01-20)   \n",
       "2017         [2018-01-30, 2018-02-19)  [2017-12-31, 2018-01-20)   \n",
       "\n",
       "i_interval                          2                         3  \\\n",
       "anchor_year                                                       \n",
       "2020         [2020-12-11, 2020-12-21)  [2020-12-06, 2020-12-16)   \n",
       "2019         [2019-12-11, 2019-12-21)  [2019-12-06, 2019-12-16)   \n",
       "2018         [2018-12-11, 2018-12-21)  [2018-12-06, 2018-12-16)   \n",
       "2017         [2017-12-11, 2017-12-21)  [2017-12-06, 2017-12-16)   \n",
       "\n",
       "i_interval                          4  \n",
       "anchor_year                            \n",
       "2020         [2020-11-26, 2020-12-06)  \n",
       "2019         [2019-11-26, 2019-12-06)  \n",
       "2018         [2018-11-26, 2018-12-06)  \n",
       "2017         [2017-11-26, 2017-12-06)  "
      ]
     },
     "execution_count": 6,
     "metadata": {},
     "output_type": "execute_result"
    }
   ],
   "source": [
    "# create dummy data for testing\n",
    "time_index = pd.date_range('20171110', '20211211', freq='10d')\n",
    "var = np.random.random(len(time_index))\n",
    "# generate input data\n",
    "test_data = pd.Series(var, index=time_index)\n",
    "# map year to data\n",
    "calendar = calendar.map_to_data(test_data)\n",
    "calendar.show()"
   ]
  }
 ],
 "metadata": {
  "kernelspec": {
   "display_name": "Python 3.8.5 ('base')",
   "language": "python",
   "name": "python3"
  },
  "language_info": {
   "codemirror_mode": {
    "name": "ipython",
    "version": 3
   },
   "file_extension": ".py",
   "mimetype": "text/x-python",
   "name": "python",
   "nbconvert_exporter": "python",
   "pygments_lexer": "ipython3",
   "version": "3.8.5"
  },
  "orig_nbformat": 4,
  "vscode": {
   "interpreter": {
    "hash": "e7604e8ec5f09e490e10161e37a4725039efd3ab703d81b1b8a1e00d6741866c"
   }
  }
 },
 "nbformat": 4,
 "nbformat_minor": 2
}
