{
 "cells": [
  {
   "cell_type": "code",
   "execution_count": 1,
   "metadata": {},
   "outputs": [],
   "source": [
    "import numpy as np\n",
    "import pandas as pd\n",
    "import s2spy.time\n",
    "import s2spy"
   ]
  },
  {
   "cell_type": "code",
   "execution_count": 2,
   "metadata": {},
   "outputs": [],
   "source": [
    "# create custom calendar\n",
    "cal = s2spy.time.CustomCalendar(anchor=(12, 31))\n",
    "# create target periods\n",
    "target_1 = s2spy.time.target_period(20)\n",
    "target_2 = s2spy.time.target_period(20, 10)\n",
    "# create precursor periods\n",
    "precursor_1 = s2spy.time.precursor_period(10, 10)\n",
    "precursor_2 = s2spy.time.precursor_period(10)\n",
    "precursor_3 = s2spy.time.precursor_period(10)"
   ]
  },
  {
   "cell_type": "code",
   "execution_count": 3,
   "metadata": {},
   "outputs": [],
   "source": [
    "# append building blocks to calendar object\n",
    "cal.append(target_1)\n",
    "cal.append(target_2)\n",
    "cal.append(precursor_1)\n",
    "cal.append(precursor_2)\n",
    "cal.append(precursor_3)"
   ]
  },
  {
   "cell_type": "code",
   "execution_count": 4,
   "metadata": {},
   "outputs": [
    {
     "data": {
      "text/plain": [
       "i_interval\n",
       "0    (2022-12-12, 2022-12-31]\n",
       "1    (2022-11-12, 2022-12-01]\n",
       "2    (2022-10-23, 2022-11-01]\n",
       "3    (2022-10-13, 2022-10-22]\n",
       "4    (2022-10-03, 2022-10-12]\n",
       "Name: 2022, dtype: interval"
      ]
     },
     "execution_count": 4,
     "metadata": {},
     "output_type": "execute_result"
    }
   ],
   "source": [
    "dates = cal.map_year(2022)\n",
    "dates"
   ]
  }
 ],
 "metadata": {
  "kernelspec": {
   "display_name": "Python 3.8.5 ('base')",
   "language": "python",
   "name": "python3"
  },
  "language_info": {
   "codemirror_mode": {
    "name": "ipython",
    "version": 3
   },
   "file_extension": ".py",
   "mimetype": "text/x-python",
   "name": "python",
   "nbconvert_exporter": "python",
   "pygments_lexer": "ipython3",
   "version": "3.8.5"
  },
  "orig_nbformat": 4,
  "vscode": {
   "interpreter": {
    "hash": "e7604e8ec5f09e490e10161e37a4725039efd3ab703d81b1b8a1e00d6741866c"
   }
  }
 },
 "nbformat": 4,
 "nbformat_minor": 2
}
