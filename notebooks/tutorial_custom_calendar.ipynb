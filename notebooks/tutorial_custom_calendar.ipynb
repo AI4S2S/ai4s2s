{
 "cells": [
  {
   "cell_type": "code",
   "execution_count": 4,
   "metadata": {},
   "outputs": [],
   "source": [
    "import numpy as np\n",
    "import pandas as pd\n",
    "import s2spy.time\n",
    "import s2spy"
   ]
  },
  {
   "cell_type": "code",
   "execution_count": 5,
   "metadata": {},
   "outputs": [],
   "source": [
    "# create custom calendar\n",
    "cal = s2spy.time.CustomCalendar(anchor=(12, 31))\n",
    "# create target periods\n",
    "target_1 = s2spy.time.target_period(20)\n",
    "target_2 = s2spy.time.target_period(20, 10)\n",
    "# create precursor periods\n",
    "precursor_1 = s2spy.time.precursor_period(10, 10)\n",
    "precursor_2 = s2spy.time.precursor_period(10, -5)\n",
    "precursor_3 = s2spy.time.precursor_period(10)"
   ]
  },
  {
   "cell_type": "code",
   "execution_count": 6,
   "metadata": {},
   "outputs": [],
   "source": [
    "# append building blocks to calendar object\n",
    "cal.append(target_1)\n",
    "cal.append(target_2)\n",
    "cal.append(precursor_1)\n",
    "cal.append(precursor_2)\n",
    "cal.append(precursor_3)"
   ]
  },
  {
   "cell_type": "code",
   "execution_count": 7,
   "metadata": {},
   "outputs": [
    {
     "data": {
      "text/plain": [
       "i_interval\n",
       "0    (2023-01-30, 2023-02-18]\n",
       "1    (2022-12-31, 2023-01-19]\n",
       "2    (2022-12-11, 2022-12-20]\n",
       "3    (2022-12-06, 2022-12-15]\n",
       "4    (2022-11-26, 2022-12-05]\n",
       "Name: 2022, dtype: interval"
      ]
     },
     "execution_count": 7,
     "metadata": {},
     "output_type": "execute_result"
    }
   ],
   "source": [
    "dates = cal.map_year(2022)\n",
    "dates"
   ]
  },
  {
   "cell_type": "code",
   "execution_count": 8,
   "metadata": {},
   "outputs": [
    {
     "name": "stderr",
     "output_type": "stream",
     "text": [
      "/home/yangliu/AI4S2S/s2spy/s2spy/time.py:338: UserWarning: Calerdar already exists and this overwrites the old calendar.\n",
      "  warnings.warn(\n"
     ]
    }
   ],
   "source": [
    "precursor_4 = s2spy.time.precursor_period(20)\n",
    "cal.append(precursor_4)"
   ]
  },
  {
   "cell_type": "code",
   "execution_count": 9,
   "metadata": {},
   "outputs": [
    {
     "data": {
      "text/plain": [
       "i_interval\n",
       "0    (2023-01-30, 2023-02-18]\n",
       "1    (2022-12-31, 2023-01-19]\n",
       "2    (2022-12-11, 2022-12-20]\n",
       "3    (2022-12-06, 2022-12-15]\n",
       "4    (2022-11-26, 2022-12-05]\n",
       "5    (2022-11-06, 2022-11-25]\n",
       "Name: 2022, dtype: interval"
      ]
     },
     "execution_count": 9,
     "metadata": {},
     "output_type": "execute_result"
    }
   ],
   "source": [
    "dates = cal.map_year(2022)\n",
    "dates"
   ]
  }
 ],
 "metadata": {
  "kernelspec": {
   "display_name": "Python 3.8.5 ('base')",
   "language": "python",
   "name": "python3"
  },
  "language_info": {
   "codemirror_mode": {
    "name": "ipython",
    "version": 3
   },
   "file_extension": ".py",
   "mimetype": "text/x-python",
   "name": "python",
   "nbconvert_exporter": "python",
   "pygments_lexer": "ipython3",
   "version": "3.8.5"
  },
  "orig_nbformat": 4,
  "vscode": {
   "interpreter": {
    "hash": "e7604e8ec5f09e490e10161e37a4725039efd3ab703d81b1b8a1e00d6741866c"
   }
  }
 },
 "nbformat": 4,
 "nbformat_minor": 2
}
