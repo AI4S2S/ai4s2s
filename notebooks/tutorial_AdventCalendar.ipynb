{
 "cells": [
  {
   "cell_type": "markdown",
   "metadata": {},
   "source": [
    "Tutorial of `AdventCalendar` module in `s2s` package."
   ]
  },
  {
   "cell_type": "code",
   "execution_count": 1,
   "metadata": {},
   "outputs": [],
   "source": [
    "import numpy as np\n",
    "import pandas as pd\n",
    "import s2spy.time"
   ]
  },
  {
   "cell_type": "markdown",
   "metadata": {},
   "source": [
    "Create AdventCalendar instance."
   ]
  },
  {
   "cell_type": "code",
   "execution_count": 2,
   "metadata": {},
   "outputs": [
    {
     "data": {
      "text/plain": [
       "AdventCalendar(freq=90d, n_targets=1)"
      ]
     },
     "execution_count": 2,
     "metadata": {},
     "output_type": "execute_result"
    }
   ],
   "source": [
    "calendar = s2spy.time.AdventCalendar(anchor=\"11-30\", freq='90d', n_targets=1)\n",
    "calendar"
   ]
  },
  {
   "cell_type": "markdown",
   "metadata": {},
   "source": [
    "Map the calendar to a single year."
   ]
  },
  {
   "cell_type": "code",
   "execution_count": 3,
   "metadata": {},
   "outputs": [
    {
     "data": {
      "text/html": [
       "<div>\n",
       "<style scoped>\n",
       "    .dataframe tbody tr th:only-of-type {\n",
       "        vertical-align: middle;\n",
       "    }\n",
       "\n",
       "    .dataframe tbody tr th {\n",
       "        vertical-align: top;\n",
       "    }\n",
       "\n",
       "    .dataframe thead th {\n",
       "        text-align: right;\n",
       "    }\n",
       "</style>\n",
       "<table border=\"1\" class=\"dataframe\">\n",
       "  <thead>\n",
       "    <tr style=\"text-align: right;\">\n",
       "      <th>i_interval</th>\n",
       "      <th>-3</th>\n",
       "      <th>-2</th>\n",
       "      <th>-1</th>\n",
       "      <th>1</th>\n",
       "    </tr>\n",
       "    <tr>\n",
       "      <th>anchor_year</th>\n",
       "      <th></th>\n",
       "      <th></th>\n",
       "      <th></th>\n",
       "      <th></th>\n",
       "    </tr>\n",
       "  </thead>\n",
       "  <tbody>\n",
       "    <tr>\n",
       "      <th>2020</th>\n",
       "      <td>[2020-03-05, 2020-06-03)</td>\n",
       "      <td>[2020-06-03, 2020-09-01)</td>\n",
       "      <td>[2020-09-01, 2020-11-30)</td>\n",
       "      <td>[2020-11-30, 2021-02-28)</td>\n",
       "    </tr>\n",
       "  </tbody>\n",
       "</table>\n",
       "</div>"
      ],
      "text/plain": [
       "i_interval                         -3                        -2  \\\n",
       "anchor_year                                                       \n",
       "2020         [2020-03-05, 2020-06-03)  [2020-06-03, 2020-09-01)   \n",
       "\n",
       "i_interval                         -1                         1  \n",
       "anchor_year                                                      \n",
       "2020         [2020-09-01, 2020-11-30)  [2020-11-30, 2021-02-28)  "
      ]
     },
     "execution_count": 3,
     "metadata": {},
     "output_type": "execute_result"
    }
   ],
   "source": [
    "calendar = calendar.map_years(2020, 2020)\n",
    "calendar.show()"
   ]
  },
  {
   "cell_type": "markdown",
   "metadata": {},
   "source": [
    "Map the calendar to multiple years (start year - end year)."
   ]
  },
  {
   "cell_type": "code",
   "execution_count": 4,
   "metadata": {},
   "outputs": [
    {
     "data": {
      "text/html": [
       "<div>\n",
       "<style scoped>\n",
       "    .dataframe tbody tr th:only-of-type {\n",
       "        vertical-align: middle;\n",
       "    }\n",
       "\n",
       "    .dataframe tbody tr th {\n",
       "        vertical-align: top;\n",
       "    }\n",
       "\n",
       "    .dataframe thead th {\n",
       "        text-align: right;\n",
       "    }\n",
       "</style>\n",
       "<table border=\"1\" class=\"dataframe\">\n",
       "  <thead>\n",
       "    <tr style=\"text-align: right;\">\n",
       "      <th>i_interval</th>\n",
       "      <th>-3</th>\n",
       "      <th>-2</th>\n",
       "      <th>-1</th>\n",
       "      <th>1</th>\n",
       "    </tr>\n",
       "    <tr>\n",
       "      <th>anchor_year</th>\n",
       "      <th></th>\n",
       "      <th></th>\n",
       "      <th></th>\n",
       "      <th></th>\n",
       "    </tr>\n",
       "  </thead>\n",
       "  <tbody>\n",
       "    <tr>\n",
       "      <th>2022</th>\n",
       "      <td>[2022-03-05, 2022-06-03)</td>\n",
       "      <td>[2022-06-03, 2022-09-01)</td>\n",
       "      <td>[2022-09-01, 2022-11-30)</td>\n",
       "      <td>[2022-11-30, 2023-02-28)</td>\n",
       "    </tr>\n",
       "    <tr>\n",
       "      <th>2021</th>\n",
       "      <td>[2021-03-05, 2021-06-03)</td>\n",
       "      <td>[2021-06-03, 2021-09-01)</td>\n",
       "      <td>[2021-09-01, 2021-11-30)</td>\n",
       "      <td>[2021-11-30, 2022-02-28)</td>\n",
       "    </tr>\n",
       "    <tr>\n",
       "      <th>2020</th>\n",
       "      <td>[2020-03-05, 2020-06-03)</td>\n",
       "      <td>[2020-06-03, 2020-09-01)</td>\n",
       "      <td>[2020-09-01, 2020-11-30)</td>\n",
       "      <td>[2020-11-30, 2021-02-28)</td>\n",
       "    </tr>\n",
       "  </tbody>\n",
       "</table>\n",
       "</div>"
      ],
      "text/plain": [
       "i_interval                         -3                        -2  \\\n",
       "anchor_year                                                       \n",
       "2022         [2022-03-05, 2022-06-03)  [2022-06-03, 2022-09-01)   \n",
       "2021         [2021-03-05, 2021-06-03)  [2021-06-03, 2021-09-01)   \n",
       "2020         [2020-03-05, 2020-06-03)  [2020-06-03, 2020-09-01)   \n",
       "\n",
       "i_interval                         -1                         1  \n",
       "anchor_year                                                      \n",
       "2022         [2022-09-01, 2022-11-30)  [2022-11-30, 2023-02-28)  \n",
       "2021         [2021-09-01, 2021-11-30)  [2021-11-30, 2022-02-28)  \n",
       "2020         [2020-09-01, 2020-11-30)  [2020-11-30, 2021-02-28)  "
      ]
     },
     "execution_count": 4,
     "metadata": {},
     "output_type": "execute_result"
    }
   ],
   "source": [
    "calendar = calendar.map_years(2020, 2022)\n",
    "calendar.show()"
   ]
  },
  {
   "cell_type": "markdown",
   "metadata": {},
   "source": [
    "The calendar can also be displayed in a plot, using `.visualize()`.\n",
    "\n",
    "This makes it easier to look at calendars containing more intervals:"
   ]
  },
  {
   "cell_type": "code",
   "execution_count": 5,
   "metadata": {},
   "outputs": [
    {
     "data": {
      "image/png": "[encoded data removed]",
      "text/plain": [
       "<Figure size 432x288 with 1 Axes>"
      ]
     },
     "metadata": {
      "needs_background": "light"
     },
     "output_type": "display_data"
    }
   ],
   "source": [
    "larger_calendar = s2spy.time.AdventCalendar(anchor=\"11-30\", freq='30d', n_targets=1)\n",
    "larger_calendar.map_years(2020, 2022)\n",
    "larger_calendar.visualize(add_freq=True)"
   ]
  },
  {
   "cell_type": "markdown",
   "metadata": {},
   "source": [
    "For a more informative view, `bokeh` can be used as an alternative method.\n",
    "\n",
    "Note that this is an optional package, which has to be separately installed with either:\n",
    "\n",
    "`pip install bokeh` **or** `conda install bokeh`"
   ]
  },
  {
   "cell_type": "code",
   "execution_count": 6,
   "metadata": {},
   "outputs": [
    {
     "data": {
      "text/html": [
       "\n",
       "    <div class=\"bk-root\">\n",
       "        <a href=\"https://bokeh.org\" target=\"_blank\" class=\"bk-logo bk-logo-small bk-logo-notebook\"></a>\n",
       "        <span id=\"1001\">Loading BokehJS ...</span>\n",
       "    </div>"
      ]
     },
     "metadata": {},
     "output_type": "display_data"
    },
    {
     "data": {
      "application/javascript": "\n(function(root) {\n  function now() {\n    return new Date();\n  }\n\n  const force = true;\n\n  if (typeof root._bokeh_onload_callbacks === \"undefined\" || force === true) {\n    root._bokeh_onload_callbacks = [];\n    root._bokeh_is_loading = undefined;\n  }\n\n  const JS_MIME_TYPE = 'application/javascript';\n  const HTML_MIME_TYPE = 'text/html';\n  const EXEC_MIME_TYPE = 'application/vnd.bokehjs_exec.v0+json';\n  const CLASS_NAME = 'output_bokeh rendered_html';\n\n  /**\n   * Render data to the DOM node\n   */\n  function render(props, node) {\n    const script = document.createElement(\"script\");\n    node.appendChild(script);\n  }\n\n  /**\n   * Handle when an output is cleared or removed\n   */\n  function handleClearOutput(event, handle) {\n    const cell = handle.cell;\n\n    const id = cell.output_area._bokeh_element_id;\n    const server_id = cell.output_area._bokeh_server_id;\n    // Clean up Bokeh references\n    if (id != null && id in Bokeh.index) {\n      Bokeh.index[id].model.document.clear();\n      delete Bokeh.index[id];\n    }\n\n    if (server_id !== undefined) {\n      // Clean up Bokeh references\n      const cmd_clean = \"from bokeh.io.state import curstate; print(curstate().uuid_to_server['\" + server_id + \"'].get_sessions()[0].document.roots[0]._id)\";\n      cell.notebook.kernel.execute(cmd_clean, {\n        iopub: {\n          output: function(msg) {\n            const id = msg.content.text.trim();\n            if (id in Bokeh.index) {\n              Bokeh.index[id].model.document.clear();\n              delete Bokeh.index[id];\n            }\n          }\n        }\n      });\n      // Destroy server and session\n      const cmd_destroy = \"import bokeh.io.notebook as ion; ion.destroy_server('\" + server_id + \"')\";\n      cell.notebook.kernel.execute(cmd_destroy);\n    }\n  }\n\n  /**\n   * Handle when a new output is added\n   */\n  function handleAddOutput(event, handle) {\n    const output_area = handle.output_area;\n    const output = handle.output;\n\n    // limit handleAddOutput to display_data with EXEC_MIME_TYPE content only\n    if ((output.output_type != \"display_data\") || (!Object.prototype.hasOwnProperty.call(output.data, EXEC_MIME_TYPE))) {\n      return\n    }\n\n    const toinsert = output_area.element.find(\".\" + CLASS_NAME.split(' ')[0]);\n\n    if (output.metadata[EXEC_MIME_TYPE][\"id\"] !== undefined) {\n      toinsert[toinsert.length - 1].firstChild.textContent = output.data[JS_MIME_TYPE];\n      // store reference to embed id on output_area\n      output_area._bokeh_element_id = output.metadata[EXEC_MIME_TYPE][\"id\"];\n    }\n    if (output.metadata[EXEC_MIME_TYPE][\"server_id\"] !== undefined) {\n      const bk_div = document.createElement(\"div\");\n      bk_div.innerHTML = output.data[HTML_MIME_TYPE];\n      const script_attrs = bk_div.children[0].attributes;\n      for (let i = 0; i < script_attrs.length; i++) {\n        toinsert[toinsert.length - 1].firstChild.setAttribute(script_attrs[i].name, script_attrs[i].value);\n        toinsert[toinsert.length - 1].firstChild.textContent = bk_div.children[0].textContent\n      }\n      // store reference to server id on output_area\n      output_area._bokeh_server_id = output.metadata[EXEC_MIME_TYPE][\"server_id\"];\n    }\n  }\n\n  function register_renderer(events, OutputArea) {\n\n    function append_mime(data, metadata, element) {\n      // create a DOM node to render to\n      const toinsert = this.create_output_subarea(\n        metadata,\n        CLASS_NAME,\n        EXEC_MIME_TYPE\n      );\n      this.keyboard_manager.register_events(toinsert);\n      // Render to node\n      const props = {data: data, metadata: metadata[EXEC_MIME_TYPE]};\n      render(props, toinsert[toinsert.length - 1]);\n      element.append(toinsert);\n      return toinsert\n    }\n\n    /* Handle when an output is cleared or removed */\n    events.on('clear_output.CodeCell', handleClearOutput);\n    events.on('delete.Cell', handleClearOutput);\n\n    /* Handle when a new output is added */\n    events.on('output_added.OutputArea', handleAddOutput);\n\n    /**\n     * Register the mime type and append_mime function with output_area\n     */\n    OutputArea.prototype.register_mime_type(EXEC_MIME_TYPE, append_mime, {\n      /* Is output safe? */\n      safe: true,\n      /* Index of renderer in `output_area.display_order` */\n      index: 0\n    });\n  }\n\n  // register the mime type if in Jupyter Notebook environment and previously unregistered\n  if (root.Jupyter !== undefined) {\n    const events = require('base/js/events');\n    const OutputArea = require('notebook/js/outputarea').OutputArea;\n\n    if (OutputArea.prototype.mime_types().indexOf(EXEC_MIME_TYPE) == -1) {\n      register_renderer(events, OutputArea);\n    }\n  }\n\n  \n  if (typeof (root._bokeh_timeout) === \"undefined\" || force === true) {\n    root._bokeh_timeout = Date.now() + 5000;\n    root._bokeh_failed_load = false;\n  }\n\n  const NB_LOAD_WARNING = {'data': {'text/html':\n     \"<div style='background-color: #fdd'>\\n\"+\n     \"<p>\\n\"+\n     \"BokehJS does not appear to have successfully loaded. If loading BokehJS from CDN, this \\n\"+\n     \"may be due to a slow or bad network connection. Possible fixes:\\n\"+\n     \"</p>\\n\"+\n     \"<ul>\\n\"+\n     \"<li>re-rerun `output_notebook()` to attempt to load from CDN again, or</li>\\n\"+\n     \"<li>use INLINE resources instead, as so:</li>\\n\"+\n     \"</ul>\\n\"+\n     \"<code>\\n\"+\n     \"from bokeh.resources import INLINE\\n\"+\n     \"output_notebook(resources=INLINE)\\n\"+\n     \"</code>\\n\"+\n     \"</div>\"}};\n\n  function display_loaded() {\n    const el = document.getElementById(\"1001\");\n    if (el != null) {\n      el.textContent = \"BokehJS is loading...\";\n    }\n    if (root.Bokeh !== undefined) {\n      if (el != null) {\n        el.textContent = \"BokehJS \" + root.Bokeh.version + \" successfully loaded.\";\n      }\n    } else if (Date.now() < root._bokeh_timeout) {\n      setTimeout(display_loaded, 100)\n    }\n  }\n\n\n  function run_callbacks() {\n    try {\n      root._bokeh_onload_callbacks.forEach(function(callback) {\n        if (callback != null)\n          callback();\n      });\n    } finally {\n      delete root._bokeh_onload_callbacks\n    }\n    console.debug(\"Bokeh: all callbacks have finished\");\n  }\n\n  function load_libs(css_urls, js_urls, callback) {\n    if (css_urls == null) css_urls = [];\n    if (js_urls == null) js_urls = [];\n\n    root._bokeh_onload_callbacks.push(callback);\n    if (root._bokeh_is_loading > 0) {\n      console.debug(\"Bokeh: BokehJS is being loaded, scheduling callback at\", now());\n      return null;\n    }\n    if (js_urls == null || js_urls.length === 0) {\n      run_callbacks();\n      return null;\n    }\n    console.debug(\"Bokeh: BokehJS not loaded, scheduling load and callback at\", now());\n    root._bokeh_is_loading = css_urls.length + js_urls.length;\n\n    function on_load() {\n      root._bokeh_is_loading--;\n      if (root._bokeh_is_loading === 0) {\n        console.debug(\"Bokeh: all BokehJS libraries/stylesheets loaded\");\n        run_callbacks()\n      }\n    }\n\n    function on_error(url) {\n      console.error(\"failed to load \" + url);\n    }\n\n    for (let i = 0; i < css_urls.length; i++) {\n      const url = css_urls[i];\n      const element = document.createElement(\"link\");\n      element.onload = on_load;\n      element.onerror = on_error.bind(null, url);\n      element.rel = \"stylesheet\";\n      element.type = \"text/css\";\n      element.href = url;\n      console.debug(\"Bokeh: injecting link tag for BokehJS stylesheet: \", url);\n      document.body.appendChild(element);\n    }\n\n    for (let i = 0; i < js_urls.length; i++) {\n      const url = js_urls[i];\n      const element = document.createElement('script');\n      element.onload = on_load;\n      element.onerror = on_error.bind(null, url);\n      element.async = false;\n      element.src = url;\n      console.debug(\"Bokeh: injecting script tag for BokehJS library: \", url);\n      document.head.appendChild(element);\n    }\n  };\n\n  function inject_raw_css(css) {\n    const element = document.createElement(\"style\");\n    element.appendChild(document.createTextNode(css));\n    document.body.appendChild(element);\n  }\n\n  \n  const js_urls = [\"https://cdn.bokeh.org/bokeh/release/bokeh-2.4.2.min.js\", \"https://cdn.bokeh.org/bokeh/release/bokeh-gl-2.4.2.min.js\", \"https://cdn.bokeh.org/bokeh/release/bokeh-widgets-2.4.2.min.js\", \"https://cdn.bokeh.org/bokeh/release/bokeh-tables-2.4.2.min.js\", \"https://cdn.bokeh.org/bokeh/release/bokeh-mathjax-2.4.2.min.js\"];\n  const css_urls = [];\n  \n\n  const inline_js = [\n    function(Bokeh) {\n      Bokeh.set_log_level(\"info\");\n    },\n    function(Bokeh) {\n    \n    \n    }\n  ];\n\n  function run_inline_js() {\n    \n    if (root.Bokeh !== undefined || force === true) {\n      \n    for (let i = 0; i < inline_js.length; i++) {\n      inline_js[i].call(root, root.Bokeh);\n    }\n    if (force === true) {\n        display_loaded();\n      }} else if (Date.now() < root._bokeh_timeout) {\n      setTimeout(run_inline_js, 100);\n    } else if (!root._bokeh_failed_load) {\n      console.log(\"Bokeh: BokehJS failed to load within specified timeout.\");\n      root._bokeh_failed_load = true;\n    } else if (force !== true) {\n      const cell = $(document.getElementById(\"1001\")).parents('.cell').data().cell;\n      cell.output_area.append_execute_result(NB_LOAD_WARNING)\n    }\n\n  }\n\n  if (root._bokeh_is_loading === 0) {\n    console.debug(\"Bokeh: BokehJS loaded, going straight to plotting\");\n    run_inline_js();\n  } else {\n    load_libs(css_urls, js_urls, function() {\n      console.debug(\"Bokeh: BokehJS plotting callback run at\", now());\n      run_inline_js();\n    });\n  }\n}(window));",
      "application/vnd.bokehjs_load.v0+json": ""
     },
     "metadata": {},
     "output_type": "display_data"
    },
    {
     "data": {
      "text/html": [
       "\n",
       "\n",
       "\n",
       "\n",
       "\n",
       "\n",
       "  <div class=\"bk-root\" id=\"5a055db4-7401-4da6-9c37-9011fa622e29\" data-root-id=\"1003\"></div>\n"
      ]
     },
     "metadata": {},
     "output_type": "display_data"
    },
    {
     "data": {
      "application/javascript": "(function(root) {\n  function embed_document(root) {\n    \n  const docs_json = {\"d40e83f3-bcb3-4455-91ca-8e2056a39cdb\":{\"defs\":[],\"roots\":{\"references\":[{\"attributes\":{\"below\":[{\"id\":\"1012\"}],\"center\":[{\"id\":\"1015\"},{\"id\":\"1019\"}],\"height\":300,\"left\":[{\"id\":\"1016\"}],\"renderers\":[{\"id\":\"1041\"},{\"id\":\"1048\"},{\"id\":\"1055\"}],\"title\":{\"id\":\"1059\"},\"toolbar\":{\"id\":\"1028\"},\"width\":500,\"x_range\":{\"id\":\"1004\"},\"x_scale\":{\"id\":\"1008\"},\"y_range\":{\"id\":\"1006\"},\"y_scale\":{\"id\":\"1010\"}},\"id\":\"1003\",\"subtype\":\"Figure\",\"type\":\"Plot\"},{\"attributes\":{\"overlay\":{\"id\":\"1026\"}},\"id\":\"1022\",\"type\":\"BoxZoomTool\"},{\"attributes\":{\"days\":[1,2,3,4,5,6,7,8,9,10,11,12,13,14,15,16,17,18,19,20,21,22,23,24,25,26,27,28,29,30,31]},\"id\":\"1076\",\"type\":\"DaysTicker\"},{\"attributes\":{},\"id\":\"1020\",\"type\":\"PanTool\"},{\"attributes\":{\"base\":24,\"mantissas\":[1,2,4,6,8,12],\"max_interval\":43200000.0,\"min_interval\":3600000.0,\"num_minor_ticks\":0},\"id\":\"1075\",\"type\":\"AdaptiveTicker\"},{\"attributes\":{},\"id\":\"1070\",\"type\":\"UnionRenderers\"},{\"attributes\":{},\"id\":\"1068\",\"type\":\"UnionRenderers\"},{\"attributes\":{},\"id\":\"1084\",\"type\":\"YearsTicker\"},{\"attributes\":{\"months\":[0,1,2,3,4,5,6,7,8,9,10,11]},\"id\":\"1080\",\"type\":\"MonthsTicker\"},{\"attributes\":{},\"id\":\"1069\",\"type\":\"Selection\"},{\"attributes\":{},\"id\":\"1071\",\"type\":\"Selection\"},{\"attributes\":{\"coordinates\":null,\"data_source\":{\"id\":\"1036\"},\"glyph\":{\"id\":\"1038\"},\"group\":null,\"hover_glyph\":null,\"muted_glyph\":{\"id\":\"1040\"},\"nonselection_glyph\":{\"id\":\"1039\"},\"view\":{\"id\":\"1042\"}},\"id\":\"1041\",\"type\":\"GlyphRenderer\"},{\"attributes\":{\"base\":60,\"mantissas\":[1,2,5,10,15,20,30],\"max_interval\":1800000.0,\"min_interval\":1000.0,\"num_minor_ticks\":0},\"id\":\"1074\",\"type\":\"AdaptiveTicker\"},{\"attributes\":{\"days\":[1,4,7,10,13,16,19,22,25,28]},\"id\":\"1077\",\"type\":\"DaysTicker\"},{\"attributes\":{\"days\":[1,15]},\"id\":\"1079\",\"type\":\"DaysTicker\"},{\"attributes\":{},\"id\":\"1004\",\"type\":\"DataRange1d\"},{\"attributes\":{\"data\":{\"color\":[\"#ff7700\",\"#1f9ce9\",\"#137fc1\",\"#1f9ce9\",\"#137fc1\",\"#1f9ce9\",\"#137fc1\",\"#1f9ce9\",\"#137fc1\",\"#1f9ce9\",\"#137fc1\",\"#1f9ce9\"],\"desc\":[\"2021-01-04 -> 2021-02-03\",\"2021-02-03 -> 2021-03-05\",\"2021-03-05 -> 2021-04-04\",\"2021-04-04 -> 2021-05-04\",\"2021-05-04 -> 2021-06-03\",\"2021-06-03 -> 2021-07-03\",\"2021-07-03 -> 2021-08-02\",\"2021-08-02 -> 2021-09-01\",\"2021-09-01 -> 2021-10-01\",\"2021-10-01 -> 2021-10-31\",\"2021-10-31 -> 2021-11-30\",\"2021-11-30 -> 2021-12-30\"],\"height\":{\"__ndarray__\":\"mpmZmZmZ6T+amZmZmZnpP5qZmZmZmek/mpmZmZmZ6T+amZmZmZnpP5qZmZmZmek/mpmZmZmZ6T+amZmZmZnpP5qZmZmZmek/mpmZmZmZ6T+amZmZmZnpP5qZmZmZmek/\",\"dtype\":\"float64\",\"order\":\"little\",\"shape\":[12]},\"type\":[\"Target\",\"Precursor\",\"Precursor\",\"Precursor\",\"Precursor\",\"Precursor\",\"Precursor\",\"Precursor\",\"Precursor\",\"Precursor\",\"Precursor\",\"Precursor\"],\"width\":[2592000000.0,2592000000.0,2592000000.0,2592000000.0,2592000000.0,2592000000.0,2592000000.0,2592000000.0,2592000000.0,2592000000.0,2592000000.0,2592000000.0],\"width_days\":[30,30,30,30,30,30,30,30,30,30,30,30],\"x\":{\"__ndarray__\":\"AACADn9xd0IAAAD7Jnt3QgAAgOfOhHdCAAAA1HaOd0IAAIDAHph3QgAAAK3GoXdCAACAmW6rd0IAAACGFrV3QgAAgHK+vndCAAAAX2bId0IAAIBLDtJ3QgAAADi223dC\",\"dtype\":\"float64\",\"order\":\"little\",\"shape\":[12]},\"y\":{\"__ndarray__\":\"AAAAAACUn0AAAAAAAJSfQAAAAAAAlJ9AAAAAAACUn0AAAAAAAJSfQAAAAAAAlJ9AAAAAAACUn0AAAAAAAJSfQAAAAAAAlJ9AAAAAAACUn0AAAAAAAJSfQAAAAAAAlJ9A\",\"dtype\":\"float64\",\"order\":\"little\",\"shape\":[12]}},\"selected\":{\"id\":\"1069\"},\"selection_policy\":{\"id\":\"1068\"}},\"id\":\"1043\",\"type\":\"ColumnDataSource\"},{\"attributes\":{\"months\":[0,6]},\"id\":\"1083\",\"type\":\"MonthsTicker\"},{\"attributes\":{\"days\":[1,8,15,22]},\"id\":\"1078\",\"type\":\"DaysTicker\"},{\"attributes\":{},\"id\":\"1064\",\"type\":\"DatetimeTickFormatter\"},{\"attributes\":{\"data\":{\"color\":[\"#ff7700\",\"#1f9ce9\",\"#137fc1\",\"#1f9ce9\",\"#137fc1\",\"#1f9ce9\",\"#137fc1\",\"#1f9ce9\",\"#137fc1\",\"#1f9ce9\",\"#137fc1\",\"#1f9ce9\"],\"desc\":[\"2022-01-04 -> 2022-02-03\",\"2022-02-03 -> 2022-03-05\",\"2022-03-05 -> 2022-04-04\",\"2022-04-04 -> 2022-05-04\",\"2022-05-04 -> 2022-06-03\",\"2022-06-03 -> 2022-07-03\",\"2022-07-03 -> 2022-08-02\",\"2022-08-02 -> 2022-09-01\",\"2022-09-01 -> 2022-10-01\",\"2022-10-01 -> 2022-10-31\",\"2022-10-31 -> 2022-11-30\",\"2022-11-30 -> 2022-12-30\"],\"height\":{\"__ndarray__\":\"mpmZmZmZ6T+amZmZmZnpP5qZmZmZmek/mpmZmZmZ6T+amZmZmZnpP5qZmZmZmek/mpmZmZmZ6T+amZmZmZnpP5qZmZmZmek/mpmZmZmZ6T+amZmZmZnpP5qZmZmZmek/\",\"dtype\":\"float64\",\"order\":\"little\",\"shape\":[12]},\"type\":[\"Target\",\"Precursor\",\"Precursor\",\"Precursor\",\"Precursor\",\"Precursor\",\"Precursor\",\"Precursor\",\"Precursor\",\"Precursor\",\"Precursor\",\"Precursor\"],\"width\":[2592000000.0,2592000000.0,2592000000.0,2592000000.0,2592000000.0,2592000000.0,2592000000.0,2592000000.0,2592000000.0,2592000000.0,2592000000.0,2592000000.0],\"width_days\":[30,30,30,30,30,30,30,30,30,30,30,30],\"x\":{\"__ndarray__\":\"AABAIfrmd0IAAMANovB3QgAAQPpJ+ndCAADA5vEDeEIAAEDTmQ14QgAAwL9BF3hCAABArOkgeEIAAMCYkSp4QgAAQIU5NHhCAADAceE9eEIAAEBeiUd4QgAAwEoxUXhC\",\"dtype\":\"float64\",\"order\":\"little\",\"shape\":[12]},\"y\":{\"__ndarray__\":\"AAAAAACYn0AAAAAAAJifQAAAAAAAmJ9AAAAAAACYn0AAAAAAAJifQAAAAAAAmJ9AAAAAAACYn0AAAAAAAJifQAAAAAAAmJ9AAAAAAACYn0AAAAAAAJifQAAAAAAAmJ9A\",\"dtype\":\"float64\",\"order\":\"little\",\"shape\":[12]}},\"selected\":{\"id\":\"1067\"},\"selection_policy\":{\"id\":\"1066\"}},\"id\":\"1036\",\"type\":\"ColumnDataSource\"},{\"attributes\":{},\"id\":\"1024\",\"type\":\"ResetTool\"},{\"attributes\":{},\"id\":\"1065\",\"type\":\"AllLabels\"},{\"attributes\":{},\"id\":\"1023\",\"type\":\"SaveTool\"},{\"attributes\":{\"months\":[0,4,8]},\"id\":\"1082\",\"type\":\"MonthsTicker\"},{\"attributes\":{\"tools\":[{\"id\":\"1020\"},{\"id\":\"1021\"},{\"id\":\"1022\"},{\"id\":\"1023\"},{\"id\":\"1024\"},{\"id\":\"1025\"},{\"id\":\"1027\"}]},\"id\":\"1028\",\"type\":\"Toolbar\"},{\"attributes\":{\"fill_alpha\":{\"value\":0.1},\"fill_color\":{\"field\":\"color\"},\"hatch_alpha\":{\"value\":0.1},\"height\":{\"field\":\"height\"},\"line_alpha\":{\"value\":0.1},\"line_color\":{\"value\":\"#000000\"},\"line_width\":{\"value\":1.5},\"width\":{\"field\":\"width\"},\"x\":{\"field\":\"x\"},\"y\":{\"field\":\"y\"}},\"id\":\"1039\",\"type\":\"Rect\"},{\"attributes\":{\"fill_alpha\":{\"value\":0.7},\"fill_color\":{\"field\":\"color\"},\"height\":{\"field\":\"height\"},\"line_color\":{\"value\":\"#000000\"},\"line_width\":{\"value\":1.5},\"width\":{\"field\":\"width\"},\"x\":{\"field\":\"x\"},\"y\":{\"field\":\"y\"}},\"id\":\"1045\",\"type\":\"Rect\"},{\"attributes\":{\"bottom_units\":\"screen\",\"coordinates\":null,\"fill_alpha\":0.5,\"fill_color\":\"lightgrey\",\"group\":null,\"left_units\":\"screen\",\"level\":\"overlay\",\"line_alpha\":1.0,\"line_color\":\"black\",\"line_dash\":[4,4],\"line_width\":2,\"right_units\":\"screen\",\"syncable\":false,\"top_units\":\"screen\"},\"id\":\"1026\",\"type\":\"BoxAnnotation\"},{\"attributes\":{\"fill_alpha\":{\"value\":0.2},\"fill_color\":{\"field\":\"color\"},\"hatch_alpha\":{\"value\":0.2},\"height\":{\"field\":\"height\"},\"line_alpha\":{\"value\":0.2},\"line_color\":{\"value\":\"#000000\"},\"line_width\":{\"value\":1.5},\"width\":{\"field\":\"width\"},\"x\":{\"field\":\"x\"},\"y\":{\"field\":\"y\"}},\"id\":\"1040\",\"type\":\"Rect\"},{\"attributes\":{\"data\":{\"color\":[\"#ff7700\",\"#1f9ce9\",\"#137fc1\",\"#1f9ce9\",\"#137fc1\",\"#1f9ce9\",\"#137fc1\",\"#1f9ce9\",\"#137fc1\",\"#1f9ce9\",\"#137fc1\",\"#1f9ce9\"],\"desc\":[\"2020-01-05 -> 2020-02-04\",\"2020-02-04 -> 2020-03-05\",\"2020-03-05 -> 2020-04-04\",\"2020-04-04 -> 2020-05-04\",\"2020-05-04 -> 2020-06-03\",\"2020-06-03 -> 2020-07-03\",\"2020-07-03 -> 2020-08-02\",\"2020-08-02 -> 2020-09-01\",\"2020-09-01 -> 2020-10-01\",\"2020-10-01 -> 2020-10-31\",\"2020-10-31 -> 2020-11-30\",\"2020-11-30 -> 2020-12-30\"],\"height\":{\"__ndarray__\":\"mpmZmZmZ6T+amZmZmZnpP5qZmZmZmek/mpmZmZmZ6T+amZmZmZnpP5qZmZmZmek/mpmZmZmZ6T+amZmZmZnpP5qZmZmZmek/mpmZmZmZ6T+amZmZmZnpP5qZmZmZmek/\",\"dtype\":\"float64\",\"order\":\"little\",\"shape\":[12]},\"type\":[\"Target\",\"Precursor\",\"Precursor\",\"Precursor\",\"Precursor\",\"Precursor\",\"Precursor\",\"Precursor\",\"Precursor\",\"Precursor\",\"Precursor\",\"Precursor\"],\"width\":[2592000000.0,2592000000.0,2592000000.0,2592000000.0,2592000000.0,2592000000.0,2592000000.0,2592000000.0,2592000000.0,2592000000.0,2592000000.0,2592000000.0],\"width_days\":[30,30,30,30,30,30,30,30,30,30,30,30],\"x\":{\"__ndarray__\":\"AADA+wP8dkIAAEDoqwV3QgAAwNRTD3dCAABAwfsYd0IAAMCtoyJ3QgAAQJpLLHdCAADAhvM1d0IAAEBzmz93QgAAwF9DSXdCAABATOtSd0IAAMA4k1x3QgAAQCU7ZndC\",\"dtype\":\"float64\",\"order\":\"little\",\"shape\":[12]},\"y\":{\"__ndarray__\":\"AAAAAACQn0AAAAAAAJCfQAAAAAAAkJ9AAAAAAACQn0AAAAAAAJCfQAAAAAAAkJ9AAAAAAACQn0AAAAAAAJCfQAAAAAAAkJ9AAAAAAACQn0AAAAAAAJCfQAAAAAAAkJ9A\",\"dtype\":\"float64\",\"order\":\"little\",\"shape\":[12]}},\"selected\":{\"id\":\"1071\"},\"selection_policy\":{\"id\":\"1070\"}},\"id\":\"1050\",\"type\":\"ColumnDataSource\"},{\"attributes\":{\"fill_alpha\":{\"value\":0.7},\"fill_color\":{\"field\":\"color\"},\"height\":{\"field\":\"height\"},\"line_color\":{\"value\":\"#000000\"},\"line_width\":{\"value\":1.5},\"width\":{\"field\":\"width\"},\"x\":{\"field\":\"x\"},\"y\":{\"field\":\"y\"}},\"id\":\"1038\",\"type\":\"Rect\"},{\"attributes\":{\"source\":{\"id\":\"1043\"}},\"id\":\"1049\",\"type\":\"CDSView\"},{\"attributes\":{\"fill_alpha\":{\"value\":0.1},\"fill_color\":{\"field\":\"color\"},\"hatch_alpha\":{\"value\":0.1},\"height\":{\"field\":\"height\"},\"line_alpha\":{\"value\":0.1},\"line_color\":{\"value\":\"#000000\"},\"line_width\":{\"value\":1.5},\"width\":{\"field\":\"width\"},\"x\":{\"field\":\"x\"},\"y\":{\"field\":\"y\"}},\"id\":\"1046\",\"type\":\"Rect\"},{\"attributes\":{\"coordinates\":null,\"data_source\":{\"id\":\"1043\"},\"glyph\":{\"id\":\"1045\"},\"group\":null,\"hover_glyph\":null,\"muted_glyph\":{\"id\":\"1047\"},\"nonselection_glyph\":{\"id\":\"1046\"},\"view\":{\"id\":\"1049\"}},\"id\":\"1048\",\"type\":\"GlyphRenderer\"},{\"attributes\":{\"fill_alpha\":{\"value\":0.7},\"fill_color\":{\"field\":\"color\"},\"height\":{\"field\":\"height\"},\"line_color\":{\"value\":\"#000000\"},\"line_width\":{\"value\":1.5},\"width\":{\"field\":\"width\"},\"x\":{\"field\":\"x\"},\"y\":{\"field\":\"y\"}},\"id\":\"1052\",\"type\":\"Rect\"},{\"attributes\":{},\"id\":\"1061\",\"type\":\"BasicTickFormatter\"},{\"attributes\":{\"fill_alpha\":{\"value\":0.2},\"fill_color\":{\"field\":\"color\"},\"hatch_alpha\":{\"value\":0.2},\"height\":{\"field\":\"height\"},\"line_alpha\":{\"value\":0.2},\"line_color\":{\"value\":\"#000000\"},\"line_width\":{\"value\":1.5},\"width\":{\"field\":\"width\"},\"x\":{\"field\":\"x\"},\"y\":{\"field\":\"y\"}},\"id\":\"1047\",\"type\":\"Rect\"},{\"attributes\":{\"num_minor_ticks\":5,\"tickers\":[{\"id\":\"1073\"},{\"id\":\"1074\"},{\"id\":\"1075\"},{\"id\":\"1076\"},{\"id\":\"1077\"},{\"id\":\"1078\"},{\"id\":\"1079\"},{\"id\":\"1080\"},{\"id\":\"1081\"},{\"id\":\"1082\"},{\"id\":\"1083\"},{\"id\":\"1084\"}]},\"id\":\"1013\",\"type\":\"DatetimeTicker\"},{\"attributes\":{},\"id\":\"1008\",\"type\":\"LinearScale\"},{\"attributes\":{\"axis\":{\"id\":\"1012\"},\"coordinates\":null,\"group\":null,\"ticker\":null},\"id\":\"1015\",\"type\":\"Grid\"},{\"attributes\":{\"source\":{\"id\":\"1036\"}},\"id\":\"1042\",\"type\":\"CDSView\"},{\"attributes\":{},\"id\":\"1062\",\"type\":\"AllLabels\"},{\"attributes\":{},\"id\":\"1067\",\"type\":\"Selection\"},{\"attributes\":{\"fill_alpha\":{\"value\":0.2},\"fill_color\":{\"field\":\"color\"},\"hatch_alpha\":{\"value\":0.2},\"height\":{\"field\":\"height\"},\"line_alpha\":{\"value\":0.2},\"line_color\":{\"value\":\"#000000\"},\"line_width\":{\"value\":1.5},\"width\":{\"field\":\"width\"},\"x\":{\"field\":\"x\"},\"y\":{\"field\":\"y\"}},\"id\":\"1054\",\"type\":\"Rect\"},{\"attributes\":{\"axis_label\":\"Date\",\"coordinates\":null,\"formatter\":{\"id\":\"1064\"},\"group\":null,\"major_label_policy\":{\"id\":\"1065\"},\"ticker\":{\"id\":\"1013\"}},\"id\":\"1012\",\"type\":\"DatetimeAxis\"},{\"attributes\":{\"coordinates\":null,\"data_source\":{\"id\":\"1050\"},\"glyph\":{\"id\":\"1052\"},\"group\":null,\"hover_glyph\":null,\"muted_glyph\":{\"id\":\"1054\"},\"nonselection_glyph\":{\"id\":\"1053\"},\"view\":{\"id\":\"1056\"}},\"id\":\"1055\",\"type\":\"GlyphRenderer\"},{\"attributes\":{\"callback\":null,\"tooltips\":[[\"Interval\",\"@desc\"],[\"Size\",\"@width_days days\"],[\"Type\",\"@type\"]]},\"id\":\"1027\",\"type\":\"HoverTool\"},{\"attributes\":{},\"id\":\"1025\",\"type\":\"HelpTool\"},{\"attributes\":{},\"id\":\"1006\",\"type\":\"DataRange1d\"},{\"attributes\":{},\"id\":\"1010\",\"type\":\"LinearScale\"},{\"attributes\":{\"source\":{\"id\":\"1050\"}},\"id\":\"1056\",\"type\":\"CDSView\"},{\"attributes\":{\"axis_label\":\"Anchor year\",\"coordinates\":null,\"formatter\":{\"id\":\"1061\"},\"group\":null,\"major_label_policy\":{\"id\":\"1062\"},\"ticker\":{\"id\":\"1057\"}},\"id\":\"1016\",\"type\":\"LinearAxis\"},{\"attributes\":{\"fill_alpha\":{\"value\":0.1},\"fill_color\":{\"field\":\"color\"},\"hatch_alpha\":{\"value\":0.1},\"height\":{\"field\":\"height\"},\"line_alpha\":{\"value\":0.1},\"line_color\":{\"value\":\"#000000\"},\"line_width\":{\"value\":1.5},\"width\":{\"field\":\"width\"},\"x\":{\"field\":\"x\"},\"y\":{\"field\":\"y\"}},\"id\":\"1053\",\"type\":\"Rect\"},{\"attributes\":{\"axis\":{\"id\":\"1016\"},\"coordinates\":null,\"dimension\":1,\"group\":null,\"ticker\":null},\"id\":\"1019\",\"type\":\"Grid\"},{\"attributes\":{\"ticks\":[2022,2021,2020]},\"id\":\"1057\",\"type\":\"FixedTicker\"},{\"attributes\":{},\"id\":\"1066\",\"type\":\"UnionRenderers\"},{\"attributes\":{\"mantissas\":[1,2,5],\"max_interval\":500.0,\"num_minor_ticks\":0},\"id\":\"1073\",\"type\":\"AdaptiveTicker\"},{\"attributes\":{},\"id\":\"1021\",\"type\":\"WheelZoomTool\"},{\"attributes\":{\"coordinates\":null,\"group\":null},\"id\":\"1059\",\"type\":\"Title\"},{\"attributes\":{\"months\":[0,2,4,6,8,10]},\"id\":\"1081\",\"type\":\"MonthsTicker\"}],\"root_ids\":[\"1003\"]},\"title\":\"Bokeh Application\",\"version\":\"2.4.2\"}};\n  const render_items = [{\"docid\":\"d40e83f3-bcb3-4455-91ca-8e2056a39cdb\",\"root_ids\":[\"1003\"],\"roots\":{\"1003\":\"5a055db4-7401-4da6-9c37-9011fa622e29\"}}];\n  root.Bokeh.embed.embed_items_notebook(docs_json, render_items);\n\n  }\n  if (root.Bokeh !== undefined) {\n    embed_document(root);\n  } else {\n    let attempts = 0;\n    const timer = setInterval(function(root) {\n      if (root.Bokeh !== undefined) {\n        clearInterval(timer);\n        embed_document(root);\n      } else {\n        attempts++;\n        if (attempts > 100) {\n          clearInterval(timer);\n          console.log(\"Bokeh: ERROR: Unable to run BokehJS code because BokehJS library is missing\");\n        }\n      }\n    }, 10, root)\n  }\n})(window);",
      "application/vnd.bokehjs_exec.v0+json": ""
     },
     "metadata": {
      "application/vnd.bokehjs_exec.v0+json": {
       "id": "1003"
      }
     },
     "output_type": "display_data"
    }
   ],
   "source": [
    "from bokeh import io\n",
    "io.output_notebook()\n",
    "\n",
    "larger_calendar.visualize_interactive(relative_dates=False)"
   ]
  },
  {
   "cell_type": "markdown",
   "metadata": {},
   "source": [
    "Flatten the indices."
   ]
  },
  {
   "cell_type": "code",
   "execution_count": 7,
   "metadata": {},
   "outputs": [
    {
     "data": {
      "text/plain": [
       "anchor_year  i_interval\n",
       "2022         -3            [2022-03-05, 2022-06-03)\n",
       "             -2            [2022-06-03, 2022-09-01)\n",
       "             -1            [2022-09-01, 2022-11-30)\n",
       "              1            [2022-11-30, 2023-02-28)\n",
       "2021         -3            [2021-03-05, 2021-06-03)\n",
       "             -2            [2021-06-03, 2021-09-01)\n",
       "             -1            [2021-09-01, 2021-11-30)\n",
       "              1            [2021-11-30, 2022-02-28)\n",
       "2020         -3            [2020-03-05, 2020-06-03)\n",
       "             -2            [2020-06-03, 2020-09-01)\n",
       "             -1            [2020-09-01, 2020-11-30)\n",
       "              1            [2020-11-30, 2021-02-28)\n",
       "dtype: interval"
      ]
     },
     "execution_count": 7,
     "metadata": {},
     "output_type": "execute_result"
    }
   ],
   "source": [
    "intervals = calendar.map_years(2020, 2022).flat\n",
    "intervals"
   ]
  },
  {
   "cell_type": "markdown",
   "metadata": {},
   "source": [
    "Set the maximum lag"
   ]
  },
  {
   "cell_type": "code",
   "execution_count": 8,
   "metadata": {},
   "outputs": [
    {
     "data": {
      "text/html": [
       "<div>\n",
       "<style scoped>\n",
       "    .dataframe tbody tr th:only-of-type {\n",
       "        vertical-align: middle;\n",
       "    }\n",
       "\n",
       "    .dataframe tbody tr th {\n",
       "        vertical-align: top;\n",
       "    }\n",
       "\n",
       "    .dataframe thead th {\n",
       "        text-align: right;\n",
       "    }\n",
       "</style>\n",
       "<table border=\"1\" class=\"dataframe\">\n",
       "  <thead>\n",
       "    <tr style=\"text-align: right;\">\n",
       "      <th>i_interval</th>\n",
       "      <th>-2</th>\n",
       "      <th>-1</th>\n",
       "      <th>1</th>\n",
       "    </tr>\n",
       "    <tr>\n",
       "      <th>anchor_year</th>\n",
       "      <th></th>\n",
       "      <th></th>\n",
       "      <th></th>\n",
       "    </tr>\n",
       "  </thead>\n",
       "  <tbody>\n",
       "    <tr>\n",
       "      <th>2022</th>\n",
       "      <td>[2022-06-03, 2022-09-01)</td>\n",
       "      <td>[2022-09-01, 2022-11-30)</td>\n",
       "      <td>[2022-11-30, 2023-02-28)</td>\n",
       "    </tr>\n",
       "    <tr>\n",
       "      <th>2021</th>\n",
       "      <td>[2021-06-03, 2021-09-01)</td>\n",
       "      <td>[2021-09-01, 2021-11-30)</td>\n",
       "      <td>[2021-11-30, 2022-02-28)</td>\n",
       "    </tr>\n",
       "    <tr>\n",
       "      <th>2020</th>\n",
       "      <td>[2020-06-03, 2020-09-01)</td>\n",
       "      <td>[2020-09-01, 2020-11-30)</td>\n",
       "      <td>[2020-11-30, 2021-02-28)</td>\n",
       "    </tr>\n",
       "  </tbody>\n",
       "</table>\n",
       "</div>"
      ],
      "text/plain": [
       "i_interval                         -2                        -1  \\\n",
       "anchor_year                                                       \n",
       "2022         [2022-06-03, 2022-09-01)  [2022-09-01, 2022-11-30)   \n",
       "2021         [2021-06-03, 2021-09-01)  [2021-09-01, 2021-11-30)   \n",
       "2020         [2020-06-03, 2020-09-01)  [2020-09-01, 2020-11-30)   \n",
       "\n",
       "i_interval                          1  \n",
       "anchor_year                            \n",
       "2022         [2022-11-30, 2023-02-28)  \n",
       "2021         [2021-11-30, 2022-02-28)  \n",
       "2020         [2020-11-30, 2021-02-28)  "
      ]
     },
     "execution_count": 8,
     "metadata": {},
     "output_type": "execute_result"
    }
   ],
   "source": [
    "calendar.set_max_lag(2)\n",
    "calendar.show()"
   ]
  },
  {
   "cell_type": "markdown",
   "metadata": {},
   "source": [
    "Map the calendar to the input data."
   ]
  },
  {
   "cell_type": "code",
   "execution_count": 9,
   "metadata": {},
   "outputs": [
    {
     "data": {
      "text/html": [
       "<div>\n",
       "<style scoped>\n",
       "    .dataframe tbody tr th:only-of-type {\n",
       "        vertical-align: middle;\n",
       "    }\n",
       "\n",
       "    .dataframe tbody tr th {\n",
       "        vertical-align: top;\n",
       "    }\n",
       "\n",
       "    .dataframe thead th {\n",
       "        text-align: right;\n",
       "    }\n",
       "</style>\n",
       "<table border=\"1\" class=\"dataframe\">\n",
       "  <thead>\n",
       "    <tr style=\"text-align: right;\">\n",
       "      <th>i_interval</th>\n",
       "      <th>-2</th>\n",
       "      <th>-1</th>\n",
       "      <th>1</th>\n",
       "    </tr>\n",
       "    <tr>\n",
       "      <th>anchor_year</th>\n",
       "      <th></th>\n",
       "      <th></th>\n",
       "      <th></th>\n",
       "    </tr>\n",
       "  </thead>\n",
       "  <tbody>\n",
       "    <tr>\n",
       "      <th>2020</th>\n",
       "      <td>[2020-06-03, 2020-09-01)</td>\n",
       "      <td>[2020-09-01, 2020-11-30)</td>\n",
       "      <td>[2020-11-30, 2021-02-28)</td>\n",
       "    </tr>\n",
       "    <tr>\n",
       "      <th>2019</th>\n",
       "      <td>[2019-06-03, 2019-09-01)</td>\n",
       "      <td>[2019-09-01, 2019-11-30)</td>\n",
       "      <td>[2019-11-30, 2020-02-28)</td>\n",
       "    </tr>\n",
       "    <tr>\n",
       "      <th>2018</th>\n",
       "      <td>[2018-06-03, 2018-09-01)</td>\n",
       "      <td>[2018-09-01, 2018-11-30)</td>\n",
       "      <td>[2018-11-30, 2019-02-28)</td>\n",
       "    </tr>\n",
       "  </tbody>\n",
       "</table>\n",
       "</div>"
      ],
      "text/plain": [
       "i_interval                         -2                        -1  \\\n",
       "anchor_year                                                       \n",
       "2020         [2020-06-03, 2020-09-01)  [2020-09-01, 2020-11-30)   \n",
       "2019         [2019-06-03, 2019-09-01)  [2019-09-01, 2019-11-30)   \n",
       "2018         [2018-06-03, 2018-09-01)  [2018-09-01, 2018-11-30)   \n",
       "\n",
       "i_interval                          1  \n",
       "anchor_year                            \n",
       "2020         [2020-11-30, 2021-02-28)  \n",
       "2019         [2019-11-30, 2020-02-28)  \n",
       "2018         [2018-11-30, 2019-02-28)  "
      ]
     },
     "execution_count": 9,
     "metadata": {},
     "output_type": "execute_result"
    }
   ],
   "source": [
    "# create dummy data for testing\n",
    "time_index = pd.date_range('20171110', '20211211', freq='10d')\n",
    "var = np.random.random(len(time_index))\n",
    "# generate input data\n",
    "test_data = pd.Series(var, index=time_index)\n",
    "# map year to data\n",
    "calendar = calendar.map_to_data(test_data)\n",
    "calendar.show()"
   ]
  }
 ],
 "metadata": {
  "kernelspec": {
   "display_name": "Python 3.8.5 ('base')",
   "language": "python",
   "name": "python3"
  },
  "language_info": {
   "codemirror_mode": {
    "name": "ipython",
    "version": 3
   },
   "file_extension": ".py",
   "mimetype": "text/x-python",
   "name": "python",
   "nbconvert_exporter": "python",
   "pygments_lexer": "ipython3",
   "version": "3.8.5"
  },
  "orig_nbformat": 4,
  "vscode": {
   "interpreter": {
    "hash": "e7604e8ec5f09e490e10161e37a4725039efd3ab703d81b1b8a1e00d6741866c"
   }
  }
 },
 "nbformat": 4,
 "nbformat_minor": 2
}
