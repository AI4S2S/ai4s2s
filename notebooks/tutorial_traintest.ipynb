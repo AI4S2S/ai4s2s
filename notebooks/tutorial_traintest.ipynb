{
 "cells": [
  {
   "cell_type": "markdown",
   "metadata": {},
   "source": [
    "### TrainTest splitters operating on (multiple) xarray dataarrays"
   ]
  },
  {
   "cell_type": "code",
   "execution_count": 1,
   "metadata": {},
   "outputs": [
    {
     "name": "stdout",
     "output_type": "stream",
     "text": [
      "<xarray.DataArray 'precursor1' (time: 50)>\n",
      "-0.08806 -1.723 -1.14 -0.0535 0.6887 ... 0.6837 -0.523 -1.067 0.5144 0.1049\n",
      "Coordinates:\n",
      "  * time     (time) datetime64[ns] 2015-10-20 2015-12-19 ... 2023-11-07\n"
     ]
    }
   ],
   "source": [
    "# Create dummy data\n",
    "import numpy as np\n",
    "import pandas as pd\n",
    "import xarray as xr\n",
    "\n",
    "# Hide the full data when displaying a dataset in the notebook\n",
    "xr.set_options(display_expand_data=False) \n",
    "\n",
    "n = 50\n",
    "time_index = pd.date_range(\"20151020\", periods=n, freq=\"60d\")\n",
    "time_coord = {\"time\": time_index}\n",
    "x1 = xr.DataArray(np.random.randn(n), coords=time_coord, name=\"precursor1\")\n",
    "x2 = xr.DataArray(np.random.randn(n), coords=time_coord, name=\"precursor2\")\n",
    "y = xr.DataArray(np.random.randn(n), coords=time_coord, name=\"target\")\n",
    "print(x1)"
   ]
  },
  {
   "cell_type": "code",
   "execution_count": 2,
   "metadata": {},
   "outputs": [
    {
     "name": "stdout",
     "output_type": "stream",
     "text": [
      "<xarray.Dataset>\n",
      "Dimensions:      (anchor_year: 8, i_interval: 2)\n",
      "Coordinates:\n",
      "  * anchor_year  (anchor_year) int64 2016 2017 2018 2019 2020 2021 2022 2023\n",
      "  * i_interval   (i_interval) int64 0 1\n",
      "    index        (anchor_year, i_interval) int64 0 1 2 3 4 5 ... 11 12 13 14 15\n",
      "    interval     (anchor_year, i_interval) object (2016-04-18, 2016-10-15] .....\n",
      "    target       (i_interval) bool True False\n",
      "Data variables:\n",
      "    precursor1   (anchor_year, i_interval) float64 0.9591 -0.9723 ... 0.5215\n"
     ]
    }
   ],
   "source": [
    "# Fit to calendar\n",
    "import s2spy.time\n",
    "\n",
    "calendar = s2spy.time.AdventCalendar(anchor=(10, 15), freq=\"180d\")\n",
    "calendar.map_to_data(x1)  # TODO: would be nice to pass in multiple at once.\n",
    "x1 = s2spy.time.resample(calendar, x1)\n",
    "x2 = s2spy.time.resample(calendar, x2)\n",
    "y = s2spy.time.resample(calendar, y)\n",
    "\n",
    "print(x1)"
   ]
  },
  {
   "cell_type": "code",
   "execution_count": 3,
   "metadata": {},
   "outputs": [
    {
     "name": "stdout",
     "output_type": "stream",
     "text": [
      "Train: [2019 2020 2021 2022 2023]\n",
      "Test: [2016 2017 2018]\n",
      "Train: [2016 2017 2018 2022 2023]\n",
      "Test: [2019 2020 2021]\n",
      "Train: [2016 2017 2018 2019 2020 2021]\n",
      "Test: [2022 2023]\n",
      "<xarray.Dataset>\n",
      "Dimensions:      (anchor_year: 6, i_interval: 2)\n",
      "Coordinates:\n",
      "  * anchor_year  (anchor_year) int64 2016 2017 2018 2019 2020 2021\n",
      "  * i_interval   (i_interval) int64 0 1\n",
      "    index        (anchor_year, i_interval) int64 0 1 2 3 4 5 6 7 8 9 10 11\n",
      "    interval     (anchor_year, i_interval) object (2016-04-18, 2016-10-15] .....\n",
      "    target       (i_interval) bool True False\n",
      "Data variables:\n",
      "    precursor1   (anchor_year, i_interval) float64 0.9591 -0.9723 ... 0.7427\n"
     ]
    }
   ],
   "source": [
    "# Cross-validation\n",
    "from sklearn.model_selection import KFold\n",
    "import s2spy.traintest\n",
    "\n",
    "kfold = KFold(n_splits=3)\n",
    "cv = s2spy.traintest.TrainTestSplit(kfold)\n",
    "for (x1_train, x2_train), (x1_test, x2_test), y_train, y_test in cv.split(x1, x2, y=y):\n",
    "    print(\"Train:\", x1_train.anchor_year.values)\n",
    "    print(\"Test:\", x1_test.anchor_year.values)\n",
    "\n",
    "print(x1_train)"
   ]
  },
  {
   "cell_type": "code",
   "execution_count": 4,
   "metadata": {},
   "outputs": [
    {
     "name": "stdout",
     "output_type": "stream",
     "text": [
      "Train: [2019 2020 2021 2022 2023]\n",
      "Test: [2016 2017 2018]\n",
      "Train: [2016 2017 2018 2022 2023]\n",
      "Test: [2019 2020 2021]\n",
      "Train: [2016 2017 2018 2019 2020 2021]\n",
      "Test: [2022 2023]\n"
     ]
    }
   ],
   "source": [
    "# Alternative using shorthand notation\n",
    "x = [x1, x2]\n",
    "for x_train, x_test, y_train, y_test in cv.split(*x, y=y):\n",
    "    x1_train, x2_train = x_train\n",
    "    x1_test, x2_test = x_test\n",
    "    print(\"Train:\", x1_train.anchor_year.values)\n",
    "    print(\"Test:\", x1_test.anchor_year.values)"
   ]
  }
 ],
 "metadata": {
  "kernelspec": {
   "display_name": "Python 3.10.4 ('s2spy')",
   "language": "python",
   "name": "python3"
  },
  "language_info": {
   "codemirror_mode": {
    "name": "ipython",
    "version": 3
   },
   "file_extension": ".py",
   "mimetype": "text/x-python",
   "name": "python",
   "nbconvert_exporter": "python",
   "pygments_lexer": "ipython3",
   "version": "3.10.4"
  },
  "vscode": {
   "interpreter": {
    "hash": "75b43b2972bdb7cd80f19e4aebc989c8f2c7548418f83a89e59c4de7796f1b19"
   }
  }
 },
 "nbformat": 4,
 "nbformat_minor": 4
}
