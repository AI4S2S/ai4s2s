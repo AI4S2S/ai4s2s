{
 "cells": [
  {
   "cell_type": "markdown",
   "metadata": {},
   "source": [
    "### Tutorial on how to use the train/test method listed in the s2s `traintest` module\n",
    "\n",
    "For cross-validation, we choose the train/test splitting method in the s2s `time` module and get the split groups.\n",
    "\n",
    "We start by importing the required libraries and generating an example `AdventCalendar`."
   ]
  },
  {
   "cell_type": "code",
   "execution_count": 1,
   "metadata": {},
   "outputs": [],
   "source": [
    "import s2s.time"
   ]
  },
  {
   "cell_type": "code",
   "execution_count": 2,
   "metadata": {},
   "outputs": [
    {
     "data": {
      "text/plain": [
       "anchor_year  i_interval\n",
       "2021         0             (2021-04-18, 2021-10-15]\n",
       "             1             (2020-10-20, 2021-04-18]\n",
       "2020         0             (2020-04-18, 2020-10-15]\n",
       "             1             (2019-10-21, 2020-04-18]\n",
       "2019         0             (2019-04-18, 2019-10-15]\n",
       "             1             (2018-10-20, 2019-04-18]\n",
       "dtype: interval"
      ]
     },
     "execution_count": 2,
     "metadata": {},
     "output_type": "execute_result"
    }
   ],
   "source": [
    "calendar = s2s.time.AdventCalendar(anchor_date=(10, 15), freq='180d')\n",
    "intervals = calendar.map_years(2019, 2021).flat\n",
    "intervals"
   ]
  },
  {
   "cell_type": "markdown",
   "metadata": {},
   "source": [
    "Example of `kfold` method."
   ]
  },
  {
   "cell_type": "code",
   "execution_count": 3,
   "metadata": {},
   "outputs": [],
   "source": [
    "calendar.set_traintest_method(\"kfold\", n_splits = 2)"
   ]
  },
  {
   "cell_type": "markdown",
   "metadata": {},
   "source": [
    "Get train/test groups."
   ]
  },
  {
   "cell_type": "code",
   "execution_count": 4,
   "metadata": {},
   "outputs": [
    {
     "data": {
      "text/html": [
       "<div>\n",
       "<style scoped>\n",
       "    .dataframe tbody tr th:only-of-type {\n",
       "        vertical-align: middle;\n",
       "    }\n",
       "\n",
       "    .dataframe tbody tr th {\n",
       "        vertical-align: top;\n",
       "    }\n",
       "\n",
       "    .dataframe thead th {\n",
       "        text-align: right;\n",
       "    }\n",
       "</style>\n",
       "<table border=\"1\" class=\"dataframe\">\n",
       "  <thead>\n",
       "    <tr style=\"text-align: right;\">\n",
       "      <th></th>\n",
       "      <th></th>\n",
       "      <th></th>\n",
       "      <th>0</th>\n",
       "      <th>1</th>\n",
       "    </tr>\n",
       "    <tr>\n",
       "      <th>anchor_year</th>\n",
       "      <th>fold_0</th>\n",
       "      <th>fold_1</th>\n",
       "      <th></th>\n",
       "      <th></th>\n",
       "    </tr>\n",
       "  </thead>\n",
       "  <tbody>\n",
       "    <tr>\n",
       "      <th>2021</th>\n",
       "      <th>test</th>\n",
       "      <th>train</th>\n",
       "      <td>(2021-04-18, 2021-10-15]</td>\n",
       "      <td>(2020-10-20, 2021-04-18]</td>\n",
       "    </tr>\n",
       "    <tr>\n",
       "      <th>2020</th>\n",
       "      <th>test</th>\n",
       "      <th>train</th>\n",
       "      <td>(2020-04-18, 2020-10-15]</td>\n",
       "      <td>(2019-10-21, 2020-04-18]</td>\n",
       "    </tr>\n",
       "    <tr>\n",
       "      <th>2019</th>\n",
       "      <th>train</th>\n",
       "      <th>test</th>\n",
       "      <td>(2019-04-18, 2019-10-15]</td>\n",
       "      <td>(2018-10-20, 2019-04-18]</td>\n",
       "    </tr>\n",
       "  </tbody>\n",
       "</table>\n",
       "</div>"
      ],
      "text/plain": [
       "                                                  0                         1\n",
       "anchor_year fold_0 fold_1                                                    \n",
       "2021        test   train   (2021-04-18, 2021-10-15]  (2020-10-20, 2021-04-18]\n",
       "2020        test   train   (2020-04-18, 2020-10-15]  (2019-10-21, 2020-04-18]\n",
       "2019        train  test    (2019-04-18, 2019-10-15]  (2018-10-20, 2019-04-18]"
      ]
     },
     "execution_count": 4,
     "metadata": {},
     "output_type": "execute_result"
    }
   ],
   "source": [
    "traintest_group = calendar.traintest\n",
    "traintest_group"
   ]
  }
 ],
 "metadata": {
  "kernelspec": {
   "display_name": "Python 3.8.5 ('base')",
   "language": "python",
   "name": "python3"
  },
  "language_info": {
   "codemirror_mode": {
    "name": "ipython",
    "version": 3
   },
   "file_extension": ".py",
   "mimetype": "text/x-python",
   "name": "python",
   "nbconvert_exporter": "python",
   "pygments_lexer": "ipython3",
   "version": "3.8.5"
  },
  "orig_nbformat": 4,
  "vscode": {
   "interpreter": {
    "hash": "e7604e8ec5f09e490e10161e37a4725039efd3ab703d81b1b8a1e00d6741866c"
   }
  }
 },
 "nbformat": 4,
 "nbformat_minor": 2
}
