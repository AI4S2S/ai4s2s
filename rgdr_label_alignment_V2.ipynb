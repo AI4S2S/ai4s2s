{
 "cells": [
  {
   "cell_type": "code",
   "execution_count": 54,
   "metadata": {},
   "outputs": [],
   "source": [
    "import xarray as xr\n",
    "import matplotlib.pyplot as plt\n",
    "import numpy as np\n",
    "import s2spy.time\n",
    "import s2spy.rgdr\n",
    "from s2spy import RGDR\n",
    "from s2spy.rgdr import utils\n",
    "from sklearn.model_selection import ShuffleSplit\n",
    "import s2spy.traintest\n",
    "\n",
    "import matplotlib as mpl\n",
    "import pandas as pd\n",
    "\n",
    "\n",
    "file_path = '../s2spy/tests/test_rgdr/test_data'\n",
    "field = xr.open_dataset(f'{file_path}/sst_daily_1979-2018_5deg_Pacific_175_240E_25_50N.nc')\n",
    "target_data = xr.open_dataset(f'{file_path}/tf5_nc5_dendo_80d77.nc').sel(cluster=3)\n",
    "\n",
    "cal = s2spy.time.AdventCalendar((8, 31), freq = \"30d\")\n",
    "cal = cal.map_to_data(field)\n",
    "field_resampled = s2spy.time.resample(cal, field)\n",
    "target_resampled = s2spy.time.resample(cal, target_data)"
   ]
  },
  {
   "cell_type": "code",
   "execution_count": 55,
   "metadata": {},
   "outputs": [],
   "source": [
    "precursor = field_resampled.isel(i_interval=0)\n",
    "target = target_resampled.isel(i_interval=5)"
   ]
  },
  {
   "cell_type": "code",
   "execution_count": 56,
   "metadata": {},
   "outputs": [],
   "source": [
    "seed = 1 #same 'randomness'\n",
    "n_splits = 4\n",
    "\n",
    "shufflesplit = ShuffleSplit(n_splits=n_splits, test_size=0.25, random_state = seed)\n",
    "cv = s2spy.traintest.TrainTestSplit(shufflesplit)"
   ]
  },
  {
   "cell_type": "code",
   "execution_count": 57,
   "metadata": {},
   "outputs": [],
   "source": [
    "target_timeseries_splits = []\n",
    "precursor_field_splits = []\n",
    "for x_train, x_test, y_train, y_test in cv.split(precursor, y=target):\n",
    "    target_timeseries_splits.append(target.sel(anchor_year=x_train.anchor_year.values).ts)\n",
    "    precursor_field_splits.append(precursor.sel(anchor_year=x_train.anchor_year.values).sst)"
   ]
  },
  {
   "cell_type": "code",
   "execution_count": 58,
   "metadata": {},
   "outputs": [],
   "source": [
    "rgdr = RGDR(eps_km=800, alpha=0.10, min_area_km2=2600**2)"
   ]
  },
  {
   "cell_type": "code",
   "execution_count": 59,
   "metadata": {},
   "outputs": [
    {
     "data": {
      "image/png": "[encoded data removed]",
      "text/plain": [
       "<Figure size 432x576 with 8 Axes>"
      ]
     },
     "metadata": {
      "needs_background": "light"
     },
     "output_type": "display_data"
    }
   ],
   "source": [
    "fig, axs = plt.subplots(\n",
    "    ncols=1,\n",
    "    nrows=n_splits,\n",
    "    figsize=(6, 2*n_splits),\n",
    "    gridspec_kw={'hspace':0.6}\n",
    ")\n",
    "\n",
    "for split in range(n_splits):\n",
    "    _ = rgdr.preview_clusters(\n",
    "        precursor_field_splits[split],\n",
    "        target_timeseries_splits[split], \n",
    "        ax=axs[split],\n",
    "        cmap='viridis',\n",
    "        vmin=-2,\n",
    "        vmax=2\n",
    "    )"
   ]
  },
  {
   "cell_type": "code",
   "execution_count": 61,
   "metadata": {},
   "outputs": [],
   "source": [
    "for split in range(n_splits):\n",
    "    # do rgdr clustering for every split\n",
    "    clusters = rgdr.get_clusters(precursor_field_splits[split], target_timeseries_splits[split])\n",
    "    clusters = utils.cluster_labels_to_ints(clusters)\n",
    "    \n",
    "    rgdr_out = rgdr.fit_transform(precursor_field_splits[split], target_timeseries_splits[split])\n",
    "    #create new array of only the cluster labels with dimension split\n",
    "    if split == 0:\n",
    "        cluster_labels = clusters.cluster_labels.expand_dims({'split':1})\n",
    "        rgdr_output = rgdr_out.expand_dims({\"split\": 1})\n",
    "    else:\n",
    "        cluster_labels = xr.concat([cluster_labels,clusters.cluster_labels],'split')\n",
    "        rgdr_output = xr.concat([rgdr_output, rgdr_out], \"split\")"
   ]
  },
  {
   "cell_type": "code",
   "execution_count": 64,
   "metadata": {},
   "outputs": [
    {
     "data": {
      "text/html": [
       "<div>\n",
       "<style scoped>\n",
       "    .dataframe tbody tr th:only-of-type {\n",
       "        vertical-align: middle;\n",
       "    }\n",
       "\n",
       "    .dataframe tbody tr th {\n",
       "        vertical-align: top;\n",
       "    }\n",
       "\n",
       "    .dataframe thead tr th {\n",
       "        text-align: left;\n",
       "    }\n",
       "\n",
       "    .dataframe thead tr:last-of-type th {\n",
       "        text-align: right;\n",
       "    }\n",
       "</style>\n",
       "<table border=\"1\" class=\"dataframe\">\n",
       "  <thead>\n",
       "    <tr>\n",
       "      <th></th>\n",
       "      <th>split</th>\n",
       "      <th colspan=\"2\" halign=\"left\">0</th>\n",
       "      <th>1</th>\n",
       "      <th colspan=\"2\" halign=\"left\">2</th>\n",
       "      <th colspan=\"2\" halign=\"left\">3</th>\n",
       "    </tr>\n",
       "    <tr>\n",
       "      <th></th>\n",
       "      <th>label</th>\n",
       "      <th>-1</th>\n",
       "      <th>1</th>\n",
       "      <th>1</th>\n",
       "      <th>-1</th>\n",
       "      <th>1</th>\n",
       "      <th>-1</th>\n",
       "      <th>1</th>\n",
       "    </tr>\n",
       "    <tr>\n",
       "      <th>split</th>\n",
       "      <th>label</th>\n",
       "      <th></th>\n",
       "      <th></th>\n",
       "      <th></th>\n",
       "      <th></th>\n",
       "      <th></th>\n",
       "      <th></th>\n",
       "      <th></th>\n",
       "    </tr>\n",
       "  </thead>\n",
       "  <tbody>\n",
       "    <tr>\n",
       "      <th rowspan=\"2\" valign=\"top\">0</th>\n",
       "      <th>-1</th>\n",
       "      <td>NaN</td>\n",
       "      <td>NaN</td>\n",
       "      <td>NaN</td>\n",
       "      <td>0.0</td>\n",
       "      <td>NaN</td>\n",
       "      <td>0.333333</td>\n",
       "      <td>NaN</td>\n",
       "    </tr>\n",
       "    <tr>\n",
       "      <th>1</th>\n",
       "      <td>NaN</td>\n",
       "      <td>NaN</td>\n",
       "      <td>1.00</td>\n",
       "      <td>NaN</td>\n",
       "      <td>1.0</td>\n",
       "      <td>NaN</td>\n",
       "      <td>1.00</td>\n",
       "    </tr>\n",
       "    <tr>\n",
       "      <th>1</th>\n",
       "      <th>1</th>\n",
       "      <td>NaN</td>\n",
       "      <td>1.00</td>\n",
       "      <td>NaN</td>\n",
       "      <td>NaN</td>\n",
       "      <td>1.0</td>\n",
       "      <td>NaN</td>\n",
       "      <td>1.00</td>\n",
       "    </tr>\n",
       "    <tr>\n",
       "      <th rowspan=\"2\" valign=\"top\">2</th>\n",
       "      <th>-1</th>\n",
       "      <td>0.0</td>\n",
       "      <td>NaN</td>\n",
       "      <td>NaN</td>\n",
       "      <td>NaN</td>\n",
       "      <td>NaN</td>\n",
       "      <td>0.000000</td>\n",
       "      <td>NaN</td>\n",
       "    </tr>\n",
       "    <tr>\n",
       "      <th>1</th>\n",
       "      <td>NaN</td>\n",
       "      <td>0.75</td>\n",
       "      <td>0.75</td>\n",
       "      <td>NaN</td>\n",
       "      <td>NaN</td>\n",
       "      <td>NaN</td>\n",
       "      <td>0.75</td>\n",
       "    </tr>\n",
       "    <tr>\n",
       "      <th rowspan=\"2\" valign=\"top\">3</th>\n",
       "      <th>-1</th>\n",
       "      <td>1.0</td>\n",
       "      <td>NaN</td>\n",
       "      <td>NaN</td>\n",
       "      <td>0.0</td>\n",
       "      <td>NaN</td>\n",
       "      <td>NaN</td>\n",
       "      <td>NaN</td>\n",
       "    </tr>\n",
       "    <tr>\n",
       "      <th>1</th>\n",
       "      <td>NaN</td>\n",
       "      <td>0.60</td>\n",
       "      <td>0.60</td>\n",
       "      <td>NaN</td>\n",
       "      <td>0.6</td>\n",
       "      <td>NaN</td>\n",
       "      <td>NaN</td>\n",
       "    </tr>\n",
       "  </tbody>\n",
       "</table>\n",
       "</div>"
      ],
      "text/plain": [
       "split          0           1    2              3      \n",
       "label         -1     1     1   -1    1        -1     1\n",
       "split label                                           \n",
       "0     -1     NaN   NaN   NaN  0.0  NaN  0.333333   NaN\n",
       "       1     NaN   NaN  1.00  NaN  1.0       NaN  1.00\n",
       "1      1     NaN  1.00   NaN  NaN  1.0       NaN  1.00\n",
       "2     -1     0.0   NaN   NaN  NaN  NaN  0.000000   NaN\n",
       "       1     NaN  0.75  0.75  NaN  NaN       NaN  0.75\n",
       "3     -1     1.0   NaN   NaN  0.0  NaN       NaN   NaN\n",
       "       1     NaN  0.60  0.60  NaN  0.6       NaN   NaN"
      ]
     },
     "execution_count": 64,
     "metadata": {},
     "output_type": "execute_result"
    }
   ],
   "source": [
    "from s2spy.rgdr import label_alignment\n",
    "\n",
    "overlap_df = label_alignment.overlap_labels(cluster_labels)\n",
    "overlap_df = overlap_df.drop(columns='label_cell_count')\n",
    "overlap_df"
   ]
  },
  {
   "cell_type": "code",
   "execution_count": 65,
   "metadata": {},
   "outputs": [],
   "source": [
    "from typing import Set\n",
    "import string\n",
    "\n",
    "def get_overlapping_clusters(cluster_labels, min_overlap: float = 0.1):\n",
    "    overlap_df = label_alignment.overlap_labels(cluster_labels)\n",
    "    overlap_df = overlap_df.drop(columns='label_cell_count')\n",
    "    overlap_df.columns = [\n",
    "        '_'.join([str(el) for el in col]) for col in overlap_df.columns.values\n",
    "        ]  # type: ignore\n",
    "    overlap_df.index = [\n",
    "        '_'.join([str(el) for el in idx]) for idx in overlap_df.index.values\n",
    "        ]  # type: ignore\n",
    "\n",
    "    clusters = set()\n",
    "    for row in range(overlap_df.index.size): # type: ignore\n",
    "        overlapping = overlap_df.iloc[row].where(overlap_df.iloc[row] > min_overlap).dropna()\n",
    "        cluster = set(overlapping.index)\n",
    "        cluster.add(overlap_df.iloc[row].name)\n",
    "        clusters.add(frozenset(cluster))\n",
    "\n",
    "    return clusters\n",
    "\n",
    "def remove_subsets(clusters: Set):\n",
    "    no_subsets = set(clusters)\n",
    "    for cluster in clusters:\n",
    "        no_subsets.remove(cluster)\n",
    "        if not any(cluster.issubset(cl) for cl in no_subsets):\n",
    "            no_subsets.add(cluster)\n",
    "    return no_subsets\n",
    "\n",
    "def remove_overlapping_clusters(clusters: Set):\n",
    "    clusterlist = [set(cl) for cl in clusters]\n",
    "    clusterlist.sort(key=len)\n",
    "    sanitised_clusters = []\n",
    "    for _ in range(len(clusterlist)):\n",
    "        cluster = clusterlist.pop(0)\n",
    "        [cluster.difference_update(cl) for cl in clusterlist]\n",
    "        sanitised_clusters.append(cluster)\n",
    "    return {frozenset(cluster) for cluster in sanitised_clusters}\n",
    "\n",
    "def name_clusters(clusters: Set):\n",
    "    #Ensure a sufficiently long list of possible names\n",
    "    cluster_names = list(string.ascii_uppercase) + list(string.ascii_lowercase) \n",
    "\n",
    "    named_clusters = {}\n",
    "    for cluster in clusters:\n",
    "        name = cluster_names.pop(0)\n",
    "        named_clusters[name] = set(cluster)\n",
    "        \n",
    "    return named_clusters"
   ]
  },
  {
   "cell_type": "code",
   "execution_count": 66,
   "metadata": {},
   "outputs": [
    {
     "data": {
      "text/plain": [
       "{'A': {'0_-1', '3_-1'}, 'B': {'0_1', '1_1', '2_1', '3_1'}, 'C': {'2_-1'}}"
      ]
     },
     "execution_count": 66,
     "metadata": {},
     "output_type": "execute_result"
    }
   ],
   "source": [
    "aligned_clusters = get_overlapping_clusters(cluster_labels, min_overlap=0.01)\n",
    "aligned_clusters = remove_subsets(aligned_clusters)\n",
    "aligned_clusters = remove_overlapping_clusters(aligned_clusters)\n",
    "aligned_clusters = name_clusters(aligned_clusters)\n",
    "aligned_clusters"
   ]
  },
  {
   "cell_type": "code",
   "execution_count": 67,
   "metadata": {},
   "outputs": [
    {
     "data": {
      "text/plain": [
       "{'3_-1': 'A',\n",
       " '0_-1': 'A',\n",
       " '2_1': 'B',\n",
       " '0_1': 'B',\n",
       " '1_1': 'B',\n",
       " '3_1': 'B',\n",
       " '2_-1': 'C'}"
      ]
     },
     "execution_count": 67,
     "metadata": {},
     "output_type": "execute_result"
    }
   ],
   "source": [
    "inversed_names = {}\n",
    "for key in aligned_clusters:\n",
    "    for el in aligned_clusters[key]:\n",
    "        inversed_names[el] = key\n",
    "inversed_names"
   ]
  },
  {
   "cell_type": "code",
   "execution_count": 68,
   "metadata": {},
   "outputs": [
    {
     "data": {
      "text/plain": [
       "{3: [(-1, 'A'), (1, 'B')],\n",
       " 0: [(-1, 'A'), (1, 'B')],\n",
       " 2: [(1, 'B'), (-1, 'C')],\n",
       " 1: [(1, 'B')]}"
      ]
     },
     "execution_count": 68,
     "metadata": {},
     "output_type": "execute_result"
    }
   ],
   "source": [
    "renaming_dict = {}\n",
    "for key in inversed_names:\n",
    "    ky = key.split('_')\n",
    "    split = int(ky[0])\n",
    "    cluster = int(ky[1])\n",
    "    if split in renaming_dict.keys():\n",
    "        apd = renaming_dict[split] + [(cluster, inversed_names[key])]\n",
    "        renaming_dict[split] = apd\n",
    "    else:\n",
    "        renaming_dict[split] = [(cluster, inversed_names[key])]\n",
    "renaming_dict\n"
   ]
  },
  {
   "cell_type": "code",
   "execution_count": 93,
   "metadata": {},
   "outputs": [
    {
     "data": {
      "image/png": "[encoded data removed]",
      "text/plain": [
       "<Figure size 432x576 with 8 Axes>"
      ]
     },
     "metadata": {
      "needs_background": "light"
     },
     "output_type": "display_data"
    }
   ],
   "source": [
    "fig, axs = plt.subplots(\n",
    "    ncols=1,\n",
    "    nrows=n_splits,\n",
    "    figsize=(6, 2*n_splits),\n",
    "    gridspec_kw={'hspace':0.6}\n",
    ")\n",
    "\n",
    "for split in range(n_splits):\n",
    "    _ = rgdr.preview_clusters(\n",
    "        precursor_field_splits[split],\n",
    "        target_timeseries_splits[split], \n",
    "        ax=axs[split],\n",
    "        cmap='viridis',\n",
    "        vmin=-2,\n",
    "        vmax=2\n",
    "    )\n",
    "    for cl in renaming_dict[split]:\n",
    "        cluster = rgdr_output.isel(split=split).sel(cluster_labels=f\"lag:0_cluster:{cl[0]}\")\n",
    "        axs[split].text(x=cluster.longitude, y=cluster.latitude, s=cl[1], fontsize=16, va='center', ha='center')"
   ]
  },
  {
   "cell_type": "code",
   "execution_count": 131,
   "metadata": {},
   "outputs": [],
   "source": [
    "renamed = []\n",
    "for split in range(n_splits):\n",
    "    rgdr_split = rgdr_output.isel(split=split)\n",
    "    labels = rgdr_split['cluster_labels'].values\n",
    "    for cl in renaming_dict[split]:\n",
    "        if f\"lag:0_cluster:{cl[0]}\" not in labels:\n",
    "            break\n",
    "        labels[labels==f\"lag:0_cluster:{cl[0]}\"] = cl[1]\n",
    "    rgdr_split['cluster_labels'] = labels\n",
    "    renamed.append(rgdr_split)\n",
    "rgdr_aligned = xr.concat(renamed, \"split\")\n",
    "rgdr_aligned = rgdr_aligned.dropna(dim='cluster_labels', how='all')"
   ]
  },
  {
   "cell_type": "code",
   "execution_count": 153,
   "metadata": {},
   "outputs": [],
   "source": [
    "non_dim_coords = list(rgdr_aligned.isel(split=0).coords)[2:]\n",
    "split_dataframes = []\n",
    "for split in range(n_splits):\n",
    "    split_dataframes.append(\n",
    "        rgdr_aligned.isel(split=split).to_pandas().dropna(how='all')\n",
    "    )"
   ]
  },
  {
   "cell_type": "code",
   "execution_count": 161,
   "metadata": {},
   "outputs": [
    {
     "data": {
      "text/html": [
       "<div>\n",
       "<style scoped>\n",
       "    .dataframe tbody tr th:only-of-type {\n",
       "        vertical-align: middle;\n",
       "    }\n",
       "\n",
       "    .dataframe tbody tr th {\n",
       "        vertical-align: top;\n",
       "    }\n",
       "\n",
       "    .dataframe thead th {\n",
       "        text-align: right;\n",
       "    }\n",
       "</style>\n",
       "<table border=\"1\" class=\"dataframe\">\n",
       "  <thead>\n",
       "    <tr style=\"text-align: right;\">\n",
       "      <th>cluster_labels</th>\n",
       "      <th>A</th>\n",
       "      <th>B</th>\n",
       "      <th>C</th>\n",
       "    </tr>\n",
       "    <tr>\n",
       "      <th>anchor_year</th>\n",
       "      <th></th>\n",
       "      <th></th>\n",
       "      <th></th>\n",
       "    </tr>\n",
       "  </thead>\n",
       "  <tbody>\n",
       "    <tr>\n",
       "      <th>1980</th>\n",
       "      <td>289.704106</td>\n",
       "      <td>296.362443</td>\n",
       "      <td>NaN</td>\n",
       "    </tr>\n",
       "    <tr>\n",
       "      <th>1981</th>\n",
       "      <td>289.914271</td>\n",
       "      <td>294.638110</td>\n",
       "      <td>NaN</td>\n",
       "    </tr>\n",
       "    <tr>\n",
       "      <th>1984</th>\n",
       "      <td>289.568641</td>\n",
       "      <td>295.076624</td>\n",
       "      <td>NaN</td>\n",
       "    </tr>\n",
       "    <tr>\n",
       "      <th>1985</th>\n",
       "      <td>289.573436</td>\n",
       "      <td>296.090116</td>\n",
       "      <td>NaN</td>\n",
       "    </tr>\n",
       "    <tr>\n",
       "      <th>1986</th>\n",
       "      <td>290.288245</td>\n",
       "      <td>295.571885</td>\n",
       "      <td>NaN</td>\n",
       "    </tr>\n",
       "  </tbody>\n",
       "</table>\n",
       "</div>"
      ],
      "text/plain": [
       "cluster_labels           A           B   C\n",
       "anchor_year                               \n",
       "1980            289.704106  296.362443 NaN\n",
       "1981            289.914271  294.638110 NaN\n",
       "1984            289.568641  295.076624 NaN\n",
       "1985            289.573436  296.090116 NaN\n",
       "1986            290.288245  295.571885 NaN"
      ]
     },
     "execution_count": 161,
     "metadata": {},
     "output_type": "execute_result"
    }
   ],
   "source": [
    "split_dataframes[0].head()"
   ]
  },
  {
   "cell_type": "code",
   "execution_count": 159,
   "metadata": {},
   "outputs": [
    {
     "data": {
      "text/html": [
       "<div>\n",
       "<style scoped>\n",
       "    .dataframe tbody tr th:only-of-type {\n",
       "        vertical-align: middle;\n",
       "    }\n",
       "\n",
       "    .dataframe tbody tr th {\n",
       "        vertical-align: top;\n",
       "    }\n",
       "\n",
       "    .dataframe thead th {\n",
       "        text-align: right;\n",
       "    }\n",
       "</style>\n",
       "<table border=\"1\" class=\"dataframe\">\n",
       "  <thead>\n",
       "    <tr style=\"text-align: right;\">\n",
       "      <th>cluster_labels</th>\n",
       "      <th>A</th>\n",
       "      <th>B</th>\n",
       "      <th>C</th>\n",
       "    </tr>\n",
       "    <tr>\n",
       "      <th>anchor_year</th>\n",
       "      <th></th>\n",
       "      <th></th>\n",
       "      <th></th>\n",
       "    </tr>\n",
       "  </thead>\n",
       "  <tbody>\n",
       "    <tr>\n",
       "      <th>1980</th>\n",
       "      <td>NaN</td>\n",
       "      <td>295.105126</td>\n",
       "      <td>297.488609</td>\n",
       "    </tr>\n",
       "    <tr>\n",
       "      <th>1981</th>\n",
       "      <td>NaN</td>\n",
       "      <td>293.525182</td>\n",
       "      <td>297.666622</td>\n",
       "    </tr>\n",
       "    <tr>\n",
       "      <th>1982</th>\n",
       "      <td>NaN</td>\n",
       "      <td>294.420667</td>\n",
       "      <td>297.667070</td>\n",
       "    </tr>\n",
       "    <tr>\n",
       "      <th>1983</th>\n",
       "      <td>NaN</td>\n",
       "      <td>294.653440</td>\n",
       "      <td>297.327217</td>\n",
       "    </tr>\n",
       "    <tr>\n",
       "      <th>1984</th>\n",
       "      <td>NaN</td>\n",
       "      <td>293.627068</td>\n",
       "      <td>299.020338</td>\n",
       "    </tr>\n",
       "  </tbody>\n",
       "</table>\n",
       "</div>"
      ],
      "text/plain": [
       "cluster_labels   A           B           C\n",
       "anchor_year                               \n",
       "1980           NaN  295.105126  297.488609\n",
       "1981           NaN  293.525182  297.666622\n",
       "1982           NaN  294.420667  297.667070\n",
       "1983           NaN  294.653440  297.327217\n",
       "1984           NaN  293.627068  299.020338"
      ]
     },
     "execution_count": 159,
     "metadata": {},
     "output_type": "execute_result"
    }
   ],
   "source": [
    "split_dataframes[2].head()"
   ]
  },
  {
   "cell_type": "code",
   "execution_count": null,
   "metadata": {},
   "outputs": [],
   "source": []
  }
 ],
 "metadata": {
  "kernelspec": {
   "display_name": "Python 3.10.5 ('ai4s2s')",
   "language": "python",
   "name": "python3"
  },
  "language_info": {
   "codemirror_mode": {
    "name": "ipython",
    "version": 3
   },
   "file_extension": ".py",
   "mimetype": "text/x-python",
   "name": "python",
   "nbconvert_exporter": "python",
   "pygments_lexer": "ipython3",
   "version": "3.10.5"
  },
  "orig_nbformat": 4,
  "vscode": {
   "interpreter": {
    "hash": "a87ac8a6238ac8fffcd070769ea0ffc634a0ba702c52b706c3554dda7777b3fd"
   }
  }
 },
 "nbformat": 4,
 "nbformat_minor": 2
}
